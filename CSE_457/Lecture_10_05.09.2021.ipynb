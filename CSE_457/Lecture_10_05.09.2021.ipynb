{
 "cells": [
  {
   "cell_type": "markdown",
   "id": "52baf9fd-e990-4a17-ac41-cd1c14e9b4e6",
   "metadata": {},
   "source": [
    "<div class=\"alert alert-success\">\n",
    "    <b>Author</b>:\n",
    "\n",
    "      Rashik Rahman\n",
    "      17201012@uap-bd.edu\n",
    "\n",
    "</div>\n",
    "\n",
    "**[Click here to see class lecture](https://drive.google.com/file/d/1e7AkJAzbwctvr3wTqIMJOhxzzE5z-HFP/view)**\n"
   ]
  },
  {
   "cell_type": "markdown",
   "id": "aa176309-bb01-48a4-95f6-79490b3bc5b4",
   "metadata": {},
   "source": [
    "![](figs/194.PNG)\n",
    "\n",
    "fabrication means manufacture. \n",
    "\n",
    "![](figs/195.PNG)\n",
    "\n",
    "![](figs/196.PNG)\n",
    "\n",
    "![](figs/197.PNG)\n",
    "\n",
    "![](figs/198.PNG)\n",
    "\n",
    "![](figs/199.PNG)\n",
    "\n",
    "![](figs/200.PNG)\n"
   ]
  },
  {
   "cell_type": "markdown",
   "id": "4ca9b294-e8f2-417e-837b-bb12769c7081",
   "metadata": {},
   "source": []
  }
 ],
 "metadata": {
  "kernelspec": {
   "display_name": "Python 3",
   "language": "python",
   "name": "python3"
  },
  "language_info": {
   "codemirror_mode": {
    "name": "ipython",
    "version": 3
   },
   "file_extension": ".py",
   "mimetype": "text/x-python",
   "name": "python",
   "nbconvert_exporter": "python",
   "pygments_lexer": "ipython3",
   "version": "3.8.8"
  }
 },
 "nbformat": 4,
 "nbformat_minor": 5
}
