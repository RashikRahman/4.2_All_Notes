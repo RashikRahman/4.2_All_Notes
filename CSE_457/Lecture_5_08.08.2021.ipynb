{
 "cells": [
  {
   "cell_type": "markdown",
   "metadata": {},
   "source": [
    "<div class=\"alert alert-success\">\n",
    "    <b>Author</b>:\n",
    "\n",
    "      Rashik Rahman\n",
    "      17201012@uap-bd.edu\n",
    "\n",
    "</div>\n",
    "\n",
    "**[Click here to see class lecture](https://drive.google.com/file/d/1tgwDebRvnUTNn-_8cFcvqrQ_z1vZnBW2/view)**\n"
   ]
  },
  {
   "cell_type": "markdown",
   "metadata": {},
   "source": [
    "\n",
    "`MOSFET: Metal Oxyside Semiconductor Field Effect Transistor.`\n",
    "\n",
    "pull up is complement of pull down network.\n",
    "\n",
    "![](figs/46.PNG)\n",
    "\n",
    "higher noise margin is a good thing, it means low error rate. **Imp for viva or ct** These are the benefits of cmos. The reason we use cmos instead of nmos or pmos.\n",
    "\n",
    "![](figs/47.PNG)\n",
    "\n",
    "![](figs/48.PNG)\n",
    "\n",
    "![](figs/49.PNG)"
   ]
  },
  {
   "cell_type": "markdown",
   "metadata": {},
   "source": [
    "\n",
    "\n",
    "![](figs/50.PNG)\n",
    "\n",
    "![](figs/51.PNG)\n",
    "\n",
    "![](figs/52.PNG)\n",
    "\n",
    "![](figs/53.PNG)\n",
    "\n",
    "![](figs/54.PNG)\n",
    "\n",
    "![](figs/55.PNG)"
   ]
  },
  {
   "cell_type": "markdown",
   "metadata": {},
   "source": [
    "By using n-well we can get similer to input voltage in output.\n",
    "\n",
    "![](figs/56.PNG)\n",
    "\n",
    "![](figs/57.PNG)\n",
    "\n",
    "![](figs/58.PNG)\n",
    "\n",
    "In dry etching we get more accurate results but it is also expensive.\n",
    "\n",
    "![](figs/59.PNG)\n",
    "\n"
   ]
  },
  {
   "cell_type": "markdown",
   "metadata": {},
   "source": [
    "**Design of 4:1 MUX**\n",
    "\n",
    "![](figs/60.PNG)"
   ]
  },
  {
   "cell_type": "markdown",
   "metadata": {},
   "source": [
    "# End of lecture"
   ]
  }
 ],
 "metadata": {
  "kernelspec": {
   "display_name": "Python 3",
   "language": "python",
   "name": "python3"
  },
  "language_info": {
   "codemirror_mode": {
    "name": "ipython",
    "version": 3
   },
   "file_extension": ".py",
   "mimetype": "text/x-python",
   "name": "python",
   "nbconvert_exporter": "python",
   "pygments_lexer": "ipython3",
   "version": "3.8.8"
  }
 },
 "nbformat": 4,
 "nbformat_minor": 4
}
