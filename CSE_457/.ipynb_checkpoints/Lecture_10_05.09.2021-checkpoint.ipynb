{
 "cells": [
  {
   "cell_type": "markdown",
   "id": "52baf9fd-e990-4a17-ac41-cd1c14e9b4e6",
   "metadata": {},
   "source": [
    "<div class=\"alert alert-success\">\n",
    "    <b>Author</b>:\n",
    "\n",
    "      Rashik Rahman\n",
    "      17201012@uap-bd.edu\n",
    "\n",
    "</div>\n",
    "\n",
    "**[Click here to see class lecture](https://drive.google.com/file/d/1e7AkJAzbwctvr3wTqIMJOhxzzE5z-HFP/view)**\n"
   ]
  },
  {
   "cell_type": "markdown",
   "id": "aa176309-bb01-48a4-95f6-79490b3bc5b4",
   "metadata": {},
   "source": [
    "![](figs/194.PNG)\n",
    "\n",
    "fabrication means manufacture. \n",
    "\n",
    "![](figs/195.PNG)\n",
    "\n",
    "![](figs/196.PNG)\n",
    "\n",
    "![](figs/197.PNG)\n",
    "\n",
    "![](figs/198.PNG)\n",
    "\n",
    "![](figs/199.PNG)\n",
    "\n",
    "![](figs/200.PNG)\n",
    "\n",
    "![](figs/201.PNG)\n"
   ]
  },
  {
   "cell_type": "markdown",
   "id": "4ca9b294-e8f2-417e-837b-bb12769c7081",
   "metadata": {},
   "source": [
    "\n",
    "\n",
    "![](figs/202.PNG)\n",
    "\n",
    "![](figs/203.PNG)\n",
    "\n",
    "![](figs/204.PNG)\n",
    "\n",
    "![](figs/205.PNG)\n",
    "\n",
    "VHDL is like hardware programing.\n",
    "\n",
    "**how it works**\n",
    "\n",
    "![](figs/206.PNG)\n",
    "\n",
    "**Advantage & disadvantage**\n",
    "\n",
    "![](figs/207.PNG)\n",
    "\n",
    "![](figs/208.PNG)\n",
    "\n",
    "![](figs/209.PNG)\n",
    "\n",
    "\n"
   ]
  },
  {
   "cell_type": "markdown",
   "id": "2b3bf961-1a94-421d-b27f-9bf1f8d5f8ba",
   "metadata": {},
   "source": [
    "\n",
    "\n",
    "![](figs/210.PNG)\n",
    "\n",
    "![](figs/211.PNG)\n",
    "\n",
    "![](figs/212.PNG)\n",
    "\n",
    "![](figs/213.PNG)\n",
    "\n",
    "![](figs/214.PNG)\n",
    "\n",
    "![](figs/215.PNG)\n",
    "\n",
    "![](figs/216.PNG)"
   ]
  },
  {
   "cell_type": "markdown",
   "id": "e6f9fc6f-94f3-42ae-9f92-3388f629258d",
   "metadata": {},
   "source": [
    "# End of lecture!"
   ]
  }
 ],
 "metadata": {
  "kernelspec": {
   "display_name": "Python 3",
   "language": "python",
   "name": "python3"
  },
  "language_info": {
   "codemirror_mode": {
    "name": "ipython",
    "version": 3
   },
   "file_extension": ".py",
   "mimetype": "text/x-python",
   "name": "python",
   "nbconvert_exporter": "python",
   "pygments_lexer": "ipython3",
   "version": "3.8.8"
  }
 },
 "nbformat": 4,
 "nbformat_minor": 5
}
