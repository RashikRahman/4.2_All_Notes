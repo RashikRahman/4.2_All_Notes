{
 "cells": [
  {
   "cell_type": "markdown",
   "id": "8ee291ea-6b08-4af6-a577-3cabe75bf146",
   "metadata": {},
   "source": [
    "<div class=\"alert alert-success\">\n",
    "    <b>Author</b>:\n",
    "\n",
    "      Rashik Rahman\n",
    "      17201012@uap-bd.edu\n",
    "\n",
    "</div>\n",
    "\n",
    "**[Click here to see class lecture](https://drive.google.com/file/d/1LbW6W-Vyl9e9QUP8Bp8U0C55_vb--M4k/view)**\n",
    "\n"
   ]
  },
  {
   "cell_type": "code",
   "execution_count": 2,
   "id": "65424c3a-d999-445a-8858-f5d600ae145f",
   "metadata": {},
   "outputs": [
    {
     "data": {
      "text/html": [
       "<iframe src=\"https://drive.google.com/file/d/1LbW6W-Vyl9e9QUP8Bp8U0C55_vb--M4k/preview\" width=\"640\" height=\"480\" allow=\"autoplay\"></iframe>\n"
      ],
      "text/plain": [
       "<IPython.core.display.HTML object>"
      ]
     },
     "metadata": {},
     "output_type": "display_data"
    }
   ],
   "source": [
    "%%html\n",
    "<iframe src=\"https://drive.google.com/file/d/1LbW6W-Vyl9e9QUP8Bp8U0C55_vb--M4k/preview\" width=\"640\" height=\"480\" allow=\"autoplay\"></iframe>"
   ]
  },
  {
   "cell_type": "markdown",
   "id": "57935095-6211-44b8-b6db-0f6caffffc29",
   "metadata": {},
   "source": [
    "# D(data)-latch"
   ]
  },
  {
   "cell_type": "markdown",
   "id": "60fc5985-6bf4-4c5f-b894-e3b69de3f017",
   "metadata": {},
   "source": [
    "Latch is an electronic device that can be used to store one bit of information. The D latch is used to capture, or 'latch' the logic level which is present on the Data line when the clock input (Enable switch) is high. If the data on the D line changes state while the clock pulse is high, then the output, Q, follows the input, D. When the CLK input falls to logic 0, the last state of the D input is trapped and held in the latch.\n",
    "\n",
    "We can make d-latch using gates. S is set, R is reset, and E is enable. When enable is 0 latch is active that holds the value.\n",
    "\n",
    "![](figs/217.PNG)\n",
    "\n",
    "![](figs/218.PNG)\n",
    "\n",
    "**Cmos design of d-latch**\n",
    "\n",
    "As there's a bar from output so no need to cancel it thus no need for inverter.\n",
    "\n",
    "![](figs/219.PNG)\n",
    "\n",
    "ransmission gate pass 0 and 1 strongly. nmos triggers for 0 and pmos triggers for 1. Now when clk is 0 then 1st circuit is off and latch holds initial value of q. so after 0011 in clk when again 0 comes the latch holds q and qbar value and until clk is 1 again latch will store this value. This is d-latch using transmission gate.\n",
    "\n",
    "![](figs/220.PNG)"
   ]
  },
  {
   "cell_type": "markdown",
   "id": "7e478c20-3048-44a8-b069-89a5307db9cd",
   "metadata": {},
   "source": [
    "# End of lecture!"
   ]
  }
 ],
 "metadata": {
  "kernelspec": {
   "display_name": "Python 3",
   "language": "python",
   "name": "python3"
  },
  "language_info": {
   "codemirror_mode": {
    "name": "ipython",
    "version": 3
   },
   "file_extension": ".py",
   "mimetype": "text/x-python",
   "name": "python",
   "nbconvert_exporter": "python",
   "pygments_lexer": "ipython3",
   "version": "3.8.8"
  }
 },
 "nbformat": 4,
 "nbformat_minor": 5
}
