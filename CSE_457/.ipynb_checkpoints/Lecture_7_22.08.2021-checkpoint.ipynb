{
 "cells": [
  {
   "cell_type": "markdown",
   "metadata": {},
   "source": [
    "<div class=\"alert alert-success\">\n",
    "    <b>Author</b>:\n",
    "\n",
    "      Rashik Rahman\n",
    "      17201012@uap-bd.edu\n",
    "\n",
    "</div>\n",
    "\n",
    "**[Click here to see class lecture](https://drive.google.com/file/d/11XW0lKpPNLCRVpXJt4TPP8lvUU8ZQgA9/view)**\n"
   ]
  },
  {
   "cell_type": "markdown",
   "metadata": {},
   "source": [
    "Current depends on two things voltage and resistance. Shockley eqn or known channel Iv model describes relation between current and other dependecies. Here the fig is of a mos capacitor.\n",
    "\n",
    "![](figs/72.PNG)\n",
    "\n",
    "Here Q=charge, C=capacitence, V=voltage,  C_g=capacitence gate. Channel is the path between S and drain,\n",
    "\n",
    "![](figs/73.PNG)\n",
    "\n",
    "![](figs/74.PNG)\n",
    "\n",
    "![](figs/75.PNG)\n",
    "\n",
    "The voltage passed to gate doesnt't goto channel it goes to S and drain. So the average voltage is passed to channel. If we consider V_gc as voltage in channel and V_gs, V_gd as voltage of source and drain then we get the eqn given in following fig. V_ds is voltage difference between drain to source. Some voltage is lost through this process. So we get V = V_gc - V_t where V_t is the threshold that is considered to be loss.\n",
    "\n",
    "![](figs/76.PNG)"
   ]
  },
  {
   "cell_type": "markdown",
   "metadata": {},
   "source": [
    "Here Capacetence(C) depends on width(w) and length (L), thickness of silicon dioxide(t_ox). Permitivity of free space is mew but in mos there's no free space rather slicon dioxide so we use permitivity of silicon dioxide which's value is 3.9.\n",
    "\n",
    "![](figs/77.PNG)\n",
    "\n",
    "![](figs/78.PNG)\n",
    "\n",
    "Now if we place (ii)'s value in (i) we get (iii).\n",
    "\n",
    "![](figs/79.PNG)\n",
    "\n",
    "Now we got a eqn for Q all we need is an eqn for time(t). t depends on length(L) and velocity(v).\n",
    "\n",
    "![](figs/80.PNG)\n",
    "\n",
    "velocity(v) depends on electro megnetic force (E) and mobility constant.\n",
    "\n",
    "![](figs/81.PNG)"
   ]
  },
  {
   "cell_type": "markdown",
   "metadata": {},
   "source": [
    "\n",
    "\n",
    "![](figs/82.PNG)\n",
    "\n",
    "![](figs/83.PNG)\n",
    "\n",
    "![](figs/84.PNG)\n",
    "\n",
    "There's a point where increasing voltage won't increase current. Current will remain same. This is called saturation. **Book page 65**\n",
    "\n",
    "![](figs/86.PNG)\n",
    "\n",
    "![](figs/85.PNG)"
   ]
  },
  {
   "cell_type": "markdown",
   "metadata": {},
   "source": [
    "# End of lecture!"
   ]
  }
 ],
 "metadata": {
  "kernelspec": {
   "display_name": "Python 3",
   "language": "python",
   "name": "python3"
  },
  "language_info": {
   "codemirror_mode": {
    "name": "ipython",
    "version": 3
   },
   "file_extension": ".py",
   "mimetype": "text/x-python",
   "name": "python",
   "nbconvert_exporter": "python",
   "pygments_lexer": "ipython3",
   "version": "3.8.8"
  }
 },
 "nbformat": 4,
 "nbformat_minor": 4
}
