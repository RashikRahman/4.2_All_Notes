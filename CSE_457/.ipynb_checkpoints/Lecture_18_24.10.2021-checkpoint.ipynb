{
 "cells": [
  {
   "cell_type": "markdown",
   "id": "442fd3a0-4829-49be-9c5c-f777b9882488",
   "metadata": {},
   "source": [
    "<div class=\"alert alert-success\">\n",
    "    <b>Author</b>:\n",
    "\n",
    "      Rashik Rahman\n",
    "      17201012@uap-bd.edu\n",
    "\n",
    "</div>\n",
    "\n",
    "**[Click here to see class lecture](https://drive.google.com/file/d/1cWPce1DgEW17qhVrCNSB-raFyOgCghBs/view)**\n",
    "\n"
   ]
  },
  {
   "cell_type": "code",
   "execution_count": 1,
   "id": "8a6bfc9b-a480-4e98-b043-df1f486fbf9c",
   "metadata": {},
   "outputs": [
    {
     "data": {
      "text/html": [
       "\n",
       "<iframe src=\"https://drive.google.com/file/d/1cWPce1DgEW17qhVrCNSB-raFyOgCghBs/preview\" width=\"640\" height=\"480\" allow=\"autoplay\"></iframe>\n"
      ],
      "text/plain": [
       "<IPython.core.display.HTML object>"
      ]
     },
     "metadata": {},
     "output_type": "display_data"
    }
   ],
   "source": [
    "%%html\n",
    "\n",
    "<iframe src=\"https://drive.google.com/file/d/1cWPce1DgEW17qhVrCNSB-raFyOgCghBs/preview\" width=\"640\" height=\"480\" allow=\"autoplay\"></iframe>"
   ]
  },
  {
   "cell_type": "markdown",
   "id": "cdfb5f63-bd76-4ad9-81ed-66efbde45b38",
   "metadata": {},
   "source": [
    "![](figs/320.PNG)\n",
    "\n",
    "![](figs/321.PNG)\n",
    "\n",
    "Physical design is the 5th step of the pipeline.\n",
    "\n",
    "![](figs/322.PNG)\n",
    "\n",
    "Depending on the functionalities/location of a circuit it can be partitioned into sub-circuit. Functionalities can be like output, processing, signal etc. Partitioning on functionalities can enable parallel work and faster execution.\n",
    "\n",
    "![](figs/323.PNG)\n",
    "\n",
    "![](figs/324.PNG)\n",
    "\n",
    "![](figs/325.PNG)\n",
    "\n",
    "![](figs/326.PNG)\n",
    "\n",
    "Paritioning and floor planning is very closely related.\n",
    "\n",
    "![](figs/327.PNG)\n",
    "\n",
    "(b) is a good floorplan as it has minimum design area.\n",
    "\n",
    "![](figs/328.PNG)\n",
    "\n",
    "![](figs/329.PNG)\n",
    "\n",
    "![](figs/330.PNG)\n",
    "\n"
   ]
  },
  {
   "cell_type": "markdown",
   "id": "fec04d6d-91d8-4920-ba8f-411d68112129",
   "metadata": {},
   "source": [
    "In (a) the whole area is sliced then other slices are made but in (b) non-slicing the whole are isn't cut. Cuts are made considering area needed by partition.\n",
    "\n",
    "![](figs/331.PNG)\n",
    "\n",
    "![](figs/332.PNG)\n",
    "\n",
    "To make the tree the cut has to divide the area into two parts.\n",
    "\n",
    "![](figs/333.PNG)\n",
    "\n",
    "Ther's no gap between AB so connection between AB is merged to make this happen.\n",
    "\n",
    "![](figs/334.PNG)\n",
    "\n",
    "![](figs/335.PNG)\n",
    "\n",
    "Sizaing algorithm is how we got the string from the slicing tree.\n",
    "\n",
    "![](figs/336.PNG)\n",
    "\n",
    "L is length of interconnected wires.\n",
    "\n",
    "![](figs/337.PNG)\n",
    "\n",
    "![](figs/338.PNG)\n",
    "\n",
    "![](figs/339.PNG)\n",
    "\n",
    "![](figs/340.PNG)"
   ]
  },
  {
   "cell_type": "markdown",
   "id": "706e34f6-ac11-4cdf-b4a0-9e799361b11b",
   "metadata": {},
   "source": [
    "\n",
    "\n",
    "![](figs/341.PNG)\n",
    "\n",
    "![](figs/342.PNG)\n",
    "\n",
    "![](figs/343.PNG)\n",
    "\n",
    "![](figs/344.PNG)\n",
    "\n",
    "![](figs/345.PNG)\n",
    "\n",
    "So we need to setup the matrix and to do that first we consider S as 0, then all the components neighbouring S will be considered 1. Here neighbours can be up,down,left,right. After that neighbouring components of 1 will be 2, neighbouring components of 2 will be 3, neighbouring components of 3 will be 4, and so on. Thus finally the matrix is made. X is obstacle.\n",
    "\n",
    "![](figs/346.PNG)\n",
    "\n",
    "Now need to find the shortest path.\n",
    "\n",
    "![](figs/347.PNG)\n",
    "\n",
    "Now in clean up the found path is set to be obstacle for the next iteration.\n",
    "\n",
    "![](figs/348.PNG)\n",
    "\n",
    "![](figs/349.PNG)"
   ]
  },
  {
   "cell_type": "markdown",
   "id": "d94b90d8-eec3-4563-ae9e-ed42aa52feff",
   "metadata": {},
   "source": [
    "# End of lecture!"
   ]
  }
 ],
 "metadata": {
  "kernelspec": {
   "display_name": "Python 3",
   "language": "python",
   "name": "python3"
  },
  "language_info": {
   "codemirror_mode": {
    "name": "ipython",
    "version": 3
   },
   "file_extension": ".py",
   "mimetype": "text/x-python",
   "name": "python",
   "nbconvert_exporter": "python",
   "pygments_lexer": "ipython3",
   "version": "3.8.8"
  }
 },
 "nbformat": 4,
 "nbformat_minor": 5
}
