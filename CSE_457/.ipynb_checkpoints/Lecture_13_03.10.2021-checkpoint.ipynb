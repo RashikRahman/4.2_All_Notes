{
 "cells": [
  {
   "cell_type": "markdown",
   "id": "4c6271ce-53ee-4b8f-9580-9b888bbaed63",
   "metadata": {},
   "source": [
    "<div class=\"alert alert-success\">\n",
    "    <b>Author</b>:\n",
    "\n",
    "      Rashik Rahman\n",
    "      17201012@uap-bd.edu\n",
    "\n",
    "</div>\n",
    "\n",
    "**[Click here to see class lecture](https://drive.google.com/file/d/1FCyuvS4de6Q2A3eSrTeAsFws90s70wzc/view)**\n",
    "\n"
   ]
  },
  {
   "cell_type": "code",
   "execution_count": 2,
   "id": "355d7fd4-d811-4c55-80f8-c755bd27c2c6",
   "metadata": {},
   "outputs": [
    {
     "data": {
      "text/html": [
       "\n",
       "<iframe src=\"https://drive.google.com/file/d/1FCyuvS4de6Q2A3eSrTeAsFws90s70wzc/preview\" width=\"640\" height=\"480\" allow=\"autoplay\"></iframe>\n"
      ],
      "text/plain": [
       "<IPython.core.display.HTML object>"
      ]
     },
     "metadata": {},
     "output_type": "display_data"
    }
   ],
   "source": [
    "%%html \n",
    "\n",
    "<iframe src=\"https://drive.google.com/file/d/1FCyuvS4de6Q2A3eSrTeAsFws90s70wzc/preview\" width=\"640\" height=\"480\" allow=\"autoplay\"></iframe>"
   ]
  },
  {
   "cell_type": "markdown",
   "id": "a51eb814-66a3-42b9-9893-3885bb36c0dd",
   "metadata": {},
   "source": [
    "![](figs/221.PNG)\n",
    "\n",
    "![](figs/222.PNG)\n",
    "\n",
    "![](figs/223.PNG)\n",
    "\n",
    "**d is delay and d_abs is absolute delay.**\n",
    "\n",
    "\n",
    "Be careful about tau value, its 3ps for 65nm process and 60ps for 0.6um process. Logical effort is copmared with inverter.  So inverter is standard here. It can be also said as whats the logical effort of inverter. Parasitic delay depends on stage like 2input nand er parasitic delay 2, 3input nor er parasitic delay 3. Number of inputs=parasitic delay.\n",
    "\n",
    "![](figs/224.PNG)\n",
    "\n",
    "For a inverter parasitic delay is 1 but for a 2 input nand parasitic delay is 2. Now we'll learn to calculate the value of g and d.\n",
    "\n",
    "![](figs/225.PNG)\n",
    "\n",
    "Deff of logical effort. \n",
    "\n",
    "![](figs/226.PNG)\n",
    "\n",
    "Input capacitence of pmos is 2 and nmos is 1 so total input capacitence of inverter Cin is 3. **Prove that inverter's logical eefor is 1**. This is the prove.\n",
    "\n",
    "![](figs/227.PNG)\n",
    "\n",
    "When components in series input capacitence increases. Each component capacintence increases by the number of components multiplied by its capacitence. Now we take 1pmos and 1nmos to calculate input capacitence of gate. So 2+2=4 is gate's capacitence.\n",
    "\n",
    "![](figs/228.PNG)\n",
    "\n",
    "![](figs/229.PNG)\n",
    "\n",
    "Pre-calculated values. Just look into Nand and Nor, only these are imp.\n",
    "\n",
    "![](figs/230.PNG)\n",
    "\n",
    "In ring oscillator there are n number of inverter and usually value of n is odd. For inverter g=h=p=1. As it is odd so if it starts from 1 it ends with 0 on a single pass. So to maintain polarity (to end with the same value it started with) it must pass 2 times. So for N-stages pass should be 2N times. \n",
    "\n",
    "![](figs/231.PNG)\n",
    "\n",
    "![](figs/232.PNG)\n",
    "\n",
    "![](figs/233.PNG)"
   ]
  },
  {
   "cell_type": "markdown",
   "id": "6c05f748-1160-44a8-9f4e-b4c40b4a46de",
   "metadata": {},
   "source": [
    "\n",
    "\n",
    "![](figs/234.PNG)\n",
    "\n",
    "![](figs/235.PNG)\n",
    "\n",
    "# Question: How tau is here? it isn't in the eqaution of frequency. \n",
    "\n",
    "\n",
    "\n",
    "1 second is 10^12Pico-second so we write it. Now need to convert to GHz. So 0.0027x10^12 can be written as 2.7x10^9 thus 2.7GHz.\n",
    "\n",
    "![](figs/236.PNG)\n",
    "\n",
    "![](figs/237.PNG)\n",
    "\n",
    "![](figs/238.PNG)\n",
    "\n",
    "Here stage delay is 5 if for 0.6um process we multiply it by 60 and get total of 5x60=300ps of delay and for 65nm process we get total for 5x3=15ps of delay.\n",
    "\n",
    "![](figs/239.PNG)\n",
    "\n",
    "![](figs/240.PNG)\n",
    "\n",
    "**Imp for viva, importance of logical effort**\n",
    "\n",
    "![](figs/241.PNG)"
   ]
  },
  {
   "cell_type": "markdown",
   "id": "a54710fd-79f1-4805-bdfc-7e0e2ae9b974",
   "metadata": {},
   "source": [
    "# End of lecture!"
   ]
  }
 ],
 "metadata": {
  "kernelspec": {
   "display_name": "Python 3",
   "language": "python",
   "name": "python3"
  },
  "language_info": {
   "codemirror_mode": {
    "name": "ipython",
    "version": 3
   },
   "file_extension": ".py",
   "mimetype": "text/x-python",
   "name": "python",
   "nbconvert_exporter": "python",
   "pygments_lexer": "ipython3",
   "version": "3.8.8"
  }
 },
 "nbformat": 4,
 "nbformat_minor": 5
}
