{
 "cells": [
  {
   "cell_type": "markdown",
   "id": "4c6271ce-53ee-4b8f-9580-9b888bbaed63",
   "metadata": {},
   "source": [
    "<div class=\"alert alert-success\">\n",
    "    <b>Author</b>:\n",
    "\n",
    "      Rashik Rahman\n",
    "      17201012@uap-bd.edu\n",
    "\n",
    "</div>\n",
    "\n",
    "**[Click here to see class lecture](https://drive.google.com/file/d/1FCyuvS4de6Q2A3eSrTeAsFws90s70wzc/view)**\n",
    "\n"
   ]
  },
  {
   "cell_type": "code",
   "execution_count": 2,
   "id": "355d7fd4-d811-4c55-80f8-c755bd27c2c6",
   "metadata": {},
   "outputs": [
    {
     "data": {
      "text/html": [
       "\n",
       "<iframe src=\"https://drive.google.com/file/d/1FCyuvS4de6Q2A3eSrTeAsFws90s70wzc/preview\" width=\"640\" height=\"480\" allow=\"autoplay\"></iframe>\n"
      ],
      "text/plain": [
       "<IPython.core.display.HTML object>"
      ]
     },
     "metadata": {},
     "output_type": "display_data"
    }
   ],
   "source": [
    "%%html \n",
    "\n",
    "<iframe src=\"https://drive.google.com/file/d/1FCyuvS4de6Q2A3eSrTeAsFws90s70wzc/preview\" width=\"640\" height=\"480\" allow=\"autoplay\"></iframe>"
   ]
  },
  {
   "cell_type": "markdown",
   "id": "a51eb814-66a3-42b9-9893-3885bb36c0dd",
   "metadata": {},
   "source": []
  },
  {
   "cell_type": "markdown",
   "id": "6c05f748-1160-44a8-9f4e-b4c40b4a46de",
   "metadata": {},
   "source": []
  },
  {
   "cell_type": "markdown",
   "id": "a54710fd-79f1-4805-bdfc-7e0e2ae9b974",
   "metadata": {},
   "source": []
  }
 ],
 "metadata": {
  "kernelspec": {
   "display_name": "Python 3",
   "language": "python",
   "name": "python3"
  },
  "language_info": {
   "codemirror_mode": {
    "name": "ipython",
    "version": 3
   },
   "file_extension": ".py",
   "mimetype": "text/x-python",
   "name": "python",
   "nbconvert_exporter": "python",
   "pygments_lexer": "ipython3",
   "version": "3.8.8"
  }
 },
 "nbformat": 4,
 "nbformat_minor": 5
}
