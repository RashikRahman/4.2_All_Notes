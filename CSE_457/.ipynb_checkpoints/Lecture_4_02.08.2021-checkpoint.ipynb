{
 "cells": [
  {
   "cell_type": "markdown",
   "metadata": {},
   "source": [
    "<div class=\"alert alert-success\">\n",
    "    <b>Author</b>:\n",
    "\n",
    "      Rashik Rahman\n",
    "      17201012@uap-bd.edu\n",
    "\n",
    "</div>\n",
    "\n",
    "**[Click here to see class lecture](https://drive.google.com/file/d/1XPRWU2fayr1zj1nYBarllXcxTzOLRQUp/view)**\n"
   ]
  },
  {
   "cell_type": "markdown",
   "metadata": {},
   "source": [
    "When EN=0 then input won't goto output and we get Z in output, and when EN=1 then input value will directly goto output.\n",
    "\n",
    "![](figs/36.PNG)\n",
    "\n",
    "Transmission gate can be used for tristate. Nonrestoring tristate means there wont be any intermediate filter so whatever is given in inpur we'll be found in output.\n",
    "\n",
    "![](figs/37.PNG)\n",
    "\n",
    "We can use two transmission gate as an tristate inverter. In tristate inverter we can solve the filter prob of `Nonrestoring tristate`, cz here we can use a filter and give controlled input. But this violates conduction complement rule which is `when pmos active nmos deactive and vice-versa`, thus returns Z(incase of both are deactive). When this this is active both pmos and nmos is active and when deactive both are deactive.\n",
    "\n",
    "![](figs/38.PNG)\n",
    "\n",
    "![](figs/39.PNG)\n",
    "\n",
    "When more than one unit is enabled then it causes contention meaning we get X(crowbar) in output this topic was discussed in prev lecture. Static power is dissipated due to crowbar. When no unit is enebled then we'll get Z state.\n",
    "\n",
    "![](figs/40.PNG)"
   ]
  },
  {
   "cell_type": "markdown",
   "metadata": {},
   "source": [
    "Design cmos for Y and count the number of transistors. Here pmos and nmos are transistors so the total number of pmos and cmos is the number of transistors.\n",
    "\n",
    "![](figs/42.PNG)\n",
    "\n",
    "![](figs/41.PNG)\n",
    "\n",
    "**MUX**\n",
    "\n",
    "In mux s/switch decides which input goes to output I1 or I2.\n",
    "\n",
    "![](figs/43.PNG)\n",
    "\n",
    "At first we place a bar to draw cmos then on top of that give another bar to cancel out the first bar. Thus get the original y. We'll use inverter(represent 2nd bar) on cmos(with 1st bar) to get original y. This is how we design 2:1 MUX. By giving s as input to inverter we get s_bar.\n",
    "\n",
    "![](figs/44.PNG)\n",
    "\n",
    "4:1 MUX.\n",
    "\n",
    "![](figs/45.PNG)\n",
    "\n"
   ]
  },
  {
   "cell_type": "markdown",
   "metadata": {},
   "source": [
    "# End of lecture!"
   ]
  }
 ],
 "metadata": {
  "kernelspec": {
   "display_name": "Python 3",
   "language": "python",
   "name": "python3"
  },
  "language_info": {
   "codemirror_mode": {
    "name": "ipython",
    "version": 3
   },
   "file_extension": ".py",
   "mimetype": "text/x-python",
   "name": "python",
   "nbconvert_exporter": "python",
   "pygments_lexer": "ipython3",
   "version": "3.8.8"
  }
 },
 "nbformat": 4,
 "nbformat_minor": 4
}
