{
 "cells": [
  {
   "cell_type": "markdown",
   "metadata": {},
   "source": [
    "<div class=\"alert alert-success\">\n",
    "    <b>Author</b>:\n",
    "\n",
    "      Rashik Rahman\n",
    "      17201012@uap-bd.edu\n",
    "\n",
    "</div>\n"
   ]
  },
  {
   "cell_type": "markdown",
   "metadata": {},
   "source": [
    "**[Click here to see class lecture](https://drive.google.com/file/d/1nQhH74aI--afRK68TQJQY9GYuM6XggH8/view)**\n"
   ]
  },
  {
   "cell_type": "markdown",
   "metadata": {},
   "source": [
    "![](figs/fig1.PNG)\n",
    "\n",
    "![](figs/fig2.PNG)\n",
    "\n",
    "![](figs/fig3.PNG)\n",
    "\n",
    "Sales increades due to increase in reliability, decrease in size and price. Decrease in size and price was cause by more efficient and small transistors.\n",
    "\n",
    "![](figs/fig4.PNG)"
   ]
  },
  {
   "cell_type": "markdown",
   "metadata": {},
   "source": [
    "![](figs/fig5.PNG)\n",
    "\n",
    "bipolar transistor has two ends/pole one in n type and another is p type. So npn or pnp is a silicon structor of a bipolar transistor. \n",
    "\n",
    "![](figs/fig6.PNG)\n",
    "\n",
    "Two types of MOS theye are nmos and pmos. Nmos is negatively charged and Pmos is positively charged.\n",
    "\n",
    "![](figs/fig7.PNG)\n",
    "\n",
    "Nmos consumes power even when its not being used but power is supplied. So when we put thousands of transistors it is a matter of concern.\n",
    "\n",
    "![](figs/fig8.PNG)\n",
    "\n",
    "To remedy this power consumption issue, scientists were thinking a way to develop a transistor using nmos and pmos in such a way that they complement each other. So they developed Complementary Metal Oxyde Semi-conduciton(CMOS).\n",
    "\n",
    "![](figs/fig9.PNG)\n"
   ]
  },
  {
   "cell_type": "markdown",
   "metadata": {},
   "source": [
    "\n",
    "Moore was founder of intel. Amount of transistors is doubled in every 18 months.\n",
    "\n",
    "![](figs/fig10.PNG)\n",
    "\n",
    "![](figs/13.PNG)\n",
    "\n",
    "![](figs/11.PNG)\n",
    "\n",
    "NAND with cmos, pmos is connected to power supply and nmos is connected to ground.\n",
    "\n",
    "![](figs/12.PNG)\n",
    "\n",
    "![](figs/fig15.PNG)"
   ]
  },
  {
   "cell_type": "markdown",
   "metadata": {},
   "source": [
    "\n",
    "\n",
    "try, \n",
    "\n",
    "![](figs/17.PNG)\n",
    "\n",
    "![](figs/18.PNG)\n",
    "\n",
    "![](figs/16.PNG)\n",
    "\n",
    "![](figs/19.PNG)\n",
    "\n",
    "![](figs/14.PNG)\n",
    "\n",
    "![](figs/20.PNG)\n"
   ]
  },
  {
   "cell_type": "markdown",
   "metadata": {},
   "source": [
    "# End of lecture!"
   ]
  }
 ],
 "metadata": {
  "kernelspec": {
   "display_name": "Python 3",
   "language": "python",
   "name": "python3"
  },
  "language_info": {
   "codemirror_mode": {
    "name": "ipython",
    "version": 3
   },
   "file_extension": ".py",
   "mimetype": "text/x-python",
   "name": "python",
   "nbconvert_exporter": "python",
   "pygments_lexer": "ipython3",
   "version": "3.8.8"
  }
 },
 "nbformat": 4,
 "nbformat_minor": 4
}
