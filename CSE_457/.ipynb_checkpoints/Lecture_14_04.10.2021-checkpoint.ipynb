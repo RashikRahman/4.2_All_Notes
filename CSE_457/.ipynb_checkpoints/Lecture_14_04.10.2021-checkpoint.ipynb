{
 "cells": [
  {
   "cell_type": "markdown",
   "id": "b3f880d8-bc09-4201-aa85-054772a8cea4",
   "metadata": {},
   "source": [
    "<div class=\"alert alert-success\">\n",
    "    <b>Author</b>:\n",
    "\n",
    "      Rashik Rahman\n",
    "      17201012@uap-bd.edu\n",
    "\n",
    "</div>\n",
    "\n",
    "**[Click here to see class lecture](https://drive.google.com/file/d/1WYSgSQoJx9EiTKqkYlb8iz_hZj2LGdOR/view)**\n",
    "\n"
   ]
  },
  {
   "cell_type": "code",
   "execution_count": 1,
   "id": "27eea4f4-dffa-40dc-bc74-4ba9883fa228",
   "metadata": {},
   "outputs": [
    {
     "data": {
      "text/html": [
       "<iframe src=\"https://drive.google.com/file/d/1WYSgSQoJx9EiTKqkYlb8iz_hZj2LGdOR/preview\" width=\"640\" height=\"480\" allow=\"autoplay\"></iframe>\n"
      ],
      "text/plain": [
       "<IPython.core.display.HTML object>"
      ]
     },
     "metadata": {},
     "output_type": "display_data"
    }
   ],
   "source": [
    "%%html\n",
    "<iframe src=\"https://drive.google.com/file/d/1WYSgSQoJx9EiTKqkYlb8iz_hZj2LGdOR/preview\" width=\"640\" height=\"480\" allow=\"autoplay\"></iframe>"
   ]
  },
  {
   "cell_type": "markdown",
   "id": "d32ab157-8483-48cb-b7d4-9b588a9bd286",
   "metadata": {},
   "source": [
    "Cmos latchup is an unwanted problem condition. Thyristor is a unwanted circuit that draws out power. \n",
    "\n",
    "![](figs/242.PNG)\n",
    "\n",
    "![](figs/243.PNG)\n",
    "\n",
    "![](figs/244.PNG)\n",
    "\n",
    "![](figs/245.PNG)\n",
    "\n",
    "![](figs/246.PNG)\n",
    "\n",
    "If voltage/VDD crosses the maximum rating of the chip then ESD can happen.\n",
    "\n",
    "![](figs/247.PNG)\n",
    "\n",
    "For the trench physical barrier Thyristor wont be created. But doing this makes product price very high(expensive).\n",
    "\n",
    "![](figs/248.PNG)\n",
    "\n",
    "![](figs/249.PNG)\n",
    "\n",
    "![](figs/250.PNG)"
   ]
  },
  {
   "cell_type": "markdown",
   "id": "c7320f14-c408-41e9-90a4-cda5467bbc07",
   "metadata": {},
   "source": [
    "Diode ensures one way current pass.\n",
    "\n",
    "![](figs/251.PNG)\n",
    "\n",
    "![](figs/252.PNG)\n",
    "\n",
    "![](figs/253.PNG)\n",
    "\n",
    "![](figs/254.PNG)\n",
    "\n",
    "![](figs/255.PNG)\n",
    "\n",
    "![](figs/256.PNG)\n",
    "\n",
    "![](figs/257.PNG)\n",
    "\n",
    "![](figs/258.PNG)\n",
    "\n",
    "![](figs/259.PNG)\n",
    "\n",
    "![](figs/260.PNG)"
   ]
  },
  {
   "cell_type": "markdown",
   "id": "4263069a-5070-4618-a641-4a0edd81629d",
   "metadata": {},
   "source": [
    "![](figs/261.PNG)\n",
    "\n",
    "![](figs/262.PNG)\n",
    "\n",
    "![](figs/263.PNG)\n",
    "\n",
    "![](figs/264.PNG)\n",
    "\n",
    "![](figs/265.PNG)\n",
    "\n",
    "![](figs/266.PNG)\n",
    "\n",
    "![](figs/267.PNG)\n",
    "\n",
    "![](figs/268.PNG)\n",
    "\n",
    "![](figs/269.PNG)\n",
    "\n",
    "![](figs/270.PNG)"
   ]
  },
  {
   "cell_type": "markdown",
   "id": "fc20c3a2-7bbf-4710-b07a-80c365475633",
   "metadata": {},
   "source": [
    "![](figs/271.PNG)\n",
    "\n",
    "![](figs/272.PNG)\n",
    "\n",
    "![](figs/273.PNG)\n",
    "\n",
    "![](figs/274.PNG)\n",
    "\n",
    "![](figs/275.PNG)\n",
    "\n",
    "![](figs/276.PNG)"
   ]
  },
  {
   "cell_type": "markdown",
   "id": "6d4134e9-92a0-4bfc-9051-31400a40a2ed",
   "metadata": {},
   "source": [
    "# End of lecture!"
   ]
  }
 ],
 "metadata": {
  "kernelspec": {
   "display_name": "Python 3",
   "language": "python",
   "name": "python3"
  },
  "language_info": {
   "codemirror_mode": {
    "name": "ipython",
    "version": 3
   },
   "file_extension": ".py",
   "mimetype": "text/x-python",
   "name": "python",
   "nbconvert_exporter": "python",
   "pygments_lexer": "ipython3",
   "version": "3.8.8"
  }
 },
 "nbformat": 4,
 "nbformat_minor": 5
}
