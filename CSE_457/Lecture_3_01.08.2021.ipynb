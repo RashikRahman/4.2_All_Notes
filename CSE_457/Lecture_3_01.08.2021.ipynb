{
 "cells": [
  {
   "cell_type": "markdown",
   "metadata": {},
   "source": [
    "<div class=\"alert alert-success\">\n",
    "    <b>Author</b>:\n",
    "\n",
    "      Rashik Rahman\n",
    "      17201012@uap-bd.edu\n",
    "\n",
    "</div>\n",
    "\n",
    "**[Click here to see class lecture](https://drive.google.com/file/d/112Xx6ZGOFBNxnwNPFqraDQ0WET9gGOha/view)**\n"
   ]
  },
  {
   "cell_type": "markdown",
   "metadata": {},
   "source": [
    "So lets discuss why nmos is downwards(pull-down) and pmos is upwords(pull-up) in a networks. Cause pmos+nmos=cmos. cmos is complementary mos which refers to pmos/cmos will complement each other. This means that when nmos is active pmos will complement nmos, be numb(stop) and vice-versa(this is complementary feature).\n",
    "\n",
    "nmos will take you towards 0(GND) and pmos will take you toward 1(VDD=volt of battery) thus they are pull-down and pull-up network respectively in a cmos. The table is like a confusion matrix. like when pull-down OFF and pull-up ON then output will be 1 and when both are ON then we'll get crowbar which means that the output will continuously jump between 0-1. Crowbar is unwanted condition. When both are OFF we get Z state in which output terminal is free and can be used by anyother bus.\n",
    "\n",
    "![](figs/21.PNG)\n",
    "\n",
    "Here the q can be like sketch a 4-input cmos nor gate pull-up/down network. For that we only need to draw the pullup/down network, no need to draw the whole cmos.\n",
    "\n",
    "![](figs/22.PNG)\n",
    "\n",
    "![](figs/23.PNG)\n",
    "\n",
    "![](figs/24.PNG)\n",
    "\n",
    "**How this works?**\n",
    "\n",
    "![](figs/25.PNG)\n",
    "\n",
    "This is compound gate where we can see nand and nor gates. So for A.B and C.D nmos will be in series (cz nmos is series for nand gates) after that there's a nor operation between AB & CD for that they need to be connected in parallel (cz nmos is parallel for nor gates). So the nmos/pull-down will look like the following fig.\n",
    "\n",
    "![](figs/26.PNG)\n",
    "\n",
    "Pull-up design is just the opposite of pull-down. A.B will be in parallel and AB + CD will in series.\n",
    "\n",
    "![](figs/27.PNG)\n",
    "\n",
    "So the final compund cmos stands like the following fig.\n",
    "\n",
    "![](figs/28.PNG)\n",
    "\n",
    "![](figs/30.PNG)"
   ]
  },
  {
   "cell_type": "markdown",
   "metadata": {},
   "source": [
    "Here D is in a series with ABC(which are in parallel) in nmos.\n",
    "\n",
    "![](figs/30.PNG)\n",
    "\n",
    "By nature pmos pass strong 1 and nmos pass strong 0 thus they are connected to vdd and gnd repectively.\n",
    "\n",
    "![](figs/31.PNG)\n",
    "\n",
    "Something like this will come in every exam.\n",
    "\n",
    "pmos and nmos can be used independently as a switch, this is called a pass transistor. In nmos if we pass 1 to g current will pass trough s & d, and in pmos if we pass 0 current will pass through s & d. Here s is source and d is drain.\n",
    "\n",
    "![](figs/32.PNG)\n",
    "\n",
    "When we connect pmos and nmos together in parallel we get transmission gate.\n",
    "\n",
    "![](figs/33.PNG)\n",
    "\n",
    "![](figs/34.PNG)\n",
    "\n",
    "![](figs/35.PNG)\n",
    "\n",
    "![](figs/29.PNG)"
   ]
  },
  {
   "cell_type": "markdown",
   "metadata": {},
   "source": [
    "# End of lecture!"
   ]
  }
 ],
 "metadata": {
  "kernelspec": {
   "display_name": "Python 3",
   "language": "python",
   "name": "python3"
  },
  "language_info": {
   "codemirror_mode": {
    "name": "ipython",
    "version": 3
   },
   "file_extension": ".py",
   "mimetype": "text/x-python",
   "name": "python",
   "nbconvert_exporter": "python",
   "pygments_lexer": "ipython3",
   "version": "3.8.8"
  }
 },
 "nbformat": 4,
 "nbformat_minor": 4
}
