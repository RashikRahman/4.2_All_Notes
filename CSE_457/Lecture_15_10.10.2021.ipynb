{
 "cells": [
  {
   "cell_type": "markdown",
   "id": "cdf790fa-99e7-48c3-91ad-00f6c05c0332",
   "metadata": {},
   "source": [
    "<div class=\"alert alert-success\">\n",
    "    <b>Author</b>:\n",
    "\n",
    "      Rashik Rahman\n",
    "      17201012@uap-bd.edu\n",
    "\n",
    "</div>\n",
    "\n",
    "**[Click here to see class lecture](https://drive.google.com/file/d/1yozsWfonfKLKJZltIcMXtUeFUEAiCNu8/view)**\n",
    "\n"
   ]
  },
  {
   "cell_type": "code",
   "execution_count": 1,
   "id": "9bf32efa-bd42-4a6b-8f55-eb9bb53eb6f0",
   "metadata": {},
   "outputs": [
    {
     "data": {
      "text/html": [
       "<iframe src=\"https://drive.google.com/file/d/1yozsWfonfKLKJZltIcMXtUeFUEAiCNu8/preview\" width=\"640\" height=\"480\" allow=\"autoplay\"></iframe>\n"
      ],
      "text/plain": [
       "<IPython.core.display.HTML object>"
      ]
     },
     "metadata": {},
     "output_type": "display_data"
    }
   ],
   "source": [
    "%%html\n",
    "<iframe src=\"https://drive.google.com/file/d/1yozsWfonfKLKJZltIcMXtUeFUEAiCNu8/preview\" width=\"640\" height=\"480\" allow=\"autoplay\"></iframe>"
   ]
  },
  {
   "cell_type": "markdown",
   "id": "ef53f2ca-86cc-48b0-95e4-6225de62fdde",
   "metadata": {},
   "source": [
    "In practice range of voltage can be 0.8 to 1.2v this can be refered as 1. This is just an example.\n",
    "\n",
    "![](figs/277.PNG)\n",
    "\n",
    "Greater the NM the more better. Cause it can handle more noise or more input voltage range.\n",
    "\n",
    "![](figs/278.PNG)\n",
    "\n",
    "Slope is 1 and it intersects as Vth. This is voltage transfer characteristics (VTC).\n",
    "\n",
    "![](figs/279.PNG)\n",
    "\n",
    "![](figs/280.PNG)\n",
    "\n",
    "![](figs/281.PNG)\n",
    "\n",
    "![](figs/282.PNG)\n",
    "\n",
    "**Practive 2.15**\n",
    "\n",
    "![](figs/283.PNG)\n",
    "\n",
    "![](figs/284.PNG)\n",
    "\n",
    "![](figs/285.PNG)"
   ]
  },
  {
   "cell_type": "markdown",
   "id": "376930dd-16c6-467e-ac91-635dc875a7ca",
   "metadata": {},
   "source": [
    "If q is draw circuit diagram of dlatch then draw i. If q is draw cmos of dlatch then draw i and after that using the eqns from i draw ii. If the q is draw transition gate of dlatch then draw iii. Another q can be clk D given find out Q and Q' and draw iv accordingly. For better figures of dlatch see lecture 12.\n",
    "\n",
    "![](figs/286.PNG)"
   ]
  },
  {
   "cell_type": "markdown",
   "id": "51625ce0-103a-4cf9-bbd3-45fb94f484ca",
   "metadata": {},
   "source": [
    "# End of lecture!"
   ]
  }
 ],
 "metadata": {
  "kernelspec": {
   "display_name": "Python 3",
   "language": "python",
   "name": "python3"
  },
  "language_info": {
   "codemirror_mode": {
    "name": "ipython",
    "version": 3
   },
   "file_extension": ".py",
   "mimetype": "text/x-python",
   "name": "python",
   "nbconvert_exporter": "python",
   "pygments_lexer": "ipython3",
   "version": "3.8.8"
  }
 },
 "nbformat": 4,
 "nbformat_minor": 5
}
