{
 "cells": [
  {
   "cell_type": "markdown",
   "id": "1cc6aefc-88c9-4261-b520-babdd6756516",
   "metadata": {},
   "source": [
    "<div class=\"alert alert-success\">\n",
    "    <b>Author</b>:\n",
    "\n",
    "      Rashik Rahman\n",
    "      17201012@uap-bd.edu\n",
    "\n",
    "</div>\n",
    "\n",
    "**[Click here to see class lecture](https://drive.google.com/file/d/1HMFCNAtv4dqYbeIcSHuBXSeWUnA51CrJ/view)**\n"
   ]
  },
  {
   "cell_type": "markdown",
   "id": "8615c817-24ca-4b89-814c-f8c1c305c5de",
   "metadata": {},
   "source": [
    "![](figs/96.PNG)\n",
    "\n",
    "![](figs/97.PNG)\n",
    "\n",
    "![](figs/98.PNG)\n",
    "\n",
    "Pc(e) is probability of finding free electron in conduction band and pv(h) is possibility of finding holes in valance band. When atom has an extra proton that means poverty of electron. we can say that when electron number is less than proton nbumber then we get holes.\n",
    "\n",
    "![](figs/99.PNG)\n",
    "\n",
    "![](figs/100.PNG)\n",
    "\n",
    "\n",
    "When there's an extra electron the atom is negative. So in Ntype semiconductior receives an electron and becomes negative and Ptype semiconductor donates an electron and become as a hole. As Ntype has free electron due to receiving so it can conduct current thus its near conduction band anr ptype is hole so it is near valance band.\n",
    "\n",
    "![](figs/101.PNG)\n",
    "\n",
    "![](figs/1001.PNG)\n",
    "\n",
    " "
   ]
  },
  {
   "cell_type": "markdown",
   "id": "40c0c808-e341-4604-81d1-6b96a8703f63",
   "metadata": {},
   "source": [
    "\n",
    "\n",
    "Ec is conduction level energy Ef is fermy level energy. n_o means consentration of of electron in initial stage as n means consentration of electron. n_c means consentration of electron in conduction band. K is boltzman constant and T is temp. Using eqn 2 we can get difference of engergy or in other words difference/distance between bands.\n",
    "\n",
    "![](figs/102.PNG)\n",
    "\n",
    "If we know fermy enrgy band then we can know how much energy would it take to move 50% electrons of frmy to conduction band.\n",
    "\n",
    "![](figs/103.PNG)\n",
    "\n",
    "![](figs/104.PNG)\n",
    "\n",
    "P_o means concentration of holes and nv means elecetron concentration in valance band.\n",
    "\n",
    "![](figs/105.PNG)\n",
    "\n",
    "![](figs/106.PNG)"
   ]
  },
  {
   "cell_type": "markdown",
   "id": "c59c2088-a789-47f3-9a5e-e5d005eead65",
   "metadata": {},
   "source": [
    "Pure silicon is doped means added something here doped to n-type so we can say extra electrons were added.\n",
    "\n",
    "![](figs/107.PNG)\n",
    "\n",
    "![](figs/108.PNG)\n",
    "\n",
    "For pure silicon Nc, Ni and Nv value are fixed/constant. n_i means infringic level electron concentration.\n",
    "\n",
    "![](figs/109.PNG)\n",
    "![](figs/110.PNG)\n",
    "\n",
    "na is acceptor and nd is donor.\n",
    "\n",
    "![](figs/111.PNG)\n",
    "\n",
    "![](figs/112.PNG)"
   ]
  },
  {
   "cell_type": "markdown",
   "id": "02b0d2ab-99ee-4fe8-b0dd-0d154976ad80",
   "metadata": {},
   "source": [
    "# End of lecture!"
   ]
  }
 ],
 "metadata": {
  "kernelspec": {
   "display_name": "Python 3",
   "language": "python",
   "name": "python3"
  },
  "language_info": {
   "codemirror_mode": {
    "name": "ipython",
    "version": 3
   },
   "file_extension": ".py",
   "mimetype": "text/x-python",
   "name": "python",
   "nbconvert_exporter": "python",
   "pygments_lexer": "ipython3",
   "version": "3.8.8"
  }
 },
 "nbformat": 4,
 "nbformat_minor": 5
}
