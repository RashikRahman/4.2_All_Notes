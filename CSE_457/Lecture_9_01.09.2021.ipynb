{
 "cells": [
  {
   "cell_type": "markdown",
   "id": "1cc6aefc-88c9-4261-b520-babdd6756516",
   "metadata": {},
   "source": [
    "<div class=\"alert alert-success\">\n",
    "    <b>Author</b>:\n",
    "\n",
    "      Rashik Rahman\n",
    "      17201012@uap-bd.edu\n",
    "\n",
    "</div>\n",
    "\n",
    "**[Click here to see class lecture](https://drive.google.com/file/d/1HMFCNAtv4dqYbeIcSHuBXSeWUnA51CrJ/view)**\n"
   ]
  },
  {
   "cell_type": "markdown",
   "id": "8615c817-24ca-4b89-814c-f8c1c305c5de",
   "metadata": {},
   "source": [
    "![](figs/96.PNG)\n",
    "\n",
    "![](figs/97.PNG)\n",
    "\n",
    "![](figs/98.PNG)\n",
    "\n",
    "Pc(e) is probability of finding free electron in conduction band and pv(h) is possibility of finding holes in valance band. When atom has an extra proton that means poverty of electron. we can say that when electron number is less than proton nbumber then we get holes.\n",
    "\n",
    "![](figs/99.PNG)\n",
    "\n",
    "![](figs/100.PNG)\n",
    "\n",
    "\n",
    "\n",
    " "
   ]
  },
  {
   "cell_type": "markdown",
   "id": "40c0c808-e341-4604-81d1-6b96a8703f63",
   "metadata": {},
   "source": []
  }
 ],
 "metadata": {
  "kernelspec": {
   "display_name": "Python 3",
   "language": "python",
   "name": "python3"
  },
  "language_info": {
   "codemirror_mode": {
    "name": "ipython",
    "version": 3
   },
   "file_extension": ".py",
   "mimetype": "text/x-python",
   "name": "python",
   "nbconvert_exporter": "python",
   "pygments_lexer": "ipython3",
   "version": "3.8.8"
  }
 },
 "nbformat": 4,
 "nbformat_minor": 5
}
