{
 "cells": [
  {
   "cell_type": "markdown",
   "id": "dc6a21f1-5d1b-4997-bd9d-2e4af876f73f",
   "metadata": {},
   "source": [
    "<div class=\"alert alert-success\">\n",
    "    <b>Author</b>:\n",
    "\n",
    "      Rashik Rahman\n",
    "      17201012@uap-bd.edu\n",
    "\n",
    "</div>\n",
    "\n",
    "**[Click here to see class lecture](https://drive.google.com/file/d/11O8plsyeV52NtaSorjGu7cAdAvXG0Za3/view)**\n",
    "\n"
   ]
  },
  {
   "cell_type": "code",
   "execution_count": 1,
   "id": "b6a00430-300f-4a03-b4f2-ae48c8ec7121",
   "metadata": {},
   "outputs": [
    {
     "data": {
      "text/html": [
       "<iframe src=\"https://drive.google.com/file/d/11O8plsyeV52NtaSorjGu7cAdAvXG0Za3/preview\" width=\"640\" height=\"480\" allow=\"autoplay\"></iframe>\n"
      ],
      "text/plain": [
       "<IPython.core.display.HTML object>"
      ]
     },
     "metadata": {},
     "output_type": "display_data"
    }
   ],
   "source": [
    "%%html\n",
    "<iframe src=\"https://drive.google.com/file/d/11O8plsyeV52NtaSorjGu7cAdAvXG0Za3/preview\" width=\"640\" height=\"480\" allow=\"autoplay\"></iframe>"
   ]
  },
  {
   "cell_type": "markdown",
   "id": "71277e6d-1a72-459e-82c8-c50094ad7b9b",
   "metadata": {},
   "source": [
    "Geometry and technology dependent constant is beta. For nMos we take positive Vds and for pMos we take negative Vds. Thus for pMos we will get negative current. So be careful about the question. In question Vds values will be positive but you have to look for if the question is for nMos or pMos. Depending on this Vds will bge either positive or negative in calculation. Threshold voltage will also be negative for pMos.\n",
    "\n",
    "Mobility constant (Mew) will be halfed for pMos due to in pMos majority carriers are holes and minority are electron. If for nMos mew is 80 then for pMos mew would be 40, simply halfed.\n",
    "\n",
    "\n",
    "**Very imp math**\n",
    "\n",
    "![](figs/306.PNG)\n",
    "\n",
    "![](figs/307.PNG)\n",
    "\n",
    "![](figs/308.PNG)\n",
    "\n",
    "![](figs/309.PNG)\n",
    "\n",
    "Shockley's model is considered for ideal transistors but when it is simulated we can some deviation in voltage-current curve (black and blue line). This happens due to two reasons. One is carrier's velocity reduces or becomes saturated(cant increase velocity becomes fixed) after a certain point. Another one is electron's mobility degrade it won't be constant.\n",
    "\n",
    "**Very imp theory**\n",
    "\n",
    "![](figs/310.PNG)\n",
    " \n",
    "![](figs/311.PNG)\n"
   ]
  },
  {
   "cell_type": "markdown",
   "id": "0fb5fcd5-692e-4541-906f-1a84808a66c9",
   "metadata": {},
   "source": [
    "Book page 74 topic Nonideal IV effects(2.4) is an imp concept.\n",
    "\n",
    "![](figs/312.PNG)\n",
    "\n",
    "![](figs/313.PNG)\n",
    "\n",
    "![](figs/314.PNG)\n",
    "\n",
    "![](figs/315.PNG)\n",
    "\n",
    "\n",
    "Transistor doesn't turn off in an instant after command so in this time current leaks. Chip is so small that distance between gates and drain-source are very less thus current leaks through gate.\n",
    "\n",
    "\n",
    "![](figs/316.PNG)\n",
    "\n",
    "![](figs/317.PNG)"
   ]
  },
  {
   "cell_type": "markdown",
   "id": "1a16b19e-5096-4d7c-bced-b1030857fe40",
   "metadata": {},
   "source": [
    "# End of lecture!"
   ]
  }
 ],
 "metadata": {
  "kernelspec": {
   "display_name": "Python 3",
   "language": "python",
   "name": "python3"
  },
  "language_info": {
   "codemirror_mode": {
    "name": "ipython",
    "version": 3
   },
   "file_extension": ".py",
   "mimetype": "text/x-python",
   "name": "python",
   "nbconvert_exporter": "python",
   "pygments_lexer": "ipython3",
   "version": "3.8.8"
  }
 },
 "nbformat": 4,
 "nbformat_minor": 5
}
