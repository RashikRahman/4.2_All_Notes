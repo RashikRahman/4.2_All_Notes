{
 "cells": [
  {
   "cell_type": "markdown",
   "id": "e552f5e8-3673-49ec-8ac6-c0c72939be31",
   "metadata": {},
   "source": [
    "<div class=\"alert alert-success\">\n",
    "    <b>Author</b>:\n",
    "\n",
    "      Rashik Rahman\n",
    "      17201012@uap-bd.edu\n",
    "\n",
    "</div>\n",
    "\n",
    "**[Click here to see class lecture](https://drive.google.com/file/d/1LaDaDuT61jjxYTvgRaxN0CVX1fcsi9Pi/view)**\n",
    "\n"
   ]
  },
  {
   "cell_type": "code",
   "execution_count": 1,
   "id": "28627d3e-2224-44ad-8f2f-42e7b6f4b306",
   "metadata": {},
   "outputs": [
    {
     "data": {
      "text/html": [
       "<iframe src=\"https://drive.google.com/file/d/1LaDaDuT61jjxYTvgRaxN0CVX1fcsi9Pi/preview\" width=\"640\" height=\"480\" allow=\"autoplay\"></iframe>\n"
      ],
      "text/plain": [
       "<IPython.core.display.HTML object>"
      ]
     },
     "metadata": {},
     "output_type": "display_data"
    }
   ],
   "source": [
    "%%html\n",
    "<iframe src=\"https://drive.google.com/file/d/1LaDaDuT61jjxYTvgRaxN0CVX1fcsi9Pi/preview\" width=\"640\" height=\"480\" allow=\"autoplay\"></iframe>"
   ]
  },
  {
   "cell_type": "markdown",
   "id": "367a4558-9906-4d57-bed1-f923c2d3be8f",
   "metadata": {},
   "source": []
  },
  {
   "cell_type": "markdown",
   "id": "5c743b5d-93a1-437e-9503-88c89d14de27",
   "metadata": {},
   "source": []
  },
  {
   "cell_type": "markdown",
   "id": "d18454d0-9836-4394-8a73-6b2bf2ac068c",
   "metadata": {},
   "source": []
  }
 ],
 "metadata": {
  "kernelspec": {
   "display_name": "Python 3",
   "language": "python",
   "name": "python3"
  },
  "language_info": {
   "codemirror_mode": {
    "name": "ipython",
    "version": 3
   },
   "file_extension": ".py",
   "mimetype": "text/x-python",
   "name": "python",
   "nbconvert_exporter": "python",
   "pygments_lexer": "ipython3",
   "version": "3.8.8"
  }
 },
 "nbformat": 4,
 "nbformat_minor": 5
}
