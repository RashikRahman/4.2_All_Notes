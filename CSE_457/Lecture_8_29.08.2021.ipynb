{
 "cells": [
  {
   "cell_type": "markdown",
   "id": "a2d1de46-4159-43b9-91ec-9e0037ce62b4",
   "metadata": {},
   "source": [
    "<div class=\"alert alert-success\">\n",
    "    <b>Author</b>:\n",
    "\n",
    "      Rashik Rahman\n",
    "      17201012@uap-bd.edu\n",
    "\n",
    "</div>\n",
    "\n",
    "**[Click here to see class lecture](https://drive.google.com/file/d/1jOmQQN-HLUOCKIGt2YlFBFCOQXHyQs3T/view)**\n"
   ]
  },
  {
   "cell_type": "markdown",
   "id": "3dc0d142-653d-4942-8f8e-a0f540ad10fd",
   "metadata": {},
   "source": []
  },
  {
   "cell_type": "markdown",
   "id": "1cce25bd-529a-4dda-ac1d-a00d944ea45f",
   "metadata": {},
   "source": []
  }
 ],
 "metadata": {
  "kernelspec": {
   "display_name": "Python 3",
   "language": "python",
   "name": "python3"
  },
  "language_info": {
   "codemirror_mode": {
    "name": "ipython",
    "version": 3
   },
   "file_extension": ".py",
   "mimetype": "text/x-python",
   "name": "python",
   "nbconvert_exporter": "python",
   "pygments_lexer": "ipython3",
   "version": "3.8.8"
  }
 },
 "nbformat": 4,
 "nbformat_minor": 5
}
