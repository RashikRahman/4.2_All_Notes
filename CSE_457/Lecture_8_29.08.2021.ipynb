{
 "cells": [
  {
   "cell_type": "markdown",
   "id": "a2d1de46-4159-43b9-91ec-9e0037ce62b4",
   "metadata": {},
   "source": [
    "<div class=\"alert alert-success\">\n",
    "    <b>Author</b>:\n",
    "\n",
    "      Rashik Rahman\n",
    "      17201012@uap-bd.edu\n",
    "\n",
    "</div>\n",
    "\n",
    "**[Click here to see class lecture](https://drive.google.com/file/d/1jOmQQN-HLUOCKIGt2YlFBFCOQXHyQs3T/view)**\n"
   ]
  },
  {
   "cell_type": "markdown",
   "id": "3dc0d142-653d-4942-8f8e-a0f540ad10fd",
   "metadata": {},
   "source": [
    "**Very imp read carefully page 65 of book**\n",
    "\n",
    "![](figs/87.PNG)\n",
    "\n",
    "![](figs/88.PNG)\n",
    "\n",
    "![](figs/89.PNG)\n",
    "\n",
    "![](figs/90.PNG)\n",
    "\n",
    ".97 is too small number with respect to 10^-6 so its removed for ease of calculation but u need to keep it in exm.\n",
    "\n",
    "![](figs/91.PNG)\n",
    "\n",
    "When vds=vgt saturation starts we know from prev lec. To find this saturation point we do the following calculation and we can say after vds=0.7 saturation starts and from that point vds=vgt. To draw the curve we need to know ids value when vds = 0.7 for this we use eqn 2.10 and for saturation vgt is used in that eqn.  \n",
    "\n",
    "![](figs/92.PNG)  \n",
    "\n",
    "This graph is drawn for vgs=1v. \n",
    "\n",
    "![](figs/93.PNG)\n",
    "\n",
    "For all vgs given in q.\n",
    "\n",
    "![](figs/94.PNG)\n",
    "\n",
    "For vgs = 0.8.\n",
    "\n",
    "![](figs/95.PNG)"
   ]
  },
  {
   "cell_type": "markdown",
   "id": "1cce25bd-529a-4dda-ac1d-a00d944ea45f",
   "metadata": {},
   "source": [
    "# End of lecture!"
   ]
  }
 ],
 "metadata": {
  "kernelspec": {
   "display_name": "Python 3",
   "language": "python",
   "name": "python3"
  },
  "language_info": {
   "codemirror_mode": {
    "name": "ipython",
    "version": 3
   },
   "file_extension": ".py",
   "mimetype": "text/x-python",
   "name": "python",
   "nbconvert_exporter": "python",
   "pygments_lexer": "ipython3",
   "version": "3.8.8"
  }
 },
 "nbformat": 4,
 "nbformat_minor": 5
}
