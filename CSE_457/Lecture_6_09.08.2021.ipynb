{
 "cells": [
  {
   "cell_type": "markdown",
   "metadata": {},
   "source": [
    "<div class=\"alert alert-success\">\n",
    "    <b>Author</b>:\n",
    "\n",
    "      Rashik Rahman\n",
    "      17201012@uap-bd.edu\n",
    "\n",
    "</div>\n",
    "\n",
    "**[Click here to see class lecture](https://drive.google.com/file/d/1W36FTBwNAYtyrvH14-N364VUQv6fKJhw/view)**\n"
   ]
  },
  {
   "cell_type": "markdown",
   "metadata": {},
   "source": [
    "If total chips produces is 500 and among them only 400 chips are good(passed QA) then by yield law we can say production success rate or good cheep producing rate is 80%.\n",
    "\n",
    "![](figs/61.PNG)\n",
    "\n",
    "![](figs/62.PNG)\n",
    "\n",
    "![](figs/63.PNG)\n",
    "\n",
    "Different models for different situations od defects. **These terms are imp for xm. Pay attention to problem type and eqn.** Moore model is most realistic.\n",
    "\n",
    "![](figs/64.PNG)\n"
   ]
  },
  {
   "cell_type": "markdown",
   "metadata": {},
   "source": [
    "\n",
    "Except these 4 rules we may have to use another rule if there's a given parameter named alpha. Alpha is a clustering parameter.\n",
    "\n",
    "![](figs/65.PNG)\n",
    "\n",
    "![](figs/66.PNG)\n",
    "\n",
    "![](figs/67.PNG)\n",
    "\n",
    "Here if each chip's size increases by 10% then considering total size is 100% so the new size will be 110% (after increase). Thus to know how many chips can we fit in the same wafer we divide 500 by 110% or 1.1 . If the dft increase was 20% then 500 would be divided by 120% or 1.2 to get new chip count. And we take integer(floor) version of the division. Increase of area can be calculated in two ways one is size + size * 10% another can be size * total percentage after increase for this case it'll be 0.64 * 110% or 1.1 .\n",
    "\n",
    "![](figs/68.PNG)"
   ]
  },
  {
   "cell_type": "markdown",
   "metadata": {},
   "source": [
    "\n",
    "\n",
    "![](figs/69.PNG)\n",
    "\n",
    "![](figs/70.PNG)\n",
    "\n",
    "![](figs/71.PNG)"
   ]
  },
  {
   "cell_type": "markdown",
   "metadata": {},
   "source": [
    "# End of lecture!"
   ]
  }
 ],
 "metadata": {
  "kernelspec": {
   "display_name": "Python 3",
   "language": "python",
   "name": "python3"
  },
  "language_info": {
   "codemirror_mode": {
    "name": "ipython",
    "version": 3
   },
   "file_extension": ".py",
   "mimetype": "text/x-python",
   "name": "python",
   "nbconvert_exporter": "python",
   "pygments_lexer": "ipython3",
   "version": "3.8.5"
  }
 },
 "nbformat": 4,
 "nbformat_minor": 4
}
