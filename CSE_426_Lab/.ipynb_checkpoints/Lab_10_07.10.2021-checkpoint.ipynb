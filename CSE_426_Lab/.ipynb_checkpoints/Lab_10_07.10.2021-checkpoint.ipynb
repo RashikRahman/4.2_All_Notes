{
 "cells": [
  {
   "cell_type": "markdown",
   "id": "56d1670f-fcbf-4330-8407-7641c0735f03",
   "metadata": {},
   "source": [
    "<div class=\"alert alert-success\">\n",
    "    <b>Author</b>:\n",
    "\n",
    "      Rashik Rahman\n",
    "      17201012@uap-bd.edu\n",
    "\n",
    "</div>\n",
    "\n",
    "**[Click here to see class lecture](https://drive.google.com/file/d/1X7Q70dkXHYlin1h4mkJHGa8Lt2e-NEVE/view)**\n"
   ]
  },
  {
   "cell_type": "code",
   "execution_count": 2,
   "id": "25797b19-7544-4dbe-811e-4087a50965f6",
   "metadata": {},
   "outputs": [
    {
     "data": {
      "text/html": [
       "\n",
       "<iframe src=\"https://drive.google.com/file/d/1X7Q70dkXHYlin1h4mkJHGa8Lt2e-NEVE/preview\" width=\"640\" height=\"480\" allow=\"autoplay\"></iframe>\n"
      ],
      "text/plain": [
       "<IPython.core.display.HTML object>"
      ]
     },
     "metadata": {},
     "output_type": "display_data"
    }
   ],
   "source": [
    "%%html\n",
    "\n",
    "<iframe src=\"https://drive.google.com/file/d/1X7Q70dkXHYlin1h4mkJHGa8Lt2e-NEVE/preview\" width=\"640\" height=\"480\" allow=\"autoplay\"></iframe>"
   ]
  },
  {
   "cell_type": "markdown",
   "id": "0c606a10-9b26-44ff-97ab-52d5d70c2a19",
   "metadata": {},
   "source": [
    "If endpoints are in 0 region then there wont be any intersection but if one poin in 0 another in 5 or 6 then there would be an intersection."
   ]
  },
  {
   "cell_type": "markdown",
   "id": "f2889ff1-be4b-4d82-ab42-9672a2f0fb63",
   "metadata": {},
   "source": []
  }
 ],
 "metadata": {
  "kernelspec": {
   "display_name": "Python 3",
   "language": "python",
   "name": "python3"
  },
  "language_info": {
   "codemirror_mode": {
    "name": "ipython",
    "version": 3
   },
   "file_extension": ".py",
   "mimetype": "text/x-python",
   "name": "python",
   "nbconvert_exporter": "python",
   "pygments_lexer": "ipython3",
   "version": "3.8.8"
  }
 },
 "nbformat": 4,
 "nbformat_minor": 5
}
