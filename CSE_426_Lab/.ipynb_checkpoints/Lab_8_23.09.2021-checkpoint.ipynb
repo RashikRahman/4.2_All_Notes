{
 "cells": [
  {
   "cell_type": "markdown",
   "id": "e9564ed9-313f-4ef5-9f3d-180390297962",
   "metadata": {},
   "source": [
    "<div class=\"alert alert-success\">\n",
    "    <b>Author</b>:\n",
    "\n",
    "      Rashik Rahman\n",
    "      17201012@uap-bd.edu\n",
    "\n",
    "</div>\n",
    "\n",
    "**[Click here to see class lecture](https://drive.google.com/file/d/1-ON9I9M81xjb9tndBJKlgtPlVH9NshpW/view)**\n"
   ]
  },
  {
   "cell_type": "code",
   "execution_count": 1,
   "id": "ee1d00d8-ce67-4f75-8fe2-2afac1903715",
   "metadata": {},
   "outputs": [
    {
     "data": {
      "text/html": [
       "\n",
       "<iframe src=\"https://drive.google.com/file/d/1-ON9I9M81xjb9tndBJKlgtPlVH9NshpW/preview\" width=\"640\" height=\"480\" allow=\"autoplay\"></iframe>\n"
      ],
      "text/plain": [
       "<IPython.core.display.HTML object>"
      ]
     },
     "metadata": {},
     "output_type": "display_data"
    }
   ],
   "source": [
    "%%html\n",
    "\n",
    "<iframe src=\"https://drive.google.com/file/d/1-ON9I9M81xjb9tndBJKlgtPlVH9NshpW/preview\" width=\"640\" height=\"480\" allow=\"autoplay\"></iframe>"
   ]
  },
  {
   "cell_type": "markdown",
   "id": "0dfec86c-9522-44a4-b504-8b89459a581a",
   "metadata": {},
   "source": [
    "![](figs/32.PNG)\n",
    "\n",
    "![](figs/33.PNG)\n",
    "\n",
    "![](figs/34.PNG)"
   ]
  },
  {
   "cell_type": "markdown",
   "id": "def6278b-3f4d-4d1f-811f-481d9aa2b721",
   "metadata": {},
   "source": [
    "# End of lab!"
   ]
  }
 ],
 "metadata": {
  "kernelspec": {
   "display_name": "Python 3",
   "language": "python",
   "name": "python3"
  },
  "language_info": {
   "codemirror_mode": {
    "name": "ipython",
    "version": 3
   },
   "file_extension": ".py",
   "mimetype": "text/x-python",
   "name": "python",
   "nbconvert_exporter": "python",
   "pygments_lexer": "ipython3",
   "version": "3.8.8"
  }
 },
 "nbformat": 4,
 "nbformat_minor": 5
}
