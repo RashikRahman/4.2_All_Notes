{
 "cells": [
  {
   "cell_type": "markdown",
   "metadata": {},
   "source": [
    "<div class=\"alert alert-success\">\n",
    "    <b>Author</b>:\n",
    "\n",
    "      Rashik Rahman\n",
    "      17201012@uap-bd.edu\n",
    "\n",
    "</div>\n",
    "\n",
    "**[Click here to see class lecture](https://drive.google.com/file/d/1_cFPmcZDRqbxPtGbj6Tz2QziX-DpjjyU/view)**\n"
   ]
  },
  {
   "cell_type": "markdown",
   "metadata": {},
   "source": [
    "![](figs/41.PNG)\n",
    "\n",
    "No need to think about orientation of triangle ABC or ACB doesnt matter but for quad and polygon its different. For polygon or quad the orientation must be clock or anti-clockwise.\n",
    "\n",
    "![](figs/42.PNG)\n",
    "\n",
    "![](figs/43.PNG)"
   ]
  },
  {
   "cell_type": "markdown",
   "metadata": {},
   "source": [
    "polygon can draw convex polygon but cant draw concave polygon, concave means there are point inside the green boundary so even if we know the coordinates the polygon function will draw the green boudnary. to draw the star we may use 5 triangles and one polygon.\n",
    "\n",
    "\n",
    "\n",
    "![](figs/44.PNG)"
   ]
  },
  {
   "cell_type": "code",
   "execution_count": null,
   "metadata": {},
   "outputs": [],
   "source": []
  }
 ],
 "metadata": {
  "kernelspec": {
   "display_name": "Python 3 (ipykernel)",
   "language": "python",
   "name": "python3"
  },
  "language_info": {
   "codemirror_mode": {
    "name": "ipython",
    "version": 3
   },
   "file_extension": ".py",
   "mimetype": "text/x-python",
   "name": "python",
   "nbconvert_exporter": "python",
   "pygments_lexer": "ipython3",
   "version": "3.9.7"
  }
 },
 "nbformat": 4,
 "nbformat_minor": 4
}
