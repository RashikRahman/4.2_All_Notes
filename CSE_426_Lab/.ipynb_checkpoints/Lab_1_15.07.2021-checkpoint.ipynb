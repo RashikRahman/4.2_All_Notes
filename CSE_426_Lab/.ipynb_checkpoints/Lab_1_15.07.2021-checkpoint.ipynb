{
 "cells": [
  {
   "cell_type": "markdown",
   "metadata": {},
   "source": [
    "<div class=\"alert alert-success\">\n",
    "    <b>Author</b>:\n",
    "\n",
    "      Rashik Rahman\n",
    "      17201012@uap-bd.edu\n",
    "\n",
    "</div>\n",
    "\n",
    "**[Click here to see class lecture](https://drive.google.com/file/d/1eZw4TLr7wgv110Dsd4djUx2ZCTTIt7q4/view)**\n"
   ]
  },
  {
   "cell_type": "markdown",
   "metadata": {},
   "source": [
    "# Start OpenGL project in codeblocks"
   ]
  },
  {
   "cell_type": "markdown",
   "metadata": {},
   "source": [
    "file->new->projects->GLUT project\n",
    "\n",
    "![](figs/1.PNG)\n",
    "\n",
    "![](figs/2.PNG)\n",
    "\n",
    "Provide gluts location 'C:\\Program Files (x86)\\CodeBlocks\\MinGW'\n",
    "\n",
    "\n",
    "![](figs/3.PNG)\n",
    "\n",
    "Include windows.h in main.c\n",
    "\n",
    "\n",
    "![](figs/4.PNG)\n"
   ]
  },
  {
   "cell_type": "markdown",
   "metadata": {},
   "source": [
    "# End of lab!"
   ]
  }
 ],
 "metadata": {
  "kernelspec": {
   "display_name": "Python 3",
   "language": "python",
   "name": "python3"
  },
  "language_info": {
   "codemirror_mode": {
    "name": "ipython",
    "version": 3
   },
   "file_extension": ".py",
   "mimetype": "text/x-python",
   "name": "python",
   "nbconvert_exporter": "python",
   "pygments_lexer": "ipython3",
   "version": "3.8.5"
  }
 },
 "nbformat": 4,
 "nbformat_minor": 4
}
