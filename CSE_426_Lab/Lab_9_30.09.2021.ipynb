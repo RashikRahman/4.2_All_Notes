{
 "cells": [
  {
   "cell_type": "markdown",
   "id": "ad269a7c-1599-422c-8a23-27479b6eddaf",
   "metadata": {},
   "source": [
    "<div class=\"alert alert-success\">\n",
    "    <b>Author</b>:\n",
    "\n",
    "      Rashik Rahman\n",
    "      17201012@uap-bd.edu\n",
    "\n",
    "</div>\n",
    "\n",
    "**[Click here to see class lecture](https://drive.google.com/file/d/1HyVLH9zhpXWptLSvLTcGWz3HVSfHO-MV/view)**\n"
   ]
  },
  {
   "cell_type": "code",
   "execution_count": 1,
   "id": "5fa0745b-c800-4f08-8f2b-53ff6eda1bf4",
   "metadata": {},
   "outputs": [
    {
     "data": {
      "text/html": [
       "<iframe src=\"https://drive.google.com/file/d/1HyVLH9zhpXWptLSvLTcGWz3HVSfHO-MV/preview\" width=\"640\" height=\"480\" allow=\"autoplay\"></iframe>\n"
      ],
      "text/plain": [
       "<IPython.core.display.HTML object>"
      ]
     },
     "metadata": {},
     "output_type": "display_data"
    }
   ],
   "source": [
    "%%html\n",
    "<iframe src=\"https://drive.google.com/file/d/1HyVLH9zhpXWptLSvLTcGWz3HVSfHO-MV/preview\" width=\"640\" height=\"480\" allow=\"autoplay\"></iframe>"
   ]
  },
  {
   "cell_type": "markdown",
   "id": "63570546-2172-415b-aa14-31e65ef370d7",
   "metadata": {},
   "source": [
    "# Clipping"
   ]
  },
  {
   "cell_type": "markdown",
   "id": "8727bddd-6f80-4bdb-82da-0b680bfbe363",
   "metadata": {},
   "source": [
    "![](figs/35.PNG)\n",
    "\n",
    "9 regions in total.  If a point is on window line then its also inside.\n",
    "\n",
    "![](figs/36.PNG)\n",
    "\n",
    "Condition of each region.\n",
    "\n",
    "![](figs/37.PNG)"
   ]
  },
  {
   "cell_type": "markdown",
   "id": "3a11423c-65a3-43b6-bba4-b0b76ff31738",
   "metadata": {},
   "source": [
    "# End of lab!"
   ]
  }
 ],
 "metadata": {
  "kernelspec": {
   "display_name": "Python 3",
   "language": "python",
   "name": "python3"
  },
  "language_info": {
   "codemirror_mode": {
    "name": "ipython",
    "version": 3
   },
   "file_extension": ".py",
   "mimetype": "text/x-python",
   "name": "python",
   "nbconvert_exporter": "python",
   "pygments_lexer": "ipython3",
   "version": "3.8.8"
  }
 },
 "nbformat": 4,
 "nbformat_minor": 5
}
