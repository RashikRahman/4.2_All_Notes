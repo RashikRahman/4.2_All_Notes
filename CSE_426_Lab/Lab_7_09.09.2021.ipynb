{
 "cells": [
  {
   "cell_type": "markdown",
   "id": "129bf979-594d-4d70-a8be-ef899cfc228a",
   "metadata": {},
   "source": [
    "<div class=\"alert alert-success\">\n",
    "    <b>Author</b>:\n",
    "\n",
    "      Rashik Rahman\n",
    "      17201012@uap-bd.edu\n",
    "\n",
    "</div>\n",
    "\n",
    "**[Click here to see class lecture](https://drive.google.com/file/d/1taAzZOy1yOZKQalGCGTYOwgHaASpT7DL/view)**\n"
   ]
  },
  {
   "cell_type": "markdown",
   "id": "f8b12810-a599-483c-b935-4705d3f85bd1",
   "metadata": {},
   "source": [
    "Lines from north to south pole are called slice, and lines around slice are called stack.\n",
    "\n",
    "![](figs/27.PNG)\n",
    "\n",
    "![](figs/28.PNG)\n",
    "\n",
    "![](figs/29.PNG)\n",
    "\n",
    "These are the platonic solid, here area of each side is same of an object.\n",
    "\n",
    "![](figs/30.PNG)\n",
    "\n",
    "![](figs/31.PNG)"
   ]
  },
  {
   "cell_type": "markdown",
   "id": "cae1aa82-c436-46f5-b8c2-22b28a92a471",
   "metadata": {},
   "source": [
    "# End of lab!"
   ]
  }
 ],
 "metadata": {
  "kernelspec": {
   "display_name": "Python 3",
   "language": "python",
   "name": "python3"
  },
  "language_info": {
   "codemirror_mode": {
    "name": "ipython",
    "version": 3
   },
   "file_extension": ".py",
   "mimetype": "text/x-python",
   "name": "python",
   "nbconvert_exporter": "python",
   "pygments_lexer": "ipython3",
   "version": "3.8.8"
  }
 },
 "nbformat": 4,
 "nbformat_minor": 5
}
