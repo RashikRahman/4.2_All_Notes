{
 "cells": [
  {
   "cell_type": "markdown",
   "id": "b90edc7b-474c-4018-b19c-e7f354cdae09",
   "metadata": {},
   "source": [
    "<div class=\"alert alert-success\">\n",
    "    <b>Author</b>:\n",
    "\n",
    "      Rashik Rahman\n",
    "      17201012@uap-bd.edu\n",
    "\n",
    "</div>\n",
    "\n",
    "**[Click here to see class lecture](https://drive.google.com/file/d/1efwAZmtAG4scvUvWPImq3cZ4UyJSmMYr/view)**\n"
   ]
  },
  {
   "cell_type": "markdown",
   "id": "4dee5661-87e4-41f8-9433-1d2d52b5dae5",
   "metadata": {},
   "source": [
    "GL_double is used for 3d objects.\n",
    "\n",
    "![](figs/14.PNG)\n",
    "\n",
    "As we are implementing 3d so theres multiple frame meaning a buffer and to clear that we need to add glswapbuffer instead of glflush. \n",
    "\n",
    "![](figs/15.PNG)\n",
    "\n",
    "Here we can see orthographic view but we need to see perspective view. To see that we can rotate the cube.\n",
    "\n",
    "![](figs/16.PNG)\n",
    "\n",
    "Rotating all the three axis rotates the cube in a manner that we can see it as an 3d object.\n",
    "\n",
    "![](figs/17.PNG)\n",
    "\n",
    "still its not perspective view. \n",
    "\n",
    "![](figs/18.PNG)\n",
    "\n",
    "For this we need to use a reshape function.\n",
    "\n",
    "![](figs/19.PNG)\n",
    "\n",
    "in reshape func we need to specify some functions. i.e lookAt. This function defines where's the object, camera is and whats the orientation of the camera. \n",
    "\n",
    "![](figs/20.PNG)\n",
    "\n",
    "![](figs/21.PNG)"
   ]
  },
  {
   "cell_type": "markdown",
   "id": "52a0822a-f54c-47b4-800c-ed435be55110",
   "metadata": {},
   "source": [
    "perspective view is used to focus the object or variable focusing and field of view it inverse proportional to size of object. Larger fovy means small object and vice versa.\n",
    "\n",
    "![](figs/22.PNG)\n",
    "\n",
    "viewport window is a area where we show the object.\n",
    "\n",
    "![](figs/23.PNG)\n",
    "\n",
    "spin is used to spin the cube and its called withing idealfunction cz this func always runs the called func.\n",
    "\n",
    "![](figs/24.PNG)\n",
    "\n",
    "![](figs/25.PNG)\n",
    "\n",
    "glClear color buffer is used to remove the trailing edges.\n",
    "\n",
    "![](figs/26.PNG)"
   ]
  },
  {
   "cell_type": "markdown",
   "id": "83df7983-82db-488f-9db0-b495f480536a",
   "metadata": {},
   "source": [
    "# End of lecture!"
   ]
  }
 ],
 "metadata": {
  "kernelspec": {
   "display_name": "Python 3",
   "language": "python",
   "name": "python3"
  },
  "language_info": {
   "codemirror_mode": {
    "name": "ipython",
    "version": 3
   },
   "file_extension": ".py",
   "mimetype": "text/x-python",
   "name": "python",
   "nbconvert_exporter": "python",
   "pygments_lexer": "ipython3",
   "version": "3.8.8"
  }
 },
 "nbformat": 4,
 "nbformat_minor": 5
}
