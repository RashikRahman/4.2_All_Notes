{
 "cells": [
  {
   "cell_type": "markdown",
   "id": "b90edc7b-474c-4018-b19c-e7f354cdae09",
   "metadata": {},
   "source": [
    "<div class=\"alert alert-success\">\n",
    "    <b>Author</b>:\n",
    "\n",
    "      Rashik Rahman\n",
    "      17201012@uap-bd.edu\n",
    "\n",
    "</div>\n",
    "\n",
    "**[Click here to see class lecture](https://drive.google.com/file/d/1efwAZmtAG4scvUvWPImq3cZ4UyJSmMYr/view)**\n"
   ]
  },
  {
   "cell_type": "markdown",
   "id": "4dee5661-87e4-41f8-9433-1d2d52b5dae5",
   "metadata": {},
   "source": []
  },
  {
   "cell_type": "markdown",
   "id": "52a0822a-f54c-47b4-800c-ed435be55110",
   "metadata": {},
   "source": []
  }
 ],
 "metadata": {
  "kernelspec": {
   "display_name": "Python 3",
   "language": "python",
   "name": "python3"
  },
  "language_info": {
   "codemirror_mode": {
    "name": "ipython",
    "version": 3
   },
   "file_extension": ".py",
   "mimetype": "text/x-python",
   "name": "python",
   "nbconvert_exporter": "python",
   "pygments_lexer": "ipython3",
   "version": "3.8.8"
  }
 },
 "nbformat": 4,
 "nbformat_minor": 5
}
