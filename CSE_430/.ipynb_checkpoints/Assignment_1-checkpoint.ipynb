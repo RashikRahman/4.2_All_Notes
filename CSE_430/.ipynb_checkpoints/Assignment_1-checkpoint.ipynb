{
 "cells": [
  {
   "cell_type": "code",
   "execution_count": 1,
   "metadata": {},
   "outputs": [
    {
     "name": "stdin",
     "output_type": "stream",
     "text": [
      " int a = b * c + 10 ;\n"
     ]
    }
   ],
   "source": [
    "string = input()"
   ]
  },
  {
   "cell_type": "code",
   "execution_count": 2,
   "metadata": {},
   "outputs": [
    {
     "data": {
      "text/plain": [
       "['int', 'a', '=', 'b', '*', 'c', '+', 10, ';']"
      ]
     },
     "execution_count": 2,
     "metadata": {},
     "output_type": "execute_result"
    }
   ],
   "source": [
    "str_ls = string.split()\n",
    "for i in range(len(str_ls)):\n",
    "    try:\n",
    "        str_ls[i] = int(str_ls[i])\n",
    "    except:\n",
    "        pass\n",
    "    \n",
    "str_ls"
   ]
  },
  {
   "cell_type": "code",
   "execution_count": 3,
   "metadata": {},
   "outputs": [],
   "source": [
    "data_dict = {\n",
    "    'Keywords': ['short int','unsigned short int','unsigned int','int','long int','unsigned long int','long long int','unsigned long long int','signed char','unsigned char','float','double','long double','wchar_t','if','else','for','while','switch','case','cin','cout'],\n",
    "    'Arithmetic Operator': ['+','-','/','*','='],\n",
    "    'Punctuation': [',','.',';','\\'','\\\"','@','!','#','(',')']\n",
    "}"
   ]
  },
  {
   "cell_type": "code",
   "execution_count": 4,
   "metadata": {},
   "outputs": [],
   "source": [
    "final_dict = {}\n",
    "for value in str_ls:\n",
    "    if isinstance(value, int):\n",
    "        if 'Constant' in final_dict:\n",
    "            final_dict['Constant'].append(value)\n",
    "        else:\n",
    "            final_dict['Constant'] = [value]\n",
    "            \n",
    "    elif value in data_dict['Keywords']:\n",
    "        if 'Keywords' in final_dict:\n",
    "            final_dict['Keywords'].append(value)\n",
    "        else:\n",
    "            final_dict['Keywords'] = [value]\n",
    "            \n",
    "    elif value in data_dict['Arithmetic Operator']:\n",
    "        if 'Arithmetic Operator' in final_dict:\n",
    "            final_dict['Arithmetic Operator'].append(value)\n",
    "        else:\n",
    "            final_dict['Arithmetic Operator'] = [value]\n",
    "            \n",
    "    elif value in data_dict['Punctuation']:\n",
    "        if 'Punctuation' in final_dict:\n",
    "            final_dict['Punctuation'].append(value)\n",
    "        else:\n",
    "            final_dict['Punctuation'] = [value]\n",
    "            \n",
    "    else:\n",
    "        if 'Identifier' in final_dict:\n",
    "            final_dict['Identifier'].append(value)\n",
    "        else:\n",
    "            final_dict['Identifier'] = [value]\n",
    "    \n",
    "        "
   ]
  },
  {
   "cell_type": "code",
   "execution_count": 5,
   "metadata": {},
   "outputs": [
    {
     "name": "stdout",
     "output_type": "stream",
     "text": [
      "Keywords ['int']\n",
      "Identifier ['a', 'b', 'c']\n",
      "Arithmetic Operator ['=', '*', '+']\n",
      "Constant [10]\n",
      "Punctuation [';']\n"
     ]
    }
   ],
   "source": [
    "for key, val in final_dict.items():\n",
    "    print(key, val)"
   ]
  }
 ],
 "metadata": {
  "kernelspec": {
   "display_name": "Python 3",
   "language": "python",
   "name": "python3"
  },
  "language_info": {
   "codemirror_mode": {
    "name": "ipython",
    "version": 3
   },
   "file_extension": ".py",
   "mimetype": "text/x-python",
   "name": "python",
   "nbconvert_exporter": "python",
   "pygments_lexer": "ipython3",
   "version": "3.8.5"
  }
 },
 "nbformat": 4,
 "nbformat_minor": 4
}
