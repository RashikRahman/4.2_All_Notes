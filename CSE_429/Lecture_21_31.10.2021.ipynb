{
 "cells": [
  {
   "cell_type": "markdown",
   "id": "a31f7872-f941-4db5-aad3-b02763e47c96",
   "metadata": {},
   "source": [
    "<div class=\"alert alert-success\">\n",
    "    <b>Author</b>:\n",
    "\n",
    "      Rashik Rahman\n",
    "      17201012@uap-bd.edu\n",
    "\n",
    "</div>\n",
    "\n",
    "**[Click here to see class lecture](https://drive.google.com/file/d/1_rUtptBQ5QDTO0aQzgxDyHWXQQ5o6iRe/view)**\n",
    "\n"
   ]
  },
  {
   "cell_type": "code",
   "execution_count": 1,
   "id": "0f4bd2af-fd49-45ad-93fe-38b36d5fa073",
   "metadata": {},
   "outputs": [
    {
     "data": {
      "text/html": [
       "\n",
       "<iframe src=\"https://drive.google.com/file/d/1_rUtptBQ5QDTO0aQzgxDyHWXQQ5o6iRe/preview\" width=\"640\" height=\"480\" allow=\"autoplay\"></iframe>\n"
      ],
      "text/plain": [
       "<IPython.core.display.HTML object>"
      ]
     },
     "metadata": {},
     "output_type": "display_data"
    }
   ],
   "source": [
    "%%html\n",
    "\n",
    "<iframe src=\"https://drive.google.com/file/d/1_rUtptBQ5QDTO0aQzgxDyHWXQQ5o6iRe/preview\" width=\"640\" height=\"480\" allow=\"autoplay\"></iframe>"
   ]
  },
  {
   "cell_type": "markdown",
   "id": "c9c32ae1-e668-4793-98de-21615b066148",
   "metadata": {},
   "source": [
    "**Summary**\n",
    "\n",
    "Top down can't handle left recursion and left factoring thus bottom up parser is used."
   ]
  },
  {
   "cell_type": "markdown",
   "id": "36080e57-3b21-4692-8e63-29bddacc9127",
   "metadata": {},
   "source": [
    "# Compilation\n",
    "\n",
    "![](figs/185.PNG)\n",
    "\n",
    "Three address code generation is a part of intermediate code generation.\n",
    "\n",
    "![](figs/186.PNG)\n",
    "\n",
    "![](figs/187.PNG)\n",
    "\n",
    "Main work of intermediate code generator is to combine front end and back end.\n",
    "\n",
    "![](figs/188.PNG)\n",
    "\n",
    "**Read more theory from IC.pdf and TAC Examples.docx file**\n",
    "\n",
    "\n",
    "![](figs/193.PNG)\n",
    "\n",
    "![](figs/189.PNG)\n",
    "\n",
    "DAG is short form of AST. From the + node we can reach * node if we go left or right child node thus can merge to make same as the child and leaf nodes are same.\n",
    "\n",
    "![](figs/190.PNG)\n",
    "\n",
    "\n",
    "![](figs/191.PNG)\n",
    "\n",
    "\n",
    "![](figs/192.PNG)\n",
    "\n",
    "\n",
    "![](figs/194.PNG)\n",
    "\n",
    "**We have learned about Linearized DAG/AST now we will learn more complex thing like generating intermediate codes for some simple loop operations.**\n",
    "\n",
    "\n",
    "![](figs/195.PNG)\n",
    "\n",
    "\n",
    "![](figs/196.PNG)\n",
    "\n",
    "\n",
    "![](figs/197.PNG)\n",
    "\n"
   ]
  },
  {
   "cell_type": "markdown",
   "id": "24cc4ad4-4798-4269-8b69-94b5edb87e95",
   "metadata": {},
   "source": [
    "# End of lecture!"
   ]
  }
 ],
 "metadata": {
  "kernelspec": {
   "display_name": "Python 3",
   "language": "python",
   "name": "python3"
  },
  "language_info": {
   "codemirror_mode": {
    "name": "ipython",
    "version": 3
   },
   "file_extension": ".py",
   "mimetype": "text/x-python",
   "name": "python",
   "nbconvert_exporter": "python",
   "pygments_lexer": "ipython3",
   "version": "3.8.8"
  }
 },
 "nbformat": 4,
 "nbformat_minor": 5
}
