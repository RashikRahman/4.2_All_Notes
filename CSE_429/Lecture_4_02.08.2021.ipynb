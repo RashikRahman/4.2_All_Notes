{
 "cells": [
  {
   "cell_type": "markdown",
   "metadata": {},
   "source": [
    "<div class=\"alert alert-success\">\n",
    "    <b>Author</b>:\n",
    "\n",
    "      Rashik Rahman\n",
    "      17201012@uap-bd.edu\n",
    "\n",
    "</div>\n",
    "\n",
    "**[Click here to see class lecture](https://drive.google.com/file/d/1_M631NmxTEDHrgUajqf5Zwcbd8rZ9Fuy/view)**\n"
   ]
  },
  {
   "cell_type": "markdown",
   "metadata": {},
   "source": [
    "![](figs/43.PNG)\n",
    "\n",
    "![](figs/44.PNG)\n",
    "\n",
    "scanner doesn't only tokenize it also removes white space and comments from source.\n",
    "\n",
    "![](figs/45.PNG)\n",
    "\n",
    "Efficient solution maintaining simplicity\n",
    "\n",
    "![](figs/46.PNG)\n",
    "\n",
    "Q can come like given a code determine token, lexeme, pattern. Token doesn't have any direct naming convention, naming convention has to be standard.\n",
    "\n",
    "Lexeme is a sequence that exist in a code. Like `35` can be in tok_integer_constant but it is not in source code so `35` isn't lexeme.  \n",
    "\n",
    "Pattern is a description of lexeme/token.\n",
    "\n",
    "![](figs/47.PNG)\n",
    "\n"
   ]
  },
  {
   "cell_type": "markdown",
   "metadata": {},
   "source": [
    "Everything inside a cotation falls under literal token.\n",
    "\n",
    "![](figs/48.PNG)\n",
    "\n",
    "![](figs/49.PNG)\n",
    "\n",
    "Lexical error is a sequence of characters that does not match the pattern of any token. Lexical phase error is found during the execution of the program.A lexical error is any input that can be rejected by the lexer. This generally results from token recognition falling off the end of the rules you've defined.\n",
    "\n",
    "![](figs/50.PNG)\n",
    "\n",
    "In recovery mode, compiler starts deleting charecters where error occured untill lexical analyzer can find a well-formed token. Like `return 1.23;` here it will get error in `.` so it deletes and that solves the error and finds well-formed token for it `return 123`.\n",
    "\n",
    "![](figs/51.PNG)"
   ]
  },
  {
   "cell_type": "markdown",
   "metadata": {},
   "source": [
    "# End of lecture!"
   ]
  }
 ],
 "metadata": {
  "kernelspec": {
   "display_name": "Python 3",
   "language": "python",
   "name": "python3"
  },
  "language_info": {
   "codemirror_mode": {
    "name": "ipython",
    "version": 3
   },
   "file_extension": ".py",
   "mimetype": "text/x-python",
   "name": "python",
   "nbconvert_exporter": "python",
   "pygments_lexer": "ipython3",
   "version": "3.8.8"
  }
 },
 "nbformat": 4,
 "nbformat_minor": 4
}
