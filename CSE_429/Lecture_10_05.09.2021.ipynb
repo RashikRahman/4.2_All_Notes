{
 "cells": [
  {
   "cell_type": "markdown",
   "id": "a4c3f2d7-5ee7-40ae-8edc-c92753d6e5a5",
   "metadata": {},
   "source": [
    " <div class=\"alert alert-success\">\n",
    "    <b>Author</b>:\n",
    "\n",
    "      Rashik Rahman\n",
    "      17201012@uap-bd.edu\n",
    "\n",
    "</div>\n",
    "\n",
    "**[Click here to see class lecture](https://drive.google.com/file/d/12NEJW9nEM-vEm7q_dF4YB5Xa8miSOUXI/view)**\n"
   ]
  },
  {
   "cell_type": "markdown",
   "id": "4b79a737-2866-476c-ba6f-3cbce1dd690b",
   "metadata": {},
   "source": []
  },
  {
   "cell_type": "markdown",
   "id": "16419772-c291-460d-900f-53b37398f7ce",
   "metadata": {},
   "source": []
  }
 ],
 "metadata": {
  "kernelspec": {
   "display_name": "Python 3",
   "language": "python",
   "name": "python3"
  },
  "language_info": {
   "codemirror_mode": {
    "name": "ipython",
    "version": 3
   },
   "file_extension": ".py",
   "mimetype": "text/x-python",
   "name": "python",
   "nbconvert_exporter": "python",
   "pygments_lexer": "ipython3",
   "version": "3.8.8"
  }
 },
 "nbformat": 4,
 "nbformat_minor": 5
}
