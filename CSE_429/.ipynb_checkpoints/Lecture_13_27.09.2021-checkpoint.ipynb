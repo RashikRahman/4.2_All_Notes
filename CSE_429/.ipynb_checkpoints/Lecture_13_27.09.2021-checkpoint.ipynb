{
 "cells": [
  {
   "cell_type": "markdown",
   "id": "21644c3b-461b-4c1b-bc03-f336ac8f9975",
   "metadata": {},
   "source": [
    "<div class=\"alert alert-success\">\n",
    "    <b>Author</b>:\n",
    "\n",
    "      Rashik Rahman\n",
    "      17201012@uap-bd.edu\n",
    "\n",
    "</div>\n",
    "\n",
    "**[Click here to see class lecture](https://drive.google.com/file/d/17WBtB0Of8xyBnCTUfsCkZg1vC-G1MIbk/view)**\n",
    "\n"
   ]
  },
  {
   "cell_type": "code",
   "execution_count": 1,
   "id": "2aee803f-04da-4d8d-88de-55ab3b463bc7",
   "metadata": {},
   "outputs": [
    {
     "data": {
      "text/html": [
       "\n",
       "<iframe src=\"https://drive.google.com/file/d/17WBtB0Of8xyBnCTUfsCkZg1vC-G1MIbk/preview\" width=\"640\" height=\"480\" allow=\"autoplay\"></iframe>\n"
      ],
      "text/plain": [
       "<IPython.core.display.HTML object>"
      ]
     },
     "metadata": {},
     "output_type": "display_data"
    }
   ],
   "source": [
    "%%html\n",
    "\n",
    "<iframe src=\"https://drive.google.com/file/d/17WBtB0Of8xyBnCTUfsCkZg1vC-G1MIbk/preview\" width=\"640\" height=\"480\" allow=\"autoplay\"></iframe>"
   ]
  },
  {
   "cell_type": "markdown",
   "id": "91034c49-707a-4425-9535-33f2cfcb6801",
   "metadata": {},
   "source": [
    "**This is writting approach**\n",
    "\n",
    "![](figs/111.PNG)\n",
    "\n",
    "**This is for understanding purpose**\n",
    "\n",
    "\"$\" is used to denote that the user input has ended as it is at the end of the input.\n",
    "\n",
    "\n",
    "\n"
   ]
  },
  {
   "cell_type": "markdown",
   "id": "f065a36e-d110-4932-86b1-69e1b10b0b8a",
   "metadata": {},
   "source": [
    "Now we use a stack (LIFO data structure) and insert the dollar sign first in the stack. For this reason when we do operation and reach dollar sign then we'll know we have successfully parsed through the input. Here first insert E into stack then the goal is to get ( so pop E and insert TE' and T is in top cz it will be needs to be used to get (. Now pop T and insert FT'. Pop F and insert (E) as we can get this from F. \n",
    "\n",
    "![](figs/112.PNG)\n",
    "\n",
    "Now we have found ( so the pointer moves to the next char of the input that is id. Using the current stack we need to find id. Going forward now we need to reach ) for this we can pop T' and use T'-> e (epsilon) transition. Now we pop E' and use E'->e transition. No need to add e in stack. Now the last element of stack is ) we pop it and get a match. Finaly when we reach dollar sign the parsing is done.\n",
    "\n",
    "![](figs/113.PNG)\n",
    "\n",
    "![](figs/114.PNG)\n",
    "\n",
    "we use the writing approach format to solve this. Now there can be an input char which doesn't exists in production so we stop at that point and say this string can't be parsed more.\n",
    "\n",
    "![](figs/115.PNG)\n",
    "\n",
    "![](figs/116.PNG)"
   ]
  },
  {
   "cell_type": "markdown",
   "id": "46046d20-618c-42c1-8f09-31b96fc82ec4",
   "metadata": {},
   "source": [
    "Why we say predictive parsing? Using stack we can predict what to choose to reach goal thus it is predictive, like if you choose this production you may reach your goal this is prediction.\n",
    "\n",
    "![](figs/117.PNG)\n",
    "\n",
    "Recursive parser parses blindly. It doesnt use first, follow. It starts from very first production that is S. There may occur failure then it goes to its parent(backtrack). So it backtracks to B. Failures occurs when end result doesnt match with goal.\n",
    "\n",
    "![](figs/118.PNG)\n",
    "\n",
    "But there's no possible soln from B so again backtracks to A.\n",
    "\n",
    "![](figs/119.PNG) \n",
    "![](figs/120.PNG)\n",
    "\n",
    "Doing many back nd forth may finaly reach to goal.\n",
    "\n",
    "![](figs/121.PNG)\n",
    "\n",
    "![](figs/122.PNG)\n",
    "\n",
    "\n"
   ]
  },
  {
   "cell_type": "markdown",
   "id": "a7be9f02-f946-425c-924e-fc8b71fba6bf",
   "metadata": {},
   "source": [
    "# End of lecture!"
   ]
  }
 ],
 "metadata": {
  "kernelspec": {
   "display_name": "Python 3",
   "language": "python",
   "name": "python3"
  },
  "language_info": {
   "codemirror_mode": {
    "name": "ipython",
    "version": 3
   },
   "file_extension": ".py",
   "mimetype": "text/x-python",
   "name": "python",
   "nbconvert_exporter": "python",
   "pygments_lexer": "ipython3",
   "version": "3.8.8"
  }
 },
 "nbformat": 4,
 "nbformat_minor": 5
}
