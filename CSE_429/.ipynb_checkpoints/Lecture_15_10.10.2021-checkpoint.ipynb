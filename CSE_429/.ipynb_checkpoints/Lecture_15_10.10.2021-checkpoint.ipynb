{
 "cells": [
  {
   "cell_type": "markdown",
   "id": "2a0f08f8-797a-4aeb-8ec9-25723b770e90",
   "metadata": {},
   "source": [
    "<div class=\"alert alert-success\">\n",
    "    <b>Author</b>:\n",
    "\n",
    "      Rashik Rahman\n",
    "      17201012@uap-bd.edu\n",
    "\n",
    "</div>\n",
    "\n",
    "**[Click here to see class lecture](https://drive.google.com/file/d/1NaoapGjGxfpyHx7HNUNIPkEYEgzCcVEW/view)**\n",
    "\n"
   ]
  },
  {
   "cell_type": "code",
   "execution_count": 1,
   "id": "022a4314-aa44-4764-86c2-66136adf9263",
   "metadata": {},
   "outputs": [
    {
     "data": {
      "text/html": [
       "<iframe src=\"https://drive.google.com/file/d/1NaoapGjGxfpyHx7HNUNIPkEYEgzCcVEW/preview\" width=\"640\" height=\"480\" allow=\"autoplay\"></iframe>\n"
      ],
      "text/plain": [
       "<IPython.core.display.HTML object>"
      ]
     },
     "metadata": {},
     "output_type": "display_data"
    }
   ],
   "source": [
    "%%html \n",
    "<iframe src=\"https://drive.google.com/file/d/1NaoapGjGxfpyHx7HNUNIPkEYEgzCcVEW/preview\" width=\"640\" height=\"480\" allow=\"autoplay\"></iframe>"
   ]
  },
  {
   "cell_type": "markdown",
   "id": "f0ad98be-bf9f-443d-a65f-300b6152ae3b",
   "metadata": {},
   "source": [
    "![](figs/132.PNG)\n",
    "\n",
    "![](figs/133.PNG)\n",
    "\n",
    "![](figs/134.PNG)\n",
    "\n",
    "![](figs/135.PNG)\n",
    "\n",
    "![](figs/136.PNG)\n",
    "\n",
    "![](figs/137.PNG)"
   ]
  },
  {
   "cell_type": "markdown",
   "id": "2bb6a67f-1d5e-44be-9711-0e393359ad73",
   "metadata": {},
   "source": [
    "Left factor means common tearms. Like here In A's productions alpha is commong among some.\n",
    "\n",
    "\n",
    "![](figs/138.PNG)\n",
    "\n",
    "\n",
    "Here cD is common factor.\n",
    "\n",
    "![](figs/140.PNG)\n",
    "\n",
    "Here common factors are alpha and preceding string is beta. If there's no string after alpha then consider epsilon as beta. And if a production doesn't have any factor then its delta. Now just rewrite B and conclude with B'. B' is made of all betas. Ann B has factor with B' and rest are deltas.\n",
    "\n",
    "![](figs/141.PNG)\n",
    "\n",
    "![](figs/142.PNG)\n",
    "\n",
    "![](figs/143.PNG)"
   ]
  },
  {
   "cell_type": "markdown",
   "id": "31935d6e-366a-4888-a880-ebabd9f209b0",
   "metadata": {},
   "source": [
    "# End of lecture!"
   ]
  }
 ],
 "metadata": {
  "kernelspec": {
   "display_name": "Python 3",
   "language": "python",
   "name": "python3"
  },
  "language_info": {
   "codemirror_mode": {
    "name": "ipython",
    "version": 3
   },
   "file_extension": ".py",
   "mimetype": "text/x-python",
   "name": "python",
   "nbconvert_exporter": "python",
   "pygments_lexer": "ipython3",
   "version": "3.8.8"
  }
 },
 "nbformat": 4,
 "nbformat_minor": 5
}
