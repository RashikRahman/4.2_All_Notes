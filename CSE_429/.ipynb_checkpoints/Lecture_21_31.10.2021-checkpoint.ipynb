{
 "cells": [
  {
   "cell_type": "markdown",
   "id": "a31f7872-f941-4db5-aad3-b02763e47c96",
   "metadata": {},
   "source": [
    "<div class=\"alert alert-success\">\n",
    "    <b>Author</b>:\n",
    "\n",
    "      Rashik Rahman\n",
    "      17201012@uap-bd.edu\n",
    "\n",
    "</div>\n",
    "\n",
    "**[Click here to see class lecture](https://drive.google.com/file/d/1_rUtptBQ5QDTO0aQzgxDyHWXQQ5o6iRe/view)**\n",
    "\n"
   ]
  },
  {
   "cell_type": "code",
   "execution_count": 1,
   "id": "0f4bd2af-fd49-45ad-93fe-38b36d5fa073",
   "metadata": {},
   "outputs": [
    {
     "data": {
      "text/html": [
       "\n",
       "<iframe src=\"https://drive.google.com/file/d/1_rUtptBQ5QDTO0aQzgxDyHWXQQ5o6iRe/preview\" width=\"640\" height=\"480\" allow=\"autoplay\"></iframe>\n"
      ],
      "text/plain": [
       "<IPython.core.display.HTML object>"
      ]
     },
     "metadata": {},
     "output_type": "display_data"
    }
   ],
   "source": [
    "%%html\n",
    "\n",
    "<iframe src=\"https://drive.google.com/file/d/1_rUtptBQ5QDTO0aQzgxDyHWXQQ5o6iRe/preview\" width=\"640\" height=\"480\" allow=\"autoplay\"></iframe>"
   ]
  },
  {
   "cell_type": "markdown",
   "id": "c9c32ae1-e668-4793-98de-21615b066148",
   "metadata": {},
   "source": [
    "**Summary**\n",
    "\n",
    "Top down can't handle left recursion and left factoring thus bottom up parser is used."
   ]
  },
  {
   "cell_type": "markdown",
   "id": "36080e57-3b21-4692-8e63-29bddacc9127",
   "metadata": {},
   "source": [
    "# Compilation\n",
    "\n"
   ]
  },
  {
   "cell_type": "markdown",
   "id": "100ba770-3923-44ad-aff0-511bc7b640e5",
   "metadata": {},
   "source": []
  }
 ],
 "metadata": {
  "kernelspec": {
   "display_name": "Python 3",
   "language": "python",
   "name": "python3"
  },
  "language_info": {
   "codemirror_mode": {
    "name": "ipython",
    "version": 3
   },
   "file_extension": ".py",
   "mimetype": "text/x-python",
   "name": "python",
   "nbconvert_exporter": "python",
   "pygments_lexer": "ipython3",
   "version": "3.8.8"
  }
 },
 "nbformat": 4,
 "nbformat_minor": 5
}
