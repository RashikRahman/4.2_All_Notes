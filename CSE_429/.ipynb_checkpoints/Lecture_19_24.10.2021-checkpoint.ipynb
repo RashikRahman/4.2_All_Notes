{
 "cells": [
  {
   "cell_type": "markdown",
   "id": "8be9c51d-c66c-4f62-b271-be58b074e4c6",
   "metadata": {},
   "source": [
    "<div class=\"alert alert-success\">\n",
    "    <b>Author</b>:\n",
    "\n",
    "      Rashik Rahman\n",
    "      17201012@uap-bd.edu\n",
    "\n",
    "</div>\n",
    "\n",
    "**[Click here to see class lecture](https://drive.google.com/file/d/12CSKQmbCpSFfNtOoEMCTQSq9xQAICVS8/view)**\n",
    "\n"
   ]
  },
  {
   "cell_type": "code",
   "execution_count": 1,
   "id": "3d22f54b-e952-42f6-b190-4cb8d2b14e54",
   "metadata": {},
   "outputs": [
    {
     "data": {
      "text/html": [
       "\n",
       "<iframe src=\"https://drive.google.com/file/d/12CSKQmbCpSFfNtOoEMCTQSq9xQAICVS8/preview\" width=\"640\" height=\"480\" allow=\"autoplay\"></iframe>\n"
      ],
      "text/plain": [
       "<IPython.core.display.HTML object>"
      ]
     },
     "metadata": {},
     "output_type": "display_data"
    }
   ],
   "source": [
    "%%html\n",
    "\n",
    "<iframe src=\"https://drive.google.com/file/d/12CSKQmbCpSFfNtOoEMCTQSq9xQAICVS8/preview\" width=\"640\" height=\"480\" allow=\"autoplay\"></iframe>"
   ]
  },
  {
   "cell_type": "markdown",
   "id": "ca115454-be32-44f3-84db-e90b8d7f04f2",
   "metadata": {},
   "source": [
    "**take help from figure 4.38 for assignment**\n",
    "\n",
    "**See example 4.47, 4.48 for SLR**\n",
    "\n",
    "# SLR1\n",
    "\n",
    "In SLR we generate itemsets just like LR0 but the difference is in making the parsing table. Also CLR and LALR has similar itemset genneration technique which is different from LR0. Making table utilizes different algos for CLR and LALR.\n",
    "\n",
    "![](figs/167.PNG)\n",
    "\n",
    "**LR0 can't handle conflist like s/s,s/r,r/r where s is shift and r is reduce. Here SLR1 parser helps.** In parsing table GOTO section stays same we modify the ACTION section. SLR reduces conflict of LR0 but doesnt fully resolves it. And in ACTION section shift operation is also same like LR0 changes will come in reduce. Unlike LR0 we won't write the whole row with same reduce i.e. r2 (we write r2 as I6 is a production of \"2.S->.aA\" in modified grammer, thus 2 is after r). \n",
    "\n",
    "For the ACTION section reduce function we first calculate first and follow of production. We can use code to generate this. Slight addition to the code part is for production S->AA if we calculate follow(A), for the first A it is followed by another A so we add 2nd A's first to follow(A). Now when we come to 2nd A it isn't followed by anythin and is a nonterminal so we add follow of parrent that is follow(S) to follow(A). follow(S) has dollar in it so we add dollar in follow(A). \n",
    "\n",
    "![](figs/168.PNG)\n",
    "\n",
    "We will need follow for reduce operation. itemset I5 consist production S->AA. it will be reduced as the dot reached end. In LR0 we wrote r1(As it resemlbes \"1.S->.AA)  in I5's row of action side. But here we'll do some calculation. Here we see the left side of I5's production which is S. Now we check follow(S) and find dollar sign in it. So we write r1 in dollar column,I5 row of action section. As follow(S) doesn't have any other value like a,b so a,b column,I5 row of action section will remain blank.\n",
    "\n",
    "![](figs/169.PNG)\n",
    "\n",
    "I6 has production A->aA. For this we check follow(A) and find a,b, dollar sign in it. Thus fill a,b,dollar column, row I6 and fill it with r2.\n",
    "\n",
    "![](figs/170.PNG)\n",
    "\n",
    "I4 has production A->b. For this we check follow(A) and find a,b, dollar sign in it. Thus fill a,b,dollar column, row I4 and fill it with r3.\n",
    "\n",
    "![](figs/171.PNG)"
   ]
  },
  {
   "cell_type": "markdown",
   "id": "95c0584b-3398-4e07-8008-2c6479243b9e",
   "metadata": {},
   "source": [
    "# CLR1\n",
    "\n",
    "CLR1 is better, but why its better? it would be discussed in next lecture.\n",
    "\n",
    "**Itemset generation of CLR1**\n",
    "\n",
    "dollar sign represents lookahead operator. It is used in itemset generation now.\n",
    "\n",
    "![](figs/172.PNG)\n",
    "\n",
    "We add dollar to S' production. Considering dollar as terminal so first(dollar) will be dollar thus add dollar to all other production of S. In 0 we see production S'->.S as S is after dot so we add all production of S in itemset and a dollar sign after each and get I0.\n",
    "\n",
    "Using S we can get I1, here we end I1 without shifting the dot to dollar due to first of dollar will be dollar so no need to shift. As dot has reached end so we make the production I1. \n",
    "\n",
    "![](figs/173.PNG)\n",
    "\n",
    "Now for a we calculate. Using a we'll get I2. Here we get two production shift for a those are 1 and 3 of I0. So we just simply write it by shifting the dot. Now in the first line after shifting the dot we get A. So we add production of A to set. Here the thing is after a there is d,dollar. If we calculate first(d,dollar) we get d cause it is terminal. So we put d in the A's production in set. For the second line there B after dot. And e,dollar is after B so if we calculate first(e,dollar) we get e thus add B's production to set and add e to it. This is how we get I2. \n",
    "\n",
    "![](figs/174.PNG)\n",
    "\n",
    "We calculate I3 using same procedure.\n",
    "\n",
    "![](figs/175.PNG)\n",
    "\n",
    "Now from I2 there's A after dot, so lets start with A. Using A we first write the production by shifting the dot. After the dot there's a terminal so we won't proced further and stop it. So this becomes I4.  using B we get a single production for same reason. Using c we get two production as the dot has shifted to end so we can proceed and make it itemset I6. Same way we make I7, I8, I9. \n",
    "\n",
    "![](figs/176.PNG)\n",
    "\n",
    "From I4. I5, I7, I8 we just get further itemset just by shifting a dot as its just terminals. \n",
    "\n",
    "![](figs/177.PNG)\n",
    "\n"
   ]
  },
  {
   "cell_type": "markdown",
   "id": "07dea35b-43c5-4236-9682-32579ac13187",
   "metadata": {},
   "source": [
    "# End of lecture!"
   ]
  }
 ],
 "metadata": {
  "kernelspec": {
   "display_name": "Python 3",
   "language": "python",
   "name": "python3"
  },
  "language_info": {
   "codemirror_mode": {
    "name": "ipython",
    "version": 3
   },
   "file_extension": ".py",
   "mimetype": "text/x-python",
   "name": "python",
   "nbconvert_exporter": "python",
   "pygments_lexer": "ipython3",
   "version": "3.8.8"
  }
 },
 "nbformat": 4,
 "nbformat_minor": 5
}
