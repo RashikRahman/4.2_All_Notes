{
 "cells": [
  {
   "cell_type": "markdown",
   "id": "921658fc-e6b7-4ff5-9cab-6ca21f3b78a5",
   "metadata": {},
   "source": [
    "<div class=\"alert alert-success\">\n",
    "    <b>Author</b>:\n",
    "\n",
    "      Rashik Rahman\n",
    "      17201012@uap-bd.edu\n",
    "\n",
    "</div>\n",
    "\n",
    "**[Click here to see class lecture](https://drive.google.com/file/d/1zBxI6l9d7C-8en2DEhzyaXshzX7NU2Fq/view)**\n",
    "\n"
   ]
  },
  {
   "cell_type": "code",
   "execution_count": 1,
   "id": "30ee6991-891a-4b89-ba70-d903116b1ac4",
   "metadata": {},
   "outputs": [
    {
     "data": {
      "text/html": [
       "\n",
       "<iframe src=\"https://drive.google.com/file/d/1zBxI6l9d7C-8en2DEhzyaXshzX7NU2Fq/preview\" width=\"640\" height=\"480\" allow=\"autoplay\"></iframe>\n"
      ],
      "text/plain": [
       "<IPython.core.display.HTML object>"
      ]
     },
     "metadata": {},
     "output_type": "display_data"
    }
   ],
   "source": [
    "%%html\n",
    "\n",
    "<iframe src=\"https://drive.google.com/file/d/1zBxI6l9d7C-8en2DEhzyaXshzX7NU2Fq/preview\" width=\"640\" height=\"480\" allow=\"autoplay\"></iframe>"
   ]
  },
  {
   "cell_type": "markdown",
   "id": "005ada3d-7d80-4e4b-9941-fabd1fb10e53",
   "metadata": {},
   "source": [
    "## We'll construct parsing table"
   ]
  },
  {
   "cell_type": "markdown",
   "id": "700f8d33-a22c-48fc-b17b-5f85e36d0181",
   "metadata": {},
   "source": [
    "\n",
    "\n",
    "There are 7 item set ranging from I0 to I6 so there will be 7 rows in the table. Non-terminals will be considered as go to column as here are only two non-terminals S and A so there are two column S and A which is considered as goto columns. And terminals a, b considered as action column. We also add a dollar column as action column in the table. There can be two operations regarding this table. One is shift operation and another one is reduce operation. Shift operation is considering a non-terminal which item stat can we go to from an item set. First we will complete the go to section. From I0 using S we can goto I1, and using A we can goto I2 thus write it in \"go to\" section. In \"action\" section we write it differently. Using \"a\" we can goto I3 from I0. So by default we write I3 in 0,0 position but as it is shift operation in \"action\" section so we write S3 instead of I3. \n",
    "\n",
    "![](figs/155.PNG)\n",
    "\n",
    "Now lets talk about special symbol dollar. This is an extra symbol. We also took an extra transition for augmentation that is S'->.S. So using S from I0 we can goto I1. So in I1's row we write acc meaning accepted. \n",
    "\n",
    "![](figs/156.PNG)"
   ]
  },
  {
   "cell_type": "markdown",
   "id": "b72ce7ca-7248-42ac-b314-1d2c1de140c3",
   "metadata": {},
   "source": [
    "Now lets see the reduce operation. When we can't further derive anything we do reduce operation. Like in I5 there is nothing more to do the full-stop is at the end so we do reduce operation on it. First we write r in I5's row \"action\" section. With r we also write the serial of the production. Like I5 production is S->AA and in the modified grammer list this production is in position 1. So We write r1(position of the production in modified grammer list). For I6 we write r2 following same rule. For I4 it would be r3. \n",
    "\n",
    "![](figs/157.PNG)\n",
    "\n",
    "**See after 1hour mark to know how to make item set, e.g I0**\n",
    "\n",
    "![](figs/158.PNG)\n",
    "\n",
    "In two production we find E after dot so we take both production in I1. \n",
    "\n",
    "![](figs/159.PNG)\n",
    "\n",
    "**Now there can be a prob where there's reduce and shift operation will appear in the same state. We'll discuss this prob in next class.**"
   ]
  },
  {
   "cell_type": "markdown",
   "id": "7735169e-8642-458e-b279-c2d53b454bab",
   "metadata": {},
   "source": [
    "# End of lecture!"
   ]
  }
 ],
 "metadata": {
  "kernelspec": {
   "display_name": "Python 3",
   "language": "python",
   "name": "python3"
  },
  "language_info": {
   "codemirror_mode": {
    "name": "ipython",
    "version": 3
   },
   "file_extension": ".py",
   "mimetype": "text/x-python",
   "name": "python",
   "nbconvert_exporter": "python",
   "pygments_lexer": "ipython3",
   "version": "3.8.8"
  }
 },
 "nbformat": 4,
 "nbformat_minor": 5
}
