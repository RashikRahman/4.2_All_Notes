{
 "cells": [
  {
   "cell_type": "markdown",
   "id": "daee0c2f-6c71-4406-8e5a-34bef079a2a8",
   "metadata": {},
   "source": [
    "<div class=\"alert alert-success\">\n",
    "    <b>Author</b>:\n",
    "\n",
    "      Rashik Rahman\n",
    "      17201012@uap-bd.edu\n",
    "\n",
    "</div>\n",
    "\n",
    "**[Click here to see class lecture](https://drive.google.com/file/d/1BRZQQtH2vD3K2T5kDdy1T_72FyvU8dHJ/view)**\n",
    "\n"
   ]
  },
  {
   "cell_type": "code",
   "execution_count": 2,
   "id": "0589a503-521b-44fe-8a21-4cad06f448b7",
   "metadata": {},
   "outputs": [
    {
     "data": {
      "text/html": [
       "\n",
       "<iframe src=\"https://drive.google.com/file/d/1BRZQQtH2vD3K2T5kDdy1T_72FyvU8dHJ/preview\" width=\"640\" height=\"480\" allow=\"autoplay\"></iframe>\n"
      ],
      "text/plain": [
       "<IPython.core.display.HTML object>"
      ]
     },
     "metadata": {},
     "output_type": "display_data"
    }
   ],
   "source": [
    "%%html\n",
    "\n",
    "<iframe src=\"https://drive.google.com/file/d/1BRZQQtH2vD3K2T5kDdy1T_72FyvU8dHJ/preview\" width=\"640\" height=\"480\" allow=\"autoplay\"></iframe>"
   ]
  },
  {
   "cell_type": "markdown",
   "id": "05f1e6cd-1335-4d44-8ad5-919426421031",
   "metadata": {},
   "source": [
    "Here in I2 and I9 of 2nd column has both shift and reduce operation. But as there's no presidence rule so which one should be executed first is a problem. It is a conflict. In LR0 parser there's no way to omit this conflict and the parser would be stuck here. \n",
    "\n",
    "![](figs/160.PNG)\n",
    "\n",
    "Thus LR0 is the least powerfull among bottom-up approach. It can't handle s/r, s/s or r/r here s is shift r is reduce and / is or. LR0 can't support grammer when conflict happens.\n",
    "\n",
    "# Q can come like, given a grammer justify that LR0 can support it or not. "
   ]
  },
  {
   "cell_type": "markdown",
   "id": "f8de08d1-fdb0-418d-acae-1c36281684f2",
   "metadata": {},
   "source": [
    "Lets see how to parse string using given LR0 grammer. We put dollar at the end of string and push 0 to stack. Then check from the start of the input string. Now we check what operation do we get from row 0 and column \"a\" we select row 0 as 0 is in top of stack currently. It is S3 so we push a and 3 to stack. Now top is 3 so we check from row3 of a(cz 2nd char in string is also a) column. Again we reach S3 from I3 using \"a\". So push a and 3 in stack. After that push b, 4 to stack.\n",
    "\n",
    "**NB: For start state S we get I1 so in row1 column dollar we place acc which means accepted**\n",
    "\n",
    "![](figs/161.PNG)\n",
    "\n",
    "Now for the next element which is 2nd b in the string we start looking from row4 as 4 is in top of stack. We find reduce operation r3 in (I4,b) location. r3 refers to 3rd production of modified grammer which is A->b. Here in this production there is one terminal in RHS so we pop the double amount from stack for this one element we pop two elements from stack. After that push LHS in A. So A is in top and 3 is right before A. So we check which operation can we get from row3 and column \"A\"(the go to section), and we find I6 there thus push 6 in stack and it is the new top of the stack.\n",
    "\n",
    "![](figs/162.PNG)\n",
    "\n",
    "So we have done reduction on the 1st b of the string the pointer is still in the second b and we need to process that. Now top is 6 so we goto row6 and b where we again find reduce r2 so again reduction needs to be done after reduction we can process b. For r2 we get 2nd modified grammer A->aA. Where len of RHS is 2 so we need to pop four elements from stack. Then push LHS that is A and before A we can see 3 in stack so we goto row3 and column A where we again find I6 thus push 6 in stack. The pointer now still is in 2nd b and we still need to process it.\n",
    "\n",
    "![](figs/163.PNG)\n",
    "\n",
    "For row6 of b we again find r2 and the whole process repeats. remove four elements from stack and push A also push (0,A) positions value that is 2(of I2). Now we can process b. In row2, column \"b\" we find S4 thus push b and 4 to column. And the pointer moves to dollar now.\n",
    "\n",
    "![](figs/164.PNG)\n",
    "\n",
    "Now top of stack is 4 so for row4 and column \"dollar\" we get r3 and its corresponding production is A->b. So we pop two element from stack and push A. Now for (row2,A) we find I5 thus push 5 in stack. \n",
    "\n",
    "![](figs/165.PNG)\n",
    "\n",
    "Now top is 5 and pointer is still at dollar. So for row5 dollar column we get r1 which's production is S->AA. Need to pop 4 elements from stack and push S. Now top of stack is S and before it theres a 0. So for (row0,S) we get I1 thus push 1 in stack and pointer still in dollar. So for row1, dollar column we get acc. When acc step is reached all primary element of stack is poped and dollar is pushed so dollar is top of stack.\n",
    "\n",
    "![](figs/166.PNG)\n"
   ]
  },
  {
   "cell_type": "markdown",
   "id": "956a427f-9bc4-4fba-a598-f6d67a0f3475",
   "metadata": {},
   "source": [
    "# End of lecture!"
   ]
  }
 ],
 "metadata": {
  "kernelspec": {
   "display_name": "Python 3",
   "language": "python",
   "name": "python3"
  },
  "language_info": {
   "codemirror_mode": {
    "name": "ipython",
    "version": 3
   },
   "file_extension": ".py",
   "mimetype": "text/x-python",
   "name": "python",
   "nbconvert_exporter": "python",
   "pygments_lexer": "ipython3",
   "version": "3.8.8"
  }
 },
 "nbformat": 4,
 "nbformat_minor": 5
}
