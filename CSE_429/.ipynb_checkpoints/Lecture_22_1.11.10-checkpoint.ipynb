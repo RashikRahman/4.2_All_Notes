{
 "cells": [
  {
   "cell_type": "markdown",
   "id": "b8638091-188e-42df-8240-0af34a8107a0",
   "metadata": {},
   "source": [
    "<div class=\"alert alert-success\">\n",
    "    <b>Author</b>:\n",
    "\n",
    "      Rashik Rahman\n",
    "      17201012@uap-bd.edu\n",
    "\n",
    "</div>\n",
    "\n",
    "**[Click here to see class lecture](https://drive.google.com/file/d/1u55lx-DfIBk_bvX3IHH7mH67NkuNshHR/view)**\n",
    "\n"
   ]
  },
  {
   "cell_type": "code",
   "execution_count": 1,
   "id": "2adc9f19-dee4-43c2-9c1d-21562e5bcc80",
   "metadata": {},
   "outputs": [
    {
     "data": {
      "text/html": [
       "\n",
       "<iframe src=\"https://drive.google.com/file/d/1vGO4I45J2ufwiJqZocVNT-KzeQYVU6Q1/preview\" width=\"640\" height=\"480\" allow=\"autoplay\"></iframe>\n"
      ],
      "text/plain": [
       "<IPython.core.display.HTML object>"
      ]
     },
     "metadata": {},
     "output_type": "display_data"
    }
   ],
   "source": [
    "%%html\n",
    "\n",
    "<iframe src=\"https://drive.google.com/file/d/1vGO4I45J2ufwiJqZocVNT-KzeQYVU6Q1/preview\" width=\"640\" height=\"480\" allow=\"autoplay\"></iframe>"
   ]
  },
  {
   "cell_type": "markdown",
   "id": "189c9b48-c642-41aa-ad1f-9f0df6429d3a",
   "metadata": {},
   "source": [
    "We'll learn about quadruples and triples in 3AC.\n",
    "\n",
    "![](figs/198.PNG)\n",
    "\n",
    "![](figs/199.PNG)\n",
    "\n",
    "In triples we hold address instead of results.\n",
    "\n",
    "![](figs/200.PNG)"
   ]
  },
  {
   "cell_type": "markdown",
   "id": "acb9a783-4339-4528-be84-c0076558a7cd",
   "metadata": {},
   "source": [
    "# Control Flow Graph\n",
    "\n",
    "Each node is each basic block. By selecting and using leader we can make good and efficient graph.\n",
    "\n",
    "![](figs/201.PNG)\n",
    "\n",
    "![](figs/202.PNG)\n",
    "\n",
    "In basic block control starts from the begining of the block and ends at the end of the block where control is shifted. Here control starts from L43 it goes through line 1 and 2 but when in line 3 there's a statement that shifts the control to L44. So Line 1 to line 3 is considered to be basic block 1 or B1 in short. But if the condition isn't satisfied in line 3 then control moves to line 4 and then ends at line 5. As B1 is declared so this two lines would be in B2. Now line 6 is the only line in L44 so we put it in B3 as the control is shifted by default when we reach a labels end.\n",
    "\n",
    "![](figs/203.PNG)\n",
    "\n",
    "\n",
    "![](figs/204.PNG)\n",
    "\n",
    "\n",
    "L1 means Leader  for reason number 1. If condition satiffy of line 3 then goto label44 in label 44 first line is line 6  so it becomes L2. After line 3 there's another line and its L3 as it is the following line of goto statement. Then make leader list.\n",
    "\n",
    "\n",
    "![](figs/205.PNG)\n",
    "\n"
   ]
  },
  {
   "cell_type": "markdown",
   "id": "790c1936-3747-485f-a7ef-8bfcc1cef291",
   "metadata": {},
   "source": [
    "As each leader is the first of a block so we can also draw derive blocks from leaders.\n",
    "\n",
    "![](figs/206.PNG)\n",
    "\n",
    "Here we draw a graphical representation. B1 has line 1 thus write 1 in bracker B2 has line 2 so 2 in bracket. B3 has line 3 to line 9 thus write 3-9 in bracket. Now there's a goto line 3 statement which is a self loop so draw a self loop. Then B4 has line 10-11 and has goto (2) statement which indicates goto Block 2 thus draw a line that shows B4->2. And in B6 theres line 13 to line 17 so write 13-17 in bracket and in last there's a goto statement refering to a self loop thus draw a self loop. This is control flow graph.\n",
    "\n",
    "![](figs/208.PNG)\n",
    "\n",
    "![](figs/209.PNG)\n",
    "\n",
    "![](figs/210.PNG)"
   ]
  },
  {
   "cell_type": "markdown",
   "id": "968c1696-a41f-405a-9439-3b6d8621161e",
   "metadata": {},
   "source": [
    "# End of lecture!"
   ]
  }
 ],
 "metadata": {
  "kernelspec": {
   "display_name": "Python 3",
   "language": "python",
   "name": "python3"
  },
  "language_info": {
   "codemirror_mode": {
    "name": "ipython",
    "version": 3
   },
   "file_extension": ".py",
   "mimetype": "text/x-python",
   "name": "python",
   "nbconvert_exporter": "python",
   "pygments_lexer": "ipython3",
   "version": "3.8.8"
  }
 },
 "nbformat": 4,
 "nbformat_minor": 5
}
