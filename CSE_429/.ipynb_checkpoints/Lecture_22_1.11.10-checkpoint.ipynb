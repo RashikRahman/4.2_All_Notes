{
 "cells": [
  {
   "cell_type": "markdown",
   "id": "b8638091-188e-42df-8240-0af34a8107a0",
   "metadata": {},
   "source": [
    "<div class=\"alert alert-success\">\n",
    "    <b>Author</b>:\n",
    "\n",
    "      Rashik Rahman\n",
    "      17201012@uap-bd.edu\n",
    "\n",
    "</div>\n",
    "\n",
    "**[Click here to see class lecture](https://drive.google.com/file/d/1u55lx-DfIBk_bvX3IHH7mH67NkuNshHR/view)**\n",
    "\n"
   ]
  },
  {
   "cell_type": "code",
   "execution_count": 1,
   "id": "2adc9f19-dee4-43c2-9c1d-21562e5bcc80",
   "metadata": {},
   "outputs": [
    {
     "data": {
      "text/html": [
       "\n",
       "<iframe src=\"https://drive.google.com/file/d/1vGO4I45J2ufwiJqZocVNT-KzeQYVU6Q1/preview\" width=\"640\" height=\"480\" allow=\"autoplay\"></iframe>\n"
      ],
      "text/plain": [
       "<IPython.core.display.HTML object>"
      ]
     },
     "metadata": {},
     "output_type": "display_data"
    }
   ],
   "source": [
    "%%html\n",
    "\n",
    "<iframe src=\"https://drive.google.com/file/d/1vGO4I45J2ufwiJqZocVNT-KzeQYVU6Q1/preview\" width=\"640\" height=\"480\" allow=\"autoplay\"></iframe>"
   ]
  },
  {
   "cell_type": "markdown",
   "id": "189c9b48-c642-41aa-ad1f-9f0df6429d3a",
   "metadata": {},
   "source": [
    "We'll learn about quadruples and triples in 3AC.\n",
    "\n",
    "![](figs/198.PNG)\n",
    "\n",
    "![](figs/199.PNG)\n",
    "\n",
    "In triples we hold address instead of results.\n",
    "\n",
    "![](figs/200.PNG)"
   ]
  },
  {
   "cell_type": "markdown",
   "id": "acb9a783-4339-4528-be84-c0076558a7cd",
   "metadata": {},
   "source": [
    "# Control Flow Graph\n",
    "\n",
    "**till 23min**"
   ]
  },
  {
   "cell_type": "markdown",
   "id": "790c1936-3747-485f-a7ef-8bfcc1cef291",
   "metadata": {},
   "source": []
  }
 ],
 "metadata": {
  "kernelspec": {
   "display_name": "Python 3",
   "language": "python",
   "name": "python3"
  },
  "language_info": {
   "codemirror_mode": {
    "name": "ipython",
    "version": 3
   },
   "file_extension": ".py",
   "mimetype": "text/x-python",
   "name": "python",
   "nbconvert_exporter": "python",
   "pygments_lexer": "ipython3",
   "version": "3.8.8"
  }
 },
 "nbformat": 4,
 "nbformat_minor": 5
}
