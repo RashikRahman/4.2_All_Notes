{
 "cells": [
  {
   "cell_type": "markdown",
   "id": "2572c765-9b7a-46f2-8b9c-89f001c8c253",
   "metadata": {},
   "source": [
    " <div class=\"alert alert-success\">\n",
    "    <b>Author</b>:\n",
    "\n",
    "      Rashik Rahman\n",
    "      17201012@uap-bd.edu\n",
    "\n",
    "</div>\n",
    "\n",
    "**[Click here to see class lecture](https://drive.google.com/file/d/1quFLS1puXU4Z8E3Y2DMqrMH2KavOevpb/view)**\n"
   ]
  },
  {
   "cell_type": "markdown",
   "id": "2573f943-b79d-4c2f-b718-4ceb08b563dd",
   "metadata": {},
   "source": [
    "**See lecture I.pdf***"
   ]
  },
  {
   "cell_type": "markdown",
   "id": "457e09ef-1018-4346-b142-236e6fde1fcd",
   "metadata": {},
   "source": []
  }
 ],
 "metadata": {
  "kernelspec": {
   "display_name": "Python 3",
   "language": "python",
   "name": "python3"
  },
  "language_info": {
   "codemirror_mode": {
    "name": "ipython",
    "version": 3
   },
   "file_extension": ".py",
   "mimetype": "text/x-python",
   "name": "python",
   "nbconvert_exporter": "python",
   "pygments_lexer": "ipython3",
   "version": "3.8.8"
  }
 },
 "nbformat": 4,
 "nbformat_minor": 5
}
