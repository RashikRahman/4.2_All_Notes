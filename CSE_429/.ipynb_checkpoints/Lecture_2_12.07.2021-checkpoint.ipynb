{
 "cells": [
  {
   "cell_type": "markdown",
   "metadata": {},
   "source": [
    "<div class=\"alert alert-success\">\n",
    "    <b>Author</b>:\n",
    "\n",
    "      Rashik Rahman\n",
    "      17201012@uap-bd.edu\n",
    "\n",
    "</div>\n",
    "\n",
    "**[Click here to see class lecture](https://drive.google.com/file/d/1eLDcvTgNI-CVoNR6EsiwDVKdwWkY1xfS/view)**\n"
   ]
  },
  {
   "cell_type": "markdown",
   "metadata": {},
   "source": [
    "![](figs/1.PNG)\n",
    "\n",
    "![](figs/2.PNG)\n",
    "\n",
    "![](figs/3.PNG)\n",
    "\n",
    "![](figs/4.PNG)\n",
    "\n",
    "Syntax checks if the structure is ok or not, and semantics checks the meaning of the context. Here the context may have correct syntex but meaning might be incorrect.\n",
    "\n",
    "![](figs/5.PNG)\n",
    "\n",
    "![](figs/6.PNG)\n",
    "\n",
    "![](figs/7.PNG)"
   ]
  },
  {
   "cell_type": "markdown",
   "metadata": {},
   "source": [
    "Scanner scans source language and generates corresponding tokens. It mainly tokenizes the sources input and assigns a class to it. As like 'int' belongs to 'keyword' class so here keyword is a token. Consider 'int a = 5' here int->keyword, a->identifier/variable, 5->numerical, =->operator. keyword,variable,numerical, operator are tokens, using which the inputs will be tokenized.\n",
    "\n",
    "![](figs/8.PNG)\n",
    "\n",
    "![](figs/9.PNG)\n",
    "\n",
    "![](figs/10.PNG)\n",
    "\n",
    "![](figs/11.PNG)\n",
    "\n",
    "![](figs/12.PNG)\n",
    "\n",
    "![](figs/13.PNG)\n",
    "\n",
    "![](figs/14.PNG)\n",
    "\n",
    "![](figs/15.PNG)"
   ]
  },
  {
   "cell_type": "markdown",
   "metadata": {},
   "source": [
    "![](figs/16.PNG)\n",
    "\n",
    "![](figs/17.PNG)\n",
    "\n",
    "![](figs/18.PNG)\n",
    "\n",
    "![](figs/19.PNG)\n",
    "\n",
    "![](figs/20.PNG)\n",
    "\n",
    "![](figs/21.PNG)"
   ]
  },
  {
   "cell_type": "markdown",
   "metadata": {},
   "source": [
    "lexical analyzer provides a token. Here for simplicity token is of id other wise token maybe variable1, operator1, numeric1 etc.\n",
    "\n",
    "Syntax analyzer provides a parse tree meaning which order the input is parsed and calculated. Parse tree is kind of a binary tree having max child of two. In most cases childs are tooken and parent are operators.\n",
    "\n",
    "![](figs/22.PNG)\n",
    "\n",
    "Semantic anallyzer checks if the parse tree's meaning is ok or not. Here analyzer checks the value of child. ex can be like here what is the meaning of 10? is it a value or a string? \n",
    "\n",
    "![](figs/23.PNG)\n",
    "\n",
    "![](figs/24.PNG)"
   ]
  },
  {
   "cell_type": "markdown",
   "metadata": {},
   "source": [
    "# End of lecture"
   ]
  }
 ],
 "metadata": {
  "kernelspec": {
   "display_name": "Python 3",
   "language": "python",
   "name": "python3"
  },
  "language_info": {
   "codemirror_mode": {
    "name": "ipython",
    "version": 3
   },
   "file_extension": ".py",
   "mimetype": "text/x-python",
   "name": "python",
   "nbconvert_exporter": "python",
   "pygments_lexer": "ipython3",
   "version": "3.8.5"
  }
 },
 "nbformat": 4,
 "nbformat_minor": 4
}
