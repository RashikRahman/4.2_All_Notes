{
 "cells": [
  {
   "cell_type": "markdown",
   "id": "75649fa1-5d31-4f75-a9d8-142bd2e932b4",
   "metadata": {},
   "source": [
    "<div class=\"alert alert-success\">\n",
    "    <b>Author</b>:\n",
    "\n",
    "      Rashik Rahman\n",
    "      17201012@uap-bd.edu\n",
    "\n",
    "</div>\n",
    "\n",
    "**[Click here to see class lecture](https://drive.google.com/file/d/1l8CRk5SvXiwM7M4c1VgpTiruWaMKrlps/view)**\n",
    "\n"
   ]
  },
  {
   "cell_type": "code",
   "execution_count": 2,
   "id": "0b56bbf3-f565-4fdd-ad57-115bcde80167",
   "metadata": {},
   "outputs": [
    {
     "data": {
      "text/html": [
       "\n",
       "<iframe src=\"https://drive.google.com/file/d/1l8CRk5SvXiwM7M4c1VgpTiruWaMKrlps/preview\" width=\"640\" height=\"480\" allow=\"autoplay\"></iframe>\n"
      ],
      "text/plain": [
       "<IPython.core.display.HTML object>"
      ]
     },
     "metadata": {},
     "output_type": "display_data"
    }
   ],
   "source": [
    "%%html\n",
    "\n",
    "<iframe src=\"https://drive.google.com/file/d/1l8CRk5SvXiwM7M4c1VgpTiruWaMKrlps/preview\" width=\"640\" height=\"480\" allow=\"autoplay\"></iframe>"
   ]
  },
  {
   "cell_type": "markdown",
   "id": "14aa2353-d6cd-48cd-9e9a-2f85533c4a77",
   "metadata": {},
   "source": [
    "![](figs/144.PNG)\n",
    "\n",
    "![](figs/145.PNG)\n",
    "\n",
    "![](figs/146.PNG)\n",
    "\n"
   ]
  },
  {
   "cell_type": "code",
   "execution_count": 3,
   "id": "a4540445-4a56-447f-8ce4-3cd86de2fe12",
   "metadata": {},
   "outputs": [
    {
     "data": {
      "text/html": [
       "<iframe width=\"560\" height=\"315\" src=\"https://www.youtube.com/embed/APJ_Eh60Qwo\" title=\"YouTube video player\" frameborder=\"0\" allow=\"accelerometer; autoplay; clipboard-write; encrypted-media; gyroscope; picture-in-picture\" allowfullscreen></iframe>\n"
      ],
      "text/plain": [
       "<IPython.core.display.HTML object>"
      ]
     },
     "metadata": {},
     "output_type": "display_data"
    }
   ],
   "source": [
    "%%html\n",
    "<iframe width=\"560\" height=\"315\" src=\"https://www.youtube.com/embed/APJ_Eh60Qwo\" title=\"YouTube video player\" frameborder=\"0\" allow=\"accelerometer; autoplay; clipboard-write; encrypted-media; gyroscope; picture-in-picture\" allowfullscreen></iframe>"
   ]
  },
  {
   "cell_type": "markdown",
   "id": "bb575783-9949-4d01-b7ea-abc07ea98cfe",
   "metadata": {},
   "source": [
    "grammer starts from S so create S' for augmentation.\n",
    "\n",
    "![](figs/147.PNG)\n",
    "\n",
    "![](figs/148.PNG)\n",
    "\n",
    "dot symbol indicates your are at the start of a production and you need to start processing from string after dot. Here it is \"a\" and for 2nd example it is \"A\". And if the dot is at the last of the production it means parsing is done.\n",
    "\n",
    "![](figs/149.PNG)\n",
    "\n"
   ]
  },
  {
   "cell_type": "markdown",
   "id": "8ae8f6f6-7431-405f-88eb-eacd392b8dde",
   "metadata": {},
   "source": [
    "**Till 28min**"
   ]
  },
  {
   "cell_type": "code",
   "execution_count": null,
   "id": "e93b422c-5f38-4062-81c0-330f07e338c7",
   "metadata": {},
   "outputs": [],
   "source": []
  }
 ],
 "metadata": {
  "kernelspec": {
   "display_name": "Python 3",
   "language": "python",
   "name": "python3"
  },
  "language_info": {
   "codemirror_mode": {
    "name": "ipython",
    "version": 3
   },
   "file_extension": ".py",
   "mimetype": "text/x-python",
   "name": "python",
   "nbconvert_exporter": "python",
   "pygments_lexer": "ipython3",
   "version": "3.8.8"
  }
 },
 "nbformat": 4,
 "nbformat_minor": 5
}
