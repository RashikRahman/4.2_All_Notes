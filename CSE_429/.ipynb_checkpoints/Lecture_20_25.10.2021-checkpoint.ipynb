{
 "cells": [
  {
   "cell_type": "markdown",
   "id": "5ac5e7d7-cf5c-43c1-8d87-a22508713114",
   "metadata": {},
   "source": [
    "<div class=\"alert alert-success\">\n",
    "    <b>Author</b>:\n",
    "\n",
    "      Rashik Rahman\n",
    "      17201012@uap-bd.edu\n",
    "\n",
    "</div>\n",
    "\n",
    "**[Click here to see class lecture](https://drive.google.com/file/d/1vGO4I45J2ufwiJqZocVNT-KzeQYVU6Q1/view)**\n",
    "\n"
   ]
  },
  {
   "cell_type": "code",
   "execution_count": 1,
   "id": "c30a8afa-45f4-4c77-9448-e6d6585d43c7",
   "metadata": {},
   "outputs": [
    {
     "data": {
      "text/html": [
       "\n",
       "<iframe src=\"https://drive.google.com/file/d/1vGO4I45J2ufwiJqZocVNT-KzeQYVU6Q1/preview\" width=\"640\" height=\"480\" allow=\"autoplay\"></iframe>\n"
      ],
      "text/plain": [
       "<IPython.core.display.HTML object>"
      ]
     },
     "metadata": {},
     "output_type": "display_data"
    }
   ],
   "source": [
    "%%html\n",
    "\n",
    "<iframe src=\"https://drive.google.com/file/d/1vGO4I45J2ufwiJqZocVNT-KzeQYVU6Q1/preview\" width=\"640\" height=\"480\" allow=\"autoplay\"></iframe>"
   ]
  },
  {
   "cell_type": "markdown",
   "id": "468918b5-6428-4e4e-afa8-c023aca20ae8",
   "metadata": {},
   "source": [
    "**CLR1 and LALR shares same itemset generation process.**\n",
    "\n",
    "# CLR1\n",
    "\n",
    "At first we don't know whats look ahead value is, thus put dollar after comma. Comma separates production from look ahead. In prev lecture we put dollar in items in I0 cz the look ahead couldnt be determined. Here though we cant determine 0,1 look ahead but can determine look ahead of 2,3. 2,3 were added due to A is in 1's production and after the dot. So there's a Non-terminal A and dollar is left. If we calculate first of these two we get a,b so we write a or b in format like a/b in look ahead of both 2,3.\n",
    "\n",
    "![](figs/178.PNG)\n",
    "\n",
    "Now using A we can get I2. Here at first we just shift the dot. There's A after the dot so we add production of A. After the A there's only a dollar sign so when we calculate first of dollar we get dollar so we place dollar as look ahead for all the added A productions.\n",
    "\n",
    "Using a we get I3. Here we just shift the dot and find A after dot so add all A productions. Then there's a/b after A so first(a/b) is a/b thus add it as look ahead for all other A productions. Similar for I4.\n",
    "\n",
    "![](figs/179.PNG)\n",
    "\n",
    "![](figs/180.PNG)\n",
    "\n",
    "**Table generation**\n",
    "\n",
    "goto section and shift of action section is same as SLR or LR0. But reduce operation is different here. We use some techniques to fill reduce operation in table based on look ahead operator. \n",
    "\n",
    "For I5 the look ahead is dollar. As I5 resembels 1 so we write r1 in dollar colmn, I5 row. Considering I4 as a/b is look ahead so we place r3 in both a,b. \n",
    "\n",
    "![](figs/181.PNG)\n",
    "\n",
    "Same goes for I7, I8, I9.\n",
    "\n",
    "![](figs/182.PNG)"
   ]
  },
  {
   "cell_type": "markdown",
   "id": "61eafb22-7c39-4098-b108-b4a65f235c9a",
   "metadata": {},
   "source": [
    "# LALR\n",
    "\n",
    "We can use same concept of CLR considering itemset, table for LALR. Itemset of CLR can be greater or equal to LR0. As the itemset sometimes increases in CLR so LALR tries to reduce the number of itemset for the ease of persing. \n",
    "\n",
    "First it looks if there's any itemset exists that have same production but different look ahead op. As example I3 and I6 has same production even same dot positioning but different look ahead. So we try to merge I3 and I6 and make I36. How we do this? First we find matching itemset. These are I36, I47, I89. So in all rows if value of shift or I is 3 or 6 then it becomes 36, if it is 4 or 7 it becomes 47 if its 8 or 9 it becomes 89. Thus in row I36 we get to see S36, S47 and I89. Now for the reduce we just unioun the rows.  Here there's a mistake in LALR table, I0 isn't here by mistake thus values got mismatched.\n",
    "\n",
    "![](figs/183.PNG)\n",
    "\n",
    "**Corrected LALR**\n",
    "\n",
    "\n",
    "![](figs/184.PNG)\n"
   ]
  },
  {
   "cell_type": "markdown",
   "id": "92155347-3f69-4b7a-a340-d3737386404c",
   "metadata": {},
   "source": [
    "# End of lecture!"
   ]
  }
 ],
 "metadata": {
  "kernelspec": {
   "display_name": "Python 3",
   "language": "python",
   "name": "python3"
  },
  "language_info": {
   "codemirror_mode": {
    "name": "ipython",
    "version": 3
   },
   "file_extension": ".py",
   "mimetype": "text/x-python",
   "name": "python",
   "nbconvert_exporter": "python",
   "pygments_lexer": "ipython3",
   "version": "3.8.8"
  }
 },
 "nbformat": 4,
 "nbformat_minor": 5
}
