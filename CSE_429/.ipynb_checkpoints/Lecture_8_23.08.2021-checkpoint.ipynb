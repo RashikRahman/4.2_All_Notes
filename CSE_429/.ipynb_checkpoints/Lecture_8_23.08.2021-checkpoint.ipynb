{
 "cells": [
  {
   "cell_type": "markdown",
   "id": "51b44886-c95e-4f2d-98d7-eb7015bb089a",
   "metadata": {},
   "source": [
    " <div class=\"alert alert-success\">\n",
    "    <b>Author</b>:\n",
    "\n",
    "      Rashik Rahman\n",
    "      17201012@uap-bd.edu\n",
    "\n",
    "</div>\n",
    "\n",
    "**[Click here to see class lecture](https://drive.google.com/file/d/1ahtLHl-RCaa9t-RZLWfmNwpQ759tUt4d/view)**\n"
   ]
  },
  {
   "cell_type": "markdown",
   "id": "07768155-d4d0-4aec-839f-2b2198eeea36",
   "metadata": {},
   "source": [
    "![](figs/73.PNG)\n",
    "\n",
    "![](figs/74.PNG)\n",
    "\n",
    "![](figs/75.PNG)\n",
    "\n",
    "![](figs/76.PNG)\n",
    "\n",
    "![](figs/77.PNG)"
   ]
  },
  {
   "cell_type": "markdown",
   "id": "08f60af4-f051-4f82-b388-70b67e1ae7c4",
   "metadata": {},
   "source": [
    "# End of lab!"
   ]
  }
 ],
 "metadata": {
  "kernelspec": {
   "display_name": "Python 3",
   "language": "python",
   "name": "python3"
  },
  "language_info": {
   "codemirror_mode": {
    "name": "ipython",
    "version": 3
   },
   "file_extension": ".py",
   "mimetype": "text/x-python",
   "name": "python",
   "nbconvert_exporter": "python",
   "pygments_lexer": "ipython3",
   "version": "3.8.8"
  }
 },
 "nbformat": 4,
 "nbformat_minor": 5
}
