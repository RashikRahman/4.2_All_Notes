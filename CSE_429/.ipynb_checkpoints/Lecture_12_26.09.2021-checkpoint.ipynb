{
 "cells": [
  {
   "cell_type": "markdown",
   "id": "21644c3b-461b-4c1b-bc03-f336ac8f9975",
   "metadata": {},
   "source": [
    "<div class=\"alert alert-success\">\n",
    "    <b>Author</b>:\n",
    "\n",
    "      Rashik Rahman\n",
    "      17201012@uap-bd.edu\n",
    "\n",
    "</div>\n",
    "\n",
    "**[Click here to see class lecture](https://drive.google.com/file/d/16q3jDdomZ7aMo6MHDOJlWPkRFyMIMUn1/view)**\n",
    "\n"
   ]
  },
  {
   "cell_type": "code",
   "execution_count": 1,
   "id": "2aee803f-04da-4d8d-88de-55ab3b463bc7",
   "metadata": {},
   "outputs": [
    {
     "data": {
      "text/html": [
       "<iframe src=\"https://drive.google.com/file/d/16q3jDdomZ7aMo6MHDOJlWPkRFyMIMUn1/preview\" width=\"640\" height=\"480\" allow=\"autoplay\"></iframe>\n"
      ],
      "text/plain": [
       "<IPython.core.display.HTML object>"
      ]
     },
     "metadata": {},
     "output_type": "display_data"
    }
   ],
   "source": [
    "%%html\n",
    "<iframe src=\"https://drive.google.com/file/d/16q3jDdomZ7aMo6MHDOJlWPkRFyMIMUn1/preview\" width=\"640\" height=\"480\" allow=\"autoplay\"></iframe>"
   ]
  },
  {
   "cell_type": "markdown",
   "id": "8ebcbe5b-f4d4-4733-88e0-6ab54fdf68b1",
   "metadata": {},
   "source": [
    "Each non terminal is assigned to a row and each terminals is assigned to colomn, only e(epsilon wont be any row/column. The table will be filled by productions. Using first we can see for E we get (,id so In row E and column (, id we fill production E->TE', other column is - cz there's no first func for those. Now for E' row we get +,e in first. Now E' has two production but only one can be used to fill the box. Now as we are considering + terminal in first so we need to see for which production we get +. We see that for E'->+TE' production we get + so we use this production to fill.\n",
    "\n",
    "![](figs/123.PNG)\n",
    "\n",
    "Now why or where use follow func? It is used when you get e. in first func of E' theres a e for this we goto follow func of E' and get dollar sign and ) so we fill those column of E' row with E'->e production.\n",
    "\n",
    "![](figs/124.PNG)\n",
    "\n",
    "in first func we get (, id for F. F has two production, F->(E) for this we get ( and F->id for this we get id thus use these to fill corresponding boxes.\n",
    "\n",
    "![](figs/125.PNG)"
   ]
  },
  {
   "cell_type": "markdown",
   "id": "a6aa2804-2fa1-4570-b310-17a3db4171d1",
   "metadata": {},
   "source": [
    "# End of lecture!"
   ]
  }
 ],
 "metadata": {
  "kernelspec": {
   "display_name": "Python 3",
   "language": "python",
   "name": "python3"
  },
  "language_info": {
   "codemirror_mode": {
    "name": "ipython",
    "version": 3
   },
   "file_extension": ".py",
   "mimetype": "text/x-python",
   "name": "python",
   "nbconvert_exporter": "python",
   "pygments_lexer": "ipython3",
   "version": "3.8.8"
  }
 },
 "nbformat": 4,
 "nbformat_minor": 5
}
