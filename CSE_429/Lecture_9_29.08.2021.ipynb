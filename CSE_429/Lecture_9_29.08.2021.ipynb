{
 "cells": [
  {
   "cell_type": "markdown",
   "id": "3b06d442-f6ef-4553-8076-1393ec44afb9",
   "metadata": {},
   "source": [
    " <div class=\"alert alert-success\">\n",
    "    <b>Author</b>:\n",
    "\n",
    "      Rashik Rahman\n",
    "      17201012@uap-bd.edu\n",
    "\n",
    "</div>\n",
    "\n",
    "**[Click here to see class lecture](https://drive.google.com/file/d/1QmPnV6c3x3cwcjzxBLh1aYlRsp4rHQu8/view)**\n"
   ]
  },
  {
   "cell_type": "markdown",
   "id": "27c63c21-0b99-48d6-b0cc-64be52c58012",
   "metadata": {},
   "source": [
    "![](figs/78.PNG)\n",
    "\n",
    "![](figs/79.PNG)\n",
    "\n",
    "![](figs/80.PNG)\n",
    "\n",
    "![](figs/81.PNG)\n",
    "\n",
    "![](figs/82.PNG)\n",
    "\n",
    "![](figs/83.PNG)\n",
    "\n",
    "![](figs/84.PNG)\n",
    "\n"
   ]
  },
  {
   "cell_type": "markdown",
   "id": "333a8b35-713f-4443-8f6a-24a9093a23be",
   "metadata": {},
   "source": [
    "\n",
    "\n",
    "\n",
    "![](figs/85.PNG)\n",
    "\n",
    "![](figs/86.PNG)\n",
    "\n",
    "![](figs/87.PNG)\n",
    "\n",
    "**See this example and try to understand.**\n",
    "\n",
    "![](figs/90.PNG)\n",
    "\n",
    "![](figs/88.PNG)\n",
    "\n",
    "![](figs/89.PNG)"
   ]
  },
  {
   "cell_type": "markdown",
   "id": "9e6d2330-7fa1-415f-a8da-2a4f71c47c8a",
   "metadata": {},
   "source": [
    "# End of lecture!"
   ]
  }
 ],
 "metadata": {
  "kernelspec": {
   "display_name": "Python 3",
   "language": "python",
   "name": "python3"
  },
  "language_info": {
   "codemirror_mode": {
    "name": "ipython",
    "version": 3
   },
   "file_extension": ".py",
   "mimetype": "text/x-python",
   "name": "python",
   "nbconvert_exporter": "python",
   "pygments_lexer": "ipython3",
   "version": "3.8.8"
  }
 },
 "nbformat": 4,
 "nbformat_minor": 5
}
