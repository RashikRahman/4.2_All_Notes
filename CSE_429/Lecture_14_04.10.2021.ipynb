{
 "cells": [
  {
   "cell_type": "markdown",
   "id": "f7e46574-3beb-4d39-bd82-6d63fa83fc34",
   "metadata": {},
   "source": [
    "<div class=\"alert alert-success\">\n",
    "    <b>Author</b>:\n",
    "\n",
    "      Rashik Rahman\n",
    "      17201012@uap-bd.edu\n",
    "\n",
    "</div>\n",
    "\n",
    "**[Click here to see class lecture](https://drive.google.com/file/d/1k3Donz3Y4S-DBLu0cgpkxsPUoBN6YzG-/view)**\n",
    "\n"
   ]
  },
  {
   "cell_type": "code",
   "execution_count": 1,
   "id": "8317515d-6d51-4c98-b437-781c44b9ad31",
   "metadata": {},
   "outputs": [
    {
     "data": {
      "text/html": [
       "\n",
       "<iframe src=\"https://drive.google.com/file/d/1k3Donz3Y4S-DBLu0cgpkxsPUoBN6YzG-/preview\" width=\"640\" height=\"480\" allow=\"autoplay\"></iframe>\n"
      ],
      "text/plain": [
       "<IPython.core.display.HTML object>"
      ]
     },
     "metadata": {},
     "output_type": "display_data"
    }
   ],
   "source": [
    "%%html\n",
    "\n",
    "<iframe src=\"https://drive.google.com/file/d/1k3Donz3Y4S-DBLu0cgpkxsPUoBN6YzG-/preview\" width=\"640\" height=\"480\" allow=\"autoplay\"></iframe>"
   ]
  },
  {
   "cell_type": "markdown",
   "id": "b161e184-0658-498b-82a7-4e55e55558bd",
   "metadata": {},
   "source": [
    "Every parser are working with context free grammer to build parse tree. Top down is easy but it only works with good grammer not complex/difficult grammer.\n",
    "\n",
    "We'll talk about two problems of context free grammer. One is **left recursion** another is **left factoring**.\n",
    "\n",
    "![](figs/126.PNG)\n",
    "\n",
    "![](figs/127.PNG)\n",
    "\n",
    "Left recursion will occur if non terminal of left calls itself in right. Like here non terminal A calls itself in right side. So recursion occurs with non terminal aspect. In A's production there's a A and depending on the position like if the A is in left side of the production then it is left recursion and if the A in the right side of the production then it is right recursion. So top down parser can't process this kind of recursion problem.\n",
    "\n",
    "![](figs/128.PNG)\n",
    "\n",
    "Given, \n",
    "\n",
    "A->A alpha/ Beta, Here A alpha represent such elements where left recursion occurs and beta represents such elements where there's no recursion. We modify left recursion so that instear of left recursion there's right recursion as we can handle right recursion.\n",
    "\n",
    "![](figs/129.PNG)\n",
    "\n",
    "Example of convertion.\n",
    "\n",
    "![](figs/130.PNG)\n",
    "\n",
    "So before first-follow calculation we need to perform left recursion elemenation.\n",
    "\n",
    "**Complex problem**\n",
    "\n",
    "![](figs/131.PNG)"
   ]
  },
  {
   "cell_type": "markdown",
   "id": "6813503c-bdf9-4fff-965b-32551f320fbf",
   "metadata": {},
   "source": [
    "# End of lecture!"
   ]
  }
 ],
 "metadata": {
  "kernelspec": {
   "display_name": "Python 3",
   "language": "python",
   "name": "python3"
  },
  "language_info": {
   "codemirror_mode": {
    "name": "ipython",
    "version": 3
   },
   "file_extension": ".py",
   "mimetype": "text/x-python",
   "name": "python",
   "nbconvert_exporter": "python",
   "pygments_lexer": "ipython3",
   "version": "3.8.8"
  }
 },
 "nbformat": 4,
 "nbformat_minor": 5
}
