{
 "cells": [
  {
   "cell_type": "markdown",
   "metadata": {},
   "source": [
    " <div class=\"alert alert-success\">\n",
    "    <b>Author</b>:\n",
    "\n",
    "      Rashik Rahman\n",
    "      17201012@uap-bd.edu\n",
    "\n",
    "</div>\n",
    "\n",
    "**[Click here to see class lecture](https://drive.google.com/file/d/16uXvvLKOQDbf9YBNuXSve22yZ2PfH_7y/view)**\n"
   ]
  },
  {
   "cell_type": "markdown",
   "metadata": {},
   "source": [
    "![](figs/68.PNG)\n",
    " \n",
    "![](figs/69.PNG)\n",
    " \n",
    "Design a NFA that ends with 'abb'. As in NFA we allow an empty string thus epsilon symbol is allowed. So no string will also be accepted. Thus there's a connection from start to final state with epsilon symbol.\n",
    " \n",
    "![](figs/70.PNG)\n",
    " \n",
    "![](figs/71.PNG)\n",
    " \n",
    "![](figs/72.PNG)\n",
    " \n",
    " "
   ]
  },
  {
   "cell_type": "markdown",
   "metadata": {},
   "source": [
    "# End of lecture !"
   ]
  }
 ],
 "metadata": {
  "kernelspec": {
   "display_name": "Python 3",
   "language": "python",
   "name": "python3"
  },
  "language_info": {
   "codemirror_mode": {
    "name": "ipython",
    "version": 3
   },
   "file_extension": ".py",
   "mimetype": "text/x-python",
   "name": "python",
   "nbconvert_exporter": "python",
   "pygments_lexer": "ipython3",
   "version": "3.8.8"
  }
 },
 "nbformat": 4,
 "nbformat_minor": 4
}
