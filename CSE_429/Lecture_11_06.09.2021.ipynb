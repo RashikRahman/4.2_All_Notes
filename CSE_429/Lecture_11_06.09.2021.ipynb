{
 "cells": [
  {
   "cell_type": "markdown",
   "id": "2572c765-9b7a-46f2-8b9c-89f001c8c253",
   "metadata": {},
   "source": [
    " <div class=\"alert alert-success\">\n",
    "    <b>Author</b>:\n",
    "\n",
    "      Rashik Rahman\n",
    "      17201012@uap-bd.edu\n",
    "\n",
    "</div>\n",
    "\n",
    "**[Click here to see class lecture](https://drive.google.com/file/d/1quFLS1puXU4Z8E3Y2DMqrMH2KavOevpb/view)**\n"
   ]
  },
  {
   "cell_type": "markdown",
   "id": "2573f943-b79d-4c2f-b718-4ceb08b563dd",
   "metadata": {},
   "source": [
    "**See lecture I.pdf***\n"
   ]
  },
  {
   "cell_type": "markdown",
   "id": "457e09ef-1018-4346-b142-236e6fde1fcd",
   "metadata": {},
   "source": [
    "In parse tree CFG is used along with other 6 methods.\n",
    "\n",
    "![](figs/98.PNG)\n",
    "\n",
    "Though we have learned RE still need CFG cz RE has some limitations(following fig).\n",
    "\n",
    "![](figs/99.PNG)\n",
    "\n",
    "stmt is start symbol and its non terminal. keywords, token class, punctuation are terminal everything else is non terminal. Non terminal can be updated, changed, derived. In other words capital letter and epsilon are non terminal.\n",
    "\n",
    "![](figs/100.PNG)\n",
    "\n",
    "Here we can change E's meaning so its nonterminal. Non-terminal is variable.\n",
    "\n",
    "![](figs/101.PNG)\n",
    "\n",
    "Terminals are represented by small latters and nontarminal starts with capital letter.\n",
    "\n",
    "![](figs/102.PNG)\n",
    "\n",
    "Derive element line by line. In each line you can only derive once.\n",
    "\n",
    "![](figs/103.PNG)\n",
    "\n",
    "![](figs/104.PNG)"
   ]
  },
  {
   "cell_type": "markdown",
   "id": "dc69f9a0-61c3-4dc0-b0f3-f6cbccb769f2",
   "metadata": {},
   "source": [
    "**Example**\n",
    "\n",
    "![](figs/105.PNG)\n",
    "\n",
    "![](figs/106.PNG)\n",
    "\n",
    "\n",
    "If we get same parse tree using LMD or RMD then the grammer has no problem its unambiguous.\n",
    "\n",
    "![](figs/107.PNG)\n",
    "\n",
    "![](figs/108.PNG)\n",
    "\n",
    "When we get multiple parse tree for same string then the parser get confused and stuck.\n",
    "\n",
    "![](figs/110.PNG)\n",
    "\n",
    "![](figs/109.PNG)\n"
   ]
  },
  {
   "cell_type": "markdown",
   "id": "758ffffc-536f-41a4-aec8-00c630a235ad",
   "metadata": {},
   "source": [
    "**See lab 3**\n",
    "\n",
    "# End of lecture!"
   ]
  }
 ],
 "metadata": {
  "kernelspec": {
   "display_name": "Python 3",
   "language": "python",
   "name": "python3"
  },
  "language_info": {
   "codemirror_mode": {
    "name": "ipython",
    "version": 3
   },
   "file_extension": ".py",
   "mimetype": "text/x-python",
   "name": "python",
   "nbconvert_exporter": "python",
   "pygments_lexer": "ipython3",
   "version": "3.8.8"
  }
 },
 "nbformat": 4,
 "nbformat_minor": 5
}
