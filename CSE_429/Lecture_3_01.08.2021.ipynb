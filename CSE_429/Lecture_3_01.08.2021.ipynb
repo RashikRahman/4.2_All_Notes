{
 "cells": [
  {
   "cell_type": "markdown",
   "metadata": {},
   "source": [
    "<div class=\"alert alert-success\">\n",
    "    <b>Author</b>:\n",
    "\n",
    "      Rashik Rahman\n",
    "      17201012@uap-bd.edu\n",
    "\n",
    "</div>\n",
    "\n",
    "**[Click here to see class lecture](https://drive.google.com/file/d/1By5c1ZrHIOpUe8k8rgcgWqJ2so1DBgtu/view)**\n"
   ]
  },
  {
   "cell_type": "markdown",
   "metadata": {},
   "source": [
    "Lexical analysis is the first phase of a compiler. It takes the modified source code from language preprocessors that are written in the form of sentences. The lexical analyzer breaks these syntaxes into a series of tokens, by removing any whitespace or comments in the source code. Token like int belongs to keyword so int is tokenized by keyword.\n",
    "\n",
    "A syntax analyzer or parser takes the input from a lexical analyzer in the form of token streams. The parser analyzes the source code (token stream) against the production rules to detect any errors in the code. Parsers are expected to parse the whole code even if some errors exist in the program.\n",
    "\n",
    "Semantic Analysis makes sure that declarations and statements of program are semantically correct. It is a collection of procedures which is called by parser as and when required by grammar. Type checking is an important part of semantic analysis where compiler makes sure that each operator has matching operands.\n",
    "\n",
    "Intermediate lang is to breakdown complex structures into easly workable sub structures. Code generator converts optimized intermediate language to target lang.\n",
    "\n",
    "![](figs/25.PNG)\n"
   ]
  },
  {
   "cell_type": "markdown",
   "metadata": {},
   "source": [
    "![](figs/26.PNG)\n",
    "\n",
    "![](figs/27.png)\n",
    "\n",
    "![](figs/28.png)\n",
    "\n",
    "![](figs/29.png)\n",
    "\n",
    "![](figs/30.PNG)"
   ]
  },
  {
   "cell_type": "markdown",
   "metadata": {},
   "source": [
    "\n",
    "![](figs/31.PNG)\n",
    "\n",
    "![](figs/32.PNG)\n",
    "\n",
    "![](figs/33.PNG)\n",
    "\n",
    "![](figs/34.PNG)"
   ]
  },
  {
   "cell_type": "markdown",
   "metadata": {},
   "source": [
    "Every phase a error handler. like lexical analyzer may generate fault token like 1a can't be a variable/identifier but scanner may token it or generate a warning or token it with OOV(out of vocab). These and many more stuff are handled by error handler of scanner phase. Like this each phase has its own error handler.\n",
    "\n",
    "![](figs/21.PNG)\n",
    "\n",
    "![](figs/35.PNG)\n",
    "\n",
    "![](figs/36.PNG)\n",
    "\n",
    "![](figs/37.PNG)\n",
    "\n",
    "![](figs/38.PNG)"
   ]
  },
  {
   "cell_type": "markdown",
   "metadata": {},
   "source": [
    "\n",
    "\n",
    "![](figs/40.PNG)\n",
    "\n",
    "![](figs/41.PNG)\n",
    "\n",
    "![](figs/42.PNG)\n",
    "\n",
    "![](figs/39.PNG)"
   ]
  },
  {
   "cell_type": "markdown",
   "metadata": {},
   "source": [
    "# End of lecture!"
   ]
  }
 ],
 "metadata": {
  "kernelspec": {
   "display_name": "Python 3",
   "language": "python",
   "name": "python3"
  },
  "language_info": {
   "codemirror_mode": {
    "name": "ipython",
    "version": 3
   },
   "file_extension": ".py",
   "mimetype": "text/x-python",
   "name": "python",
   "nbconvert_exporter": "python",
   "pygments_lexer": "ipython3",
   "version": "3.8.8"
  }
 },
 "nbformat": 4,
 "nbformat_minor": 4
}
