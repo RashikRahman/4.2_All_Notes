{
 "cells": [
  {
   "cell_type": "markdown",
   "id": "6f56a4a2-e2e2-48eb-b608-2c828069796f",
   "metadata": {},
   "source": [
    " <div class=\"alert alert-success\">\n",
    "    <b>Author</b>:\n",
    "\n",
    "      Rashik Rahman\n",
    "      17201012@uap-bd.edu\n",
    "\n",
    "</div>\n",
    "\n",
    "\n"
   ]
  },
  {
   "cell_type": "markdown",
   "id": "f92da7ad-bb18-4413-9fac-ada0f98508a2",
   "metadata": {
    "tags": []
   },
   "source": [
    "# First and Follow of a given grammar\n",
    "\n",
    "Epsilon is represented by @\n",
    "\n",
    "\n",
    "![Imgur](https://i.imgur.com/PKOn7fE.png)\n",
    "\n",
    "![Imgur](https://i.imgur.com/2WmBmxb.png)"
   ]
  },
  {
   "cell_type": "code",
   "execution_count": 1,
   "id": "d1a75750-3775-49f6-9e72-421e91e90b2b",
   "metadata": {},
   "outputs": [],
   "source": [
    "import sys\n",
    "\n",
    "def first(string):\n",
    "    #print(\"first({})\".format(string))\n",
    "    first_ = set()\n",
    "    if string in non_terminals:\n",
    "        alternatives = productions_dict[string]\n",
    "\n",
    "        for alternative in alternatives:\n",
    "            first_2 = first(alternative)\n",
    "            first_ = first_ |first_2\n",
    "\n",
    "    elif string in terminals:\n",
    "        first_ = {string}\n",
    "\n",
    "    elif string=='' or string=='@':\n",
    "        first_ = {'@'}\n",
    "\n",
    "    else:\n",
    "        first_2 = first(string[0])\n",
    "        if '@' in first_2:\n",
    "            i = 1\n",
    "            while '@' in first_2:\n",
    "                #print(\"inside while\")\n",
    "\n",
    "                first_ = first_ | (first_2 - {'@'})\n",
    "                #print('string[i:]=', string[i:])\n",
    "                if string[i:] in terminals:\n",
    "                    first_ = first_ | {string[i:]}\n",
    "                    break\n",
    "                elif string[i:] == '':\n",
    "                    first_ = first_ | {'@'}\n",
    "                    break\n",
    "                first_2 = first(string[i:])\n",
    "                first_ = first_ | first_2 - {'@'}\n",
    "                i += 1\n",
    "        else:\n",
    "            first_ = first_ | first_2\n",
    "\n",
    "    return  first_\n",
    "\n",
    "\n",
    "def follow(nT):\n",
    "    \n",
    "    follow_ = set()\n",
    "    #print(\"FOLLOW\", FOLLOW)\n",
    "    prods = productions_dict.items()\n",
    "    if nT==starting_symbol:\n",
    "        follow_ = follow_ | {'$'}\n",
    "    for nt,rhs in prods:\n",
    "        #print(\"nt to rhs\", nt,rhs)\n",
    "        for alt in rhs:\n",
    "            for char in alt:\n",
    "                if char==nT:\n",
    "                    following_str = alt[alt.index(char) + 1:]\n",
    "                    if following_str=='':\n",
    "                        if nt==nT:\n",
    "                            continue\n",
    "                        else:\n",
    "                            follow_ = follow_ | follow(nt)\n",
    "                    else:\n",
    "                        follow_2 = first(following_str)\n",
    "                        if '@' in follow_2:\n",
    "                            follow_ = follow_ | follow_2-{'@'}\n",
    "                            follow_ = follow_ | follow(nt)\n",
    "                        else:\n",
    "                            follow_ = follow_ | follow_2\n",
    "    #print(\"returning for follow({})\".format(nT),follow_)\n",
    "    return follow_\n"
   ]
  },
  {
   "cell_type": "markdown",
   "id": "d8be55a8-2dbf-4a98-b287-3adbad4efed8",
   "metadata": {},
   "source": [
    "```ruby\n",
    "+ * a ( )\n",
    "E B T Y F\n",
    "E\n",
    "E->TB B->+TB/@ T->FY Y->*FY/@ F->a/(E)\n",
    "```\n",
    "\n",
    "```ruby\n",
    "+ ( ) * i\n",
    "E T R F Y\n",
    "E\n",
    "E->TR R->+TR/@ T->FY Y->*FY/@ F->(E)/i\n",
    "```\n",
    "\n",
    "```ruby\n",
    "a e b f c g d\n",
    "S B C\n",
    "S\n",
    "S->aSe/B B->bBCf/C C->cCg/d/@\n",
    "\n",
    "```"
   ]
  },
  {
   "cell_type": "code",
   "execution_count": 2,
   "id": "38ede7a9-3376-4526-a698-06a000c76e91",
   "metadata": {},
   "outputs": [
    {
     "name": "stdin",
     "output_type": "stream",
     "text": [
      "Enter the terminals : a b\n",
      "Enter the non terminals : S A\n",
      "Enter the starting symbol:  S\n",
      "Enter the productions: S->AA A->aA/b\n"
     ]
    }
   ],
   "source": [
    "terminals = list(input(\"Enter the terminals :\").split())\n",
    "non_terminals = list(input(\"Enter the non terminals :\").split())\n",
    "\n",
    "starting_symbol = input(\"Enter the starting symbol: \")\n",
    "\n",
    "productions = list(input(\"Enter the productions:\").split())"
   ]
  },
  {
   "cell_type": "code",
   "execution_count": 3,
   "id": "86500a71-94ba-4262-8f0f-c0a2937b5692",
   "metadata": {},
   "outputs": [],
   "source": [
    "\n",
    "productions_dict = {}\n",
    "for nT in non_terminals:\n",
    "    productions_dict[nT] = []\n",
    "\n",
    "\n",
    "for production in productions:\n",
    "    nonterm_to_prod = production.split(\"->\")\n",
    "    alternatives = nonterm_to_prod[1].split(\"/\")\n",
    "    for alternative in alternatives:\n",
    "        productions_dict[nonterm_to_prod[0]].append(alternative)"
   ]
  },
  {
   "cell_type": "code",
   "execution_count": 4,
   "id": "b40d0de1-6629-477d-9965-3e3a1428f401",
   "metadata": {},
   "outputs": [],
   "source": [
    "FIRST = {}\n",
    "FOLLOW = {}\n",
    "\n",
    "for non_terminal in non_terminals:\n",
    "    FIRST[non_terminal] = set()\n",
    "\n",
    "for non_terminal in non_terminals:\n",
    "    FOLLOW[non_terminal] = set()"
   ]
  },
  {
   "cell_type": "code",
   "execution_count": 5,
   "id": "b391ab58-2c78-4a3e-9311-ca1b5ec3c909",
   "metadata": {
    "tags": []
   },
   "outputs": [
    {
     "name": "stdout",
     "output_type": "stream",
     "text": [
      "   Non Terminals           First               Follow       \n",
      "         S               {'a', 'b'}            {'$'}        \n",
      "         A               {'a', 'b'}          {'a', 'b'}     \n"
     ]
    }
   ],
   "source": [
    "\n",
    "\n",
    "for non_terminal in non_terminals:\n",
    "    FIRST[non_terminal] = FIRST[non_terminal] | first(non_terminal)\n",
    "\n",
    "\n",
    "\n",
    "FOLLOW[starting_symbol] = FOLLOW[starting_symbol] | {'$'}\n",
    "\n",
    "for non_terminal in non_terminals:\n",
    "    FOLLOW[non_terminal] = FOLLOW[non_terminal] | follow(non_terminal)\n",
    "\n",
    "\n",
    "\n",
    "print(\"{: ^20}{: ^20}{: ^20}\".format('Non Terminals','First','Follow'))\n",
    "for non_terminal in non_terminals:\n",
    "    print(\"{: ^20}{: ^20}{: ^20}\".format(non_terminal,str(FIRST[non_terminal]),str(FOLLOW[non_terminal])))"
   ]
  }
 ],
 "metadata": {
  "kernelspec": {
   "display_name": "Python 3",
   "language": "python",
   "name": "python3"
  },
  "language_info": {
   "codemirror_mode": {
    "name": "ipython",
    "version": 3
   },
   "file_extension": ".py",
   "mimetype": "text/x-python",
   "name": "python",
   "nbconvert_exporter": "python",
   "pygments_lexer": "ipython3",
   "version": "3.8.8"
  }
 },
 "nbformat": 4,
 "nbformat_minor": 5
}
