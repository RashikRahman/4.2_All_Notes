{
 "cells": [
  {
   "cell_type": "markdown",
   "id": "c2a18abf-e0c4-4573-8b81-b71c0a15c273",
   "metadata": {},
   "source": [
    "5\n",
    "\n",
    "+\n",
    "\n",
    "(\n",
    "\n",
    ")\n",
    "\n",
    "*\n",
    "i\n",
    "\n",
    "5\n",
    "\n",
    "E\n",
    "\n",
    "T\n",
    "\n",
    "R\n",
    "\n",
    "F\n",
    " \n",
    "Y\n",
    " \n",
    "E\n",
    "\n",
    "5\n",
    "\n",
    "E->TR\n",
    "\n",
    "R->+TR/#\n",
    "\n",
    "T->FY\n",
    "\n",
    "Y->*FY/#\n",
    "\n",
    "F->(E)/i"
   ]
  },
  {
   "cell_type": "code",
   "execution_count": 20,
   "id": "38ede7a9-3376-4526-a698-06a000c76e91",
   "metadata": {},
   "outputs": [
    {
     "name": "stdin",
     "output_type": "stream",
     "text": [
      "Enter no. of terminals:  5\n"
     ]
    },
    {
     "name": "stdout",
     "output_type": "stream",
     "text": [
      "Enter the terminals :\n"
     ]
    },
    {
     "name": "stdin",
     "output_type": "stream",
     "text": [
      " +\n",
      " (\n",
      " )\n",
      " *\n",
      " i\n",
      "Enter no. of non terminals:  5\n"
     ]
    },
    {
     "name": "stdout",
     "output_type": "stream",
     "text": [
      "Enter the non terminals :\n"
     ]
    },
    {
     "name": "stdin",
     "output_type": "stream",
     "text": [
      " E\n",
      " R\n",
      " T\n",
      " F\n",
      " Y\n",
      "Enter the starting symbol:  E\n",
      "Enter no of productions:  5\n"
     ]
    },
    {
     "name": "stdout",
     "output_type": "stream",
     "text": [
      "Enter the productions:\n"
     ]
    },
    {
     "name": "stdin",
     "output_type": "stream",
     "text": [
      " E->TR\n",
      " R->+TR/#\n",
      " T->FY\n",
      " Y->*FY/#\n",
      " F->(E)/i\n"
     ]
    }
   ],
   "source": [
    "no_of_terminals=int(input(\"Enter no. of terminals: \"))\n",
    "\n",
    "terminals = []\n",
    "\n",
    "print(\"Enter the terminals :\")\n",
    "for _ in range(no_of_terminals):\n",
    "    terminals.append(input())\n",
    "\n",
    "no_of_non_terminals=int(input(\"Enter no. of non terminals: \"))\n",
    "\n",
    "non_terminals = []\n",
    "\n",
    "print(\"Enter the non terminals :\")\n",
    "for _ in range(no_of_non_terminals):\n",
    "    non_terminals.append(input())\n",
    "\n",
    "starting_symbol = input(\"Enter the starting symbol: \")\n",
    "\n",
    "no_of_productions = int(input(\"Enter no of productions: \"))\n",
    "\n",
    "productions = []\n",
    "\n",
    "print(\"Enter the productions:\")\n",
    "for _ in range(no_of_productions):\n",
    "    productions.append(input())"
   ]
  },
  {
   "cell_type": "code",
   "execution_count": 21,
   "id": "86500a71-94ba-4262-8f0f-c0a2937b5692",
   "metadata": {},
   "outputs": [
    {
     "data": {
      "text/plain": [
       "{'E': ['TR'],\n",
       " 'R': ['+TR', '#'],\n",
       " 'T': ['FY'],\n",
       " 'F': ['(E)', 'i'],\n",
       " 'Y': ['*FY', '#']}"
      ]
     },
     "execution_count": 21,
     "metadata": {},
     "output_type": "execute_result"
    }
   ],
   "source": [
    "\n",
    "productions_dict = {}\n",
    "for nT in non_terminals:\n",
    "    productions_dict[nT] = []\n",
    "\n",
    "\n",
    "for production in productions:\n",
    "    nonterm_to_prod = production.split(\"->\")\n",
    "    alternatives = nonterm_to_prod[1].split(\"/\")\n",
    "    for alternative in alternatives:\n",
    "        productions_dict[nonterm_to_prod[0]].append(alternative)\n",
    "        \n",
    "        \n",
    "productions_dict"
   ]
  },
  {
   "cell_type": "code",
   "execution_count": 22,
   "id": "c27da41d-d5e5-4cc2-8826-4110a9a7fcc2",
   "metadata": {},
   "outputs": [],
   "source": [
    "FIRST = {}\n",
    "FOLLOW = {}\n",
    "\n",
    "for non_terminal in non_terminals:\n",
    "    FIRST[non_terminal] = set()\n",
    "\n",
    "for non_terminal in non_terminals:\n",
    "    FOLLOW[non_terminal] = set()"
   ]
  },
  {
   "cell_type": "code",
   "execution_count": 23,
   "id": "1c0042b1-6ffb-4b2f-a0c2-2c21a42d3ced",
   "metadata": {},
   "outputs": [],
   "source": [
    "import sys\n",
    "\n",
    "def first(string):\n",
    "    #print(\"first({})\".format(string))\n",
    "    first_ = set()\n",
    "    if string in non_terminals:\n",
    "        alternatives = productions_dict[string]\n",
    "\n",
    "        for alternative in alternatives:\n",
    "            first_2 = first(alternative)\n",
    "            first_ = first_ |first_2\n",
    "\n",
    "    elif string in terminals:\n",
    "        first_ = {string}\n",
    "\n",
    "    elif string=='' or string=='#':\n",
    "        first_ = {'#'}\n",
    "\n",
    "    else:\n",
    "        first_2 = first(string[0])\n",
    "        if '#' in first_2:\n",
    "            i = 1\n",
    "            while '#' in first_2:\n",
    "                #print(\"inside while\")\n",
    "\n",
    "                first_ = first_ | (first_2 - {'#'})\n",
    "                #print('string[i:]=', string[i:])\n",
    "                if string[i:] in terminals:\n",
    "                    first_ = first_ | {string[i:]}\n",
    "                    break\n",
    "                elif string[i:] == '':\n",
    "                    first_ = first_ | {'#'}\n",
    "                    break\n",
    "                first_2 = first(string[i:])\n",
    "                first_ = first_ | first_2 - {'#'}\n",
    "                i += 1\n",
    "        else:\n",
    "            first_ = first_ | first_2\n",
    "\n",
    "    return  first_\n",
    "\n",
    "\n",
    "def follow(nT):\n",
    "    \n",
    "    follow_ = set()\n",
    "    #print(\"FOLLOW\", FOLLOW)\n",
    "    prods = productions_dict.items()\n",
    "    if nT==starting_symbol:\n",
    "        follow_ = follow_ | {'$'}\n",
    "    for nt,rhs in prods:\n",
    "        #print(\"nt to rhs\", nt,rhs)\n",
    "        for alt in rhs:\n",
    "            for char in alt:\n",
    "                if char==nT:\n",
    "                    following_str = alt[alt.index(char) + 1:]\n",
    "                    if following_str=='':\n",
    "                        if nt==nT:\n",
    "                            continue\n",
    "                        else:\n",
    "                            follow_ = follow_ | follow(nt)\n",
    "                    else:\n",
    "                        follow_2 = first(following_str)\n",
    "                        if '#' in follow_2:\n",
    "                            follow_ = follow_ | follow_2-{'#'}\n",
    "                            follow_ = follow_ | follow(nt)\n",
    "                        else:\n",
    "                            follow_ = follow_ | follow_2\n",
    "    #print(\"returning for follow({})\".format(nT),follow_)\n",
    "    return follow_\n"
   ]
  },
  {
   "cell_type": "code",
   "execution_count": 24,
   "id": "74521dcc-ec31-4bc9-add8-01a416e6065e",
   "metadata": {},
   "outputs": [
    {
     "name": "stdout",
     "output_type": "stream",
     "text": [
      "        Non Terminals                     First                         Follow            \n",
      "              E                         {'i', '('}                    {'$', ')'}          \n",
      "              R                         {'+', '#'}                    {'$', ')'}          \n",
      "              T                         {'i', '('}                 {'+', '$', ')'}        \n",
      "              F                         {'i', '('}               {'+', '$', ')', '*'}     \n",
      "              Y                         {'#', '*'}                 {'+', '$', ')'}        \n"
     ]
    }
   ],
   "source": [
    "\n",
    "\n",
    "for non_terminal in non_terminals:\n",
    "    FIRST[non_terminal] = FIRST[non_terminal] | first(non_terminal)\n",
    "\n",
    "\n",
    "\n",
    "FOLLOW[starting_symbol] = FOLLOW[starting_symbol] | {'$'}\n",
    "\n",
    "for non_terminal in non_terminals:\n",
    "    FOLLOW[non_terminal] = FOLLOW[non_terminal] | follow(non_terminal)\n",
    "\n",
    "\n",
    "\n",
    "print(\"{: ^30}{: ^30}{: ^30}\".format('Non Terminals','First','Follow'))\n",
    "for non_terminal in non_terminals:\n",
    "    print(\"{: ^30}{: ^30}{: ^30}\".format(non_terminal,str(FIRST[non_terminal]),str(FOLLOW[non_terminal])))"
   ]
  }
 ],
 "metadata": {
  "kernelspec": {
   "display_name": "Python 3",
   "language": "python",
   "name": "python3"
  },
  "language_info": {
   "codemirror_mode": {
    "name": "ipython",
    "version": 3
   },
   "file_extension": ".py",
   "mimetype": "text/x-python",
   "name": "python",
   "nbconvert_exporter": "python",
   "pygments_lexer": "ipython3",
   "version": "3.8.8"
  }
 },
 "nbformat": 4,
 "nbformat_minor": 5
}
