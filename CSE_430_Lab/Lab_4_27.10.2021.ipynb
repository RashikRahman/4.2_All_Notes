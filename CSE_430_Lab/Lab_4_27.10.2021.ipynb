{
 "cells": [
  {
   "cell_type": "markdown",
   "id": "ee6faee7-bfd8-44f0-bc71-799e862bfe98",
   "metadata": {},
   "source": [
    " <div class=\"alert alert-success\">\n",
    "    <b>Author</b>:\n",
    "\n",
    "      Rashik Rahman\n",
    "      17201012@uap-bd.edu\n",
    "\n",
    "</div>\n",
    "\n",
    "**[Click here to see class lecture]()**\n"
   ]
  },
  {
   "cell_type": "markdown",
   "id": "da505171-67af-43b0-926c-19d84c396c72",
   "metadata": {},
   "source": [
    "![](figs/18.PNG)"
   ]
  },
  {
   "cell_type": "code",
   "execution_count": 12,
   "id": "5b78df42-b523-4b1e-bd13-ff92f4cb1afa",
   "metadata": {},
   "outputs": [],
   "source": [
    "def main():\n",
    "    string = input('Provide Input :')\n",
    "    print()\n",
    "    print()\n",
    "    string = string.split('=')\n",
    "\n",
    "    parse = list(string[1])\n",
    "    operators = ['+','-','/','*']\n",
    "    if parse[0] == '-':\n",
    "        cap = parse[1]\n",
    "        parse = parse[1:]\n",
    "        parse[0] = chr(ord(cap) - 32)\n",
    "\n",
    "    for i in range(len(parse)):\n",
    "        if parse[i] == '-' and parse[i-1] in operators:\n",
    "            parse[i] = ''\n",
    "            parse[i+1] = chr(ord(parse[i+1]) - 32)\n",
    "\n",
    "    while '' in parse:\n",
    "        parse.remove('')\n",
    "\n",
    "    Quadruple = dict()\n",
    "    i=1\n",
    "    while len(parse)>1:\n",
    "        if len(parse)>3:\n",
    "            if not (parse[1]>parse[3]):\n",
    "                arg1 = parse.pop(0)\n",
    "                op = parse.pop(0)\n",
    "                arg2 = parse.pop(0)\n",
    "\n",
    "                if arg1.isupper() or arg2.isupper():\n",
    "                    if arg1.isupper() and arg2.isupper():\n",
    "\n",
    "                        Quadruple['t_{}'.format(i)] = '-'+chr(ord(arg1) + 32)\n",
    "                        i+=1\n",
    "\n",
    "                        Quadruple['t_{}'.format(i)] = '-'+chr(ord(arg2) + 32)\n",
    "                        i+=1\n",
    "\n",
    "                        Quadruple['t_{}'.format(i)] = 't_{}'.format(i-2) + op + 't_{}'.format(i-1)\n",
    "                        i+=1\n",
    "\n",
    "                    elif arg1.isupper():\n",
    "                        Quadruple['t_{}'.format(i)] = '-'+chr(ord(arg1) + 32)\n",
    "                        i+=1\n",
    "                        Quadruple['t_{}'.format(i)] = 't_{}'.format(i-1) + op + arg2\n",
    "                        i+=1\n",
    "                    else:\n",
    "                        Quadruple['t_{}'.format(i)] = '-'+chr(ord(arg2) + 32)\n",
    "                        i+=1\n",
    "                        Quadruple['t_{}'.format(i)] = arg1 + op + 't_{}'.format(i-1)\n",
    "                        i+=1\n",
    "\n",
    "                else:\n",
    "                    Quadruple['t_{}'.format(i)] = arg1 + op + arg2\n",
    "                    i+=1\n",
    "\n",
    "                parse.insert(0, 't_{}'.format(i-1))\n",
    "\n",
    "\n",
    "            elif not (parse[1]<parse[3]):\n",
    "                arg1 = parse.pop(2)\n",
    "                op = parse.pop(2)\n",
    "                arg2 = parse.pop(2)\n",
    "\n",
    "                if arg1.isupper() or arg2.isupper():\n",
    "                    if arg1.isupper() and arg2.isupper():\n",
    "\n",
    "                        Quadruple['t_{}'.format(i)] = '-'+chr(ord(arg1) + 32)\n",
    "                        i+=1\n",
    "\n",
    "                        Quadruple['t_{}'.format(i)] = '-'+chr(ord(arg2) + 32)\n",
    "                        i+=1\n",
    "\n",
    "                        Quadruple['t_{}'.format(i)] = 't_{}'.format(i-2) + op + 't_{}'.format(i-1)\n",
    "                        i+=1\n",
    "\n",
    "                    elif arg1.isupper():\n",
    "                        Quadruple['t_{}'.format(i)] = '-'+chr(ord(arg1) + 32)\n",
    "                        i+=1\n",
    "                        Quadruple['t_{}'.format(i)] = 't_{}'.format(i-1) + op + arg2\n",
    "                        i+=1\n",
    "                    else:\n",
    "                        Quadruple['t_{}'.format(i)] = '-'+chr(ord(arg2) + 32)\n",
    "                        i+=1\n",
    "                        Quadruple['t_{}'.format(i)] = arg1 + op + 't_{}'.format(i-1)\n",
    "                        i+=1\n",
    "\n",
    "                else:\n",
    "                    Quadruple['t_{}'.format(i)] = arg1 + op + arg2\n",
    "                    i+=1\n",
    "\n",
    "                parse.insert(2, 't_{}'.format(i-1))\n",
    "\n",
    "        else:\n",
    "            arg1 = parse.pop(0)\n",
    "            op = parse.pop(0)\n",
    "            arg2 = parse.pop(0)\n",
    "\n",
    "            if arg1.isupper() or arg2.isupper():\n",
    "                if arg1.isupper() and arg2.isupper():\n",
    "\n",
    "                    Quadruple['t_{}'.format(i)] = '-'+chr(ord(arg1) + 32)\n",
    "                    i+=1\n",
    "\n",
    "                    Quadruple['t_{}'.format(i)] = '-'+chr(ord(arg2) + 32)\n",
    "                    i+=1\n",
    "\n",
    "                    Quadruple['t_{}'.format(i)] = 't_{}'.format(i-2) + op + 't_{}'.format(i-1)\n",
    "                    i+=1\n",
    "\n",
    "                elif arg1.isupper():\n",
    "                    Quadruple['t_{}'.format(i)] = '-'+chr(ord(arg1) + 32)\n",
    "                    i+=1\n",
    "                    Quadruple['t_{}'.format(i)] = 't_{}'.format(i-1) + op + arg2\n",
    "                    i+=1\n",
    "                else:\n",
    "                    Quadruple['t_{}'.format(i)] = '-'+chr(ord(arg2) + 32)\n",
    "                    i+=1\n",
    "                    Quadruple['t_{}'.format(i)] = arg1 + op + 't_{}'.format(i-1)\n",
    "                    i+=1\n",
    "\n",
    "            else:\n",
    "                Quadruple['t_{}'.format(i)] = arg1 + op + arg2\n",
    "                i+=1\n",
    "\n",
    "            parse.insert(0, 't_{}'.format(i-1))\n",
    "\n",
    "    #     print(Quadruple)\n",
    "    #     print(parse)\n",
    "\n",
    "    Quadruple[string[0]] = parse.pop()  \n",
    "    print(\"{: ^20}{: ^20}\".format('Tamps','Values'))\n",
    "    for key,value in Quadruple.items():\n",
    "        print(\"{: ^20}={: ^20}\".format(key,value))"
   ]
  },
  {
   "cell_type": "markdown",
   "id": "1af7bcbc-d3d9-46e6-ba81-9249d9511977",
   "metadata": {},
   "source": [
    "a=b*-c+b*-c\n",
    "\n",
    "a=b+c+d\n",
    "\n",
    "a=-a*b+c+d-a-b-c-d"
   ]
  },
  {
   "cell_type": "code",
   "execution_count": 13,
   "id": "7948e874-0c4a-4b78-871e-6f5e9ce812f4",
   "metadata": {},
   "outputs": [
    {
     "name": "stdin",
     "output_type": "stream",
     "text": [
      "Provide Input : a=b*-c+b*-c\n"
     ]
    },
    {
     "name": "stdout",
     "output_type": "stream",
     "text": [
      "\n",
      "\n",
      "       Tamps               Values       \n",
      "        t_1         =         -c         \n",
      "        t_2         =       b*t_1        \n",
      "        t_3         =         -c         \n",
      "        t_4         =       b*t_3        \n",
      "        t_5         =      t_2+t_4       \n",
      "         a          =        t_5         \n"
     ]
    }
   ],
   "source": [
    "main()"
   ]
  },
  {
   "cell_type": "code",
   "execution_count": 14,
   "id": "f8b9693e-ba52-4ad0-a957-e0f737d12906",
   "metadata": {},
   "outputs": [
    {
     "name": "stdin",
     "output_type": "stream",
     "text": [
      "Provide Input : a=b+c+d\n"
     ]
    },
    {
     "name": "stdout",
     "output_type": "stream",
     "text": [
      "\n",
      "\n",
      "       Tamps               Values       \n",
      "        t_1         =        b+c         \n",
      "        t_2         =       t_1+d        \n",
      "         a          =        t_2         \n"
     ]
    }
   ],
   "source": [
    "main()"
   ]
  },
  {
   "cell_type": "code",
   "execution_count": 15,
   "id": "61a96f20-dbd5-40f6-a45e-c64d6328bb61",
   "metadata": {},
   "outputs": [
    {
     "name": "stdin",
     "output_type": "stream",
     "text": [
      "Provide Input : a=-a*b+c+d-a-b-c-d\n"
     ]
    },
    {
     "name": "stdout",
     "output_type": "stream",
     "text": [
      "\n",
      "\n",
      "       Tamps               Values       \n",
      "        t_1         =         -a         \n",
      "        t_2         =       t_1*b        \n",
      "        t_3         =       t_2+c        \n",
      "        t_4         =       t_3+d        \n",
      "        t_5         =       t_4-a        \n",
      "        t_6         =       t_5-b        \n",
      "        t_7         =       t_6-c        \n",
      "        t_8         =       t_7-d        \n",
      "         a          =        t_8         \n"
     ]
    }
   ],
   "source": [
    "main()"
   ]
  }
 ],
 "metadata": {
  "kernelspec": {
   "display_name": "Python 3",
   "language": "python",
   "name": "python3"
  },
  "language_info": {
   "codemirror_mode": {
    "name": "ipython",
    "version": 3
   },
   "file_extension": ".py",
   "mimetype": "text/x-python",
   "name": "python",
   "nbconvert_exporter": "python",
   "pygments_lexer": "ipython3",
   "version": "3.8.8"
  }
 },
 "nbformat": 4,
 "nbformat_minor": 5
}
