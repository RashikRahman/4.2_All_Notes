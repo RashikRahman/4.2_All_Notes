{
 "cells": [
  {
   "cell_type": "markdown",
   "id": "7efe92f9-e1da-4993-81ad-927dbb1f1825",
   "metadata": {},
   "source": [
    " <div class=\"alert alert-success\">\n",
    "    <b>Author</b>:\n",
    "\n",
    "      Rashik Rahman\n",
    "      17201012@uap-bd.edu\n",
    "\n",
    "</div>\n",
    "\n",
    "**[Click here to see class lecture](https://drive.google.com/file/d/1ZKERxZ2L__aakZhY8vnz0H9oO21caRSH/view)**\n"
   ]
  },
  {
   "cell_type": "markdown",
   "id": "8248d104-8e86-4dcf-95b8-6a7a2a05b07e",
   "metadata": {},
   "source": [
    "Types of parser. LL1, Non-recursive descent and predective parser all are the same thing. LL1 has 3 steps. We'll try to implement at least 2 step of LL1 parser and if have time then 3step implementation will be done.\n",
    "\n",
    "![](figs/3.PNG)\n",
    "\n",
    "![](figs/4.PNG)\n",
    "\n",
    "P,Q,R,S,T are non-terminal cz they are capital letter. Here we consider only the terminals for the function. For every production if there's a terminal at first we append it to list. If there's a single epsilon in a production like R-> ep then ep is directly appended to the list. \n",
    "\n",
    "![](figs/5.PNG)\n",
    "\n",
    "Q called P so all values of P except epsilon will be transfered to Q. When S calls R it get all values of R except epsilon, when T calls R,S it gets all value of R, S except epsilon cz we don't take epsilon from other non-terminals. S can reach n as R has individual epsilon using that epsilon S can skip R and reach n thus append n to its list. T has only one production RSq. So it goes serially and gets value of R and then as R has ep so it skips R and goes to S does the same thing and then as S has ep so it skips S and reached q.\n",
    "\n",
    "![](figs/6.PNG)\n",
    "\n",
    "Here's another case, here there's only one production for R. So When S calls Rn first b is appended to the list but as there's no epsilon so S can't reach n (R doesnt have any epmty string) so we can't append n to S list. This is and important test case when you do first funtion.\n",
    "        \n",
    "![](figs/7.PNG)\n",
    "\n",
    "![](figs/8.PNG)\n",
    "\n",
    "![](figs/9.PNG)"
   ]
  },
  {
   "cell_type": "markdown",
   "id": "2877f02d-3c4d-4ed6-a68f-5f83e1262627",
   "metadata": {},
   "source": [
    "\n",
    "\n",
    "![](figs/10.PNG)\n",
    "\n",
    "Here S is at the begining so considering it as start state we add $ mark to its list."
   ]
  },
  {
   "cell_type": "markdown",
   "id": "7b5a793e-a7c3-41d2-81d7-9018f164f610",
   "metadata": {},
   "source": [
    "For S there's a production which also has S. At first we add a to list then as theres a terminal after S so we also add it to list.\n",
    "\n",
    "![](figs/11.PNG)\n",
    "\n",
    "Now for B's production C is followed by B and as C is non-terminal so we take all values of C except epsilon and add it to B's list. and as C has epsilon so we can skip C and add f to B's list. follow function takes the following parameters of production with respect to in which non-terminal follow function is implemented on.\n",
    "\n",
    "When we add terminal to list there's no need to look further than that terminal.\n",
    "\n",
    "![](figs/12.PNG)\n",
    "\n",
    "For S->B production there's no follower of B. In this case where's there is only one N.T in product we assign all the follow values of parent to product in this case all follow values of S is copied to B. Same case for B->C production, C gets all follow values of B except epsilon.\n",
    "\n",
    "![](figs/13.PNG)\n",
    "\n",
    "![](figs/15.PNG)\n",
    "\n",
    "E calls T and T calls F, F has two production where closing bracket \")\" is followed by E so we add this to E's list. E->TE' here using epsilon of T we can skip T and reach E', E' doesnt have any folling so it takes follow values of E.  For E->TE' E' is followed by T so E' first value goes to T and also E' has epsilon so when E'=ep then  E->TE' this translates to  E->T this, so T also gets follow value of E.\n",
    "\n",
    "![](figs/16.PNG)\n",
    "\n",
    "![](figs/17.PNG)"
   ]
  },
  {
   "cell_type": "markdown",
   "id": "95ebc8cb-742d-4f9f-afcf-096b0a1966f4",
   "metadata": {},
   "source": [
    "# End of lab!"
   ]
  }
 ],
 "metadata": {
  "kernelspec": {
   "display_name": "Python 3",
   "language": "python",
   "name": "python3"
  },
  "language_info": {
   "codemirror_mode": {
    "name": "ipython",
    "version": 3
   },
   "file_extension": ".py",
   "mimetype": "text/x-python",
   "name": "python",
   "nbconvert_exporter": "python",
   "pygments_lexer": "ipython3",
   "version": "3.8.8"
  }
 },
 "nbformat": 4,
 "nbformat_minor": 5
}
