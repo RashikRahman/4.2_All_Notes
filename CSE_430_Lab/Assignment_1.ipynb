{
 "cells": [
  {
   "cell_type": "markdown",
   "metadata": {},
   "source": [
    "<div class=\"alert alert-success\">\n",
    "    <b>Author</b>:\n",
    "\n",
    "      Rashik Rahman\n",
    "      17201012@uap-bd.edu\n",
    "\n",
    "</div>"
   ]
  },
  {
   "cell_type": "markdown",
   "metadata": {},
   "source": [
    "# Generic solution for the best case scenario(with spaces)\n",
    "\n",
    "```ini\n",
    "Samples input:\n",
    "\n",
    "int a a = b * c + 10 ; //variable repetition handled\n",
    "\n",
    "```"
   ]
  },
  {
   "cell_type": "code",
   "execution_count": 1,
   "metadata": {},
   "outputs": [
    {
     "name": "stdin",
     "output_type": "stream",
     "text": [
      "Give input code:  int a a = b * c + 10 ;\n"
     ]
    }
   ],
   "source": [
    "string = input('Give input code: ')"
   ]
  },
  {
   "cell_type": "code",
   "execution_count": 2,
   "metadata": {},
   "outputs": [
    {
     "data": {
      "text/plain": [
       "['int', 'a', 'a', '=', 'b', '*', 'c', '+', 10, ';']"
      ]
     },
     "execution_count": 2,
     "metadata": {},
     "output_type": "execute_result"
    }
   ],
   "source": [
    "str_ls = string.split()\n",
    "for i in range(len(str_ls)):\n",
    "    try:\n",
    "        str_ls[i] = int(str_ls[i])\n",
    "    except:\n",
    "        pass\n",
    "    \n",
    "str_ls"
   ]
  },
  {
   "cell_type": "code",
   "execution_count": 3,
   "metadata": {},
   "outputs": [
    {
     "data": {
      "text/plain": [
       "['int', 'a', '=', 'b', '*', 'c', '+', 10, ';']"
      ]
     },
     "execution_count": 3,
     "metadata": {},
     "output_type": "execute_result"
    }
   ],
   "source": [
    "\n",
    "from collections import OrderedDict\n",
    "   \n",
    "str_ls = list(OrderedDict.fromkeys(str_ls))\n",
    "str_ls"
   ]
  },
  {
   "cell_type": "code",
   "execution_count": 4,
   "metadata": {},
   "outputs": [],
   "source": [
    "data_dict = {\n",
    "    'Keywords': ['short int','unsigned short int','unsigned int','int','long int','unsigned long int','long long int','unsigned long long int','signed char','unsigned char','float','double','long double','wchar_t','if','else','for','while','switch','case','cin','cout'],\n",
    "    'Arithmetic Operator': ['+','-','/','*','='],\n",
    "    'Punctuation': [',','.',';','\\'','\\\"','@','!','#','(',')']\n",
    "}"
   ]
  },
  {
   "cell_type": "code",
   "execution_count": 5,
   "metadata": {},
   "outputs": [],
   "source": [
    "final_dict = {}\n",
    "\n",
    "for value in str_ls:\n",
    "    if isinstance(value, int):\n",
    "        if 'Constant' in final_dict:\n",
    "            final_dict['Constant'].append(value)\n",
    "        else:\n",
    "            final_dict['Constant'] = [value]\n",
    "            \n",
    "    elif value in data_dict['Keywords']:\n",
    "        if 'Keywords' in final_dict:\n",
    "            final_dict['Keywords'].append(value)\n",
    "        else:\n",
    "            final_dict['Keywords'] = [value]\n",
    "            \n",
    "    elif value in data_dict['Arithmetic Operator']:\n",
    "        if 'Arithmetic Operator' in final_dict:\n",
    "            final_dict['Arithmetic Operator'].append(value)\n",
    "        else:\n",
    "            final_dict['Arithmetic Operator'] = [value]\n",
    "            \n",
    "    elif value in data_dict['Punctuation']:\n",
    "        if 'Punctuation' in final_dict:\n",
    "            final_dict['Punctuation'].append(value)\n",
    "        else:\n",
    "            final_dict['Punctuation'] = [value]\n",
    "            \n",
    "    else:\n",
    "        if 'Identifier' in final_dict:\n",
    "            final_dict['Identifier'].append(value)\n",
    "        else:\n",
    "            final_dict['Identifier'] = [value]\n",
    "    \n",
    "        "
   ]
  },
  {
   "cell_type": "code",
   "execution_count": 6,
   "metadata": {},
   "outputs": [
    {
     "name": "stdout",
     "output_type": "stream",
     "text": [
      "Keywords ['int']\n",
      "Identifier ['a', 'b', 'c']\n",
      "Arithmetic Operator ['=', '*', '+']\n",
      "Constant [10]\n",
      "Punctuation [';']\n"
     ]
    }
   ],
   "source": [
    "for key, val in final_dict.items():\n",
    "    print(key, val)"
   ]
  },
  {
   "cell_type": "markdown",
   "metadata": {},
   "source": [
    "# Overfit solution to the problem defined below\n",
    "\n",
    "```ini\n",
    "CaseSensitiveness, WithoutSpace, `1a`=error, `a1`=accept\n",
    "```"
   ]
  },
  {
   "cell_type": "code",
   "execution_count": 7,
   "metadata": {},
   "outputs": [],
   "source": [
    "def len_chk(txt,splt):\n",
    "    org_len = len([txt])\n",
    "    nw_len = len(txt.split(splt))\n",
    "\n",
    "    if org_len==nw_len:\n",
    "        return False\n",
    "    else:\n",
    "        return True\n",
    "    "
   ]
  },
  {
   "cell_type": "code",
   "execution_count": 8,
   "metadata": {},
   "outputs": [],
   "source": [
    "def main():\n",
    "    string = input('Give input code: ')\n",
    "    str_ls = string.split()\n",
    "    text = str_ls.pop()\n",
    "\n",
    "    if len_chk(text,'='):\n",
    "        str_ls.append('=')\n",
    "        pre = text.split('=')[0]\n",
    "        try:\n",
    "            int(pre[0])\n",
    "        except:\n",
    "            str_ls.append(pre)\n",
    "            \n",
    "        text=text.replace(pre,'')\n",
    "        text=text.replace('=','')\n",
    "\n",
    "    if len_chk(text,'*'):\n",
    "        pre = text.split('*')[0]\n",
    "        str_ls.append('*')\n",
    "        str_ls.append(pre)\n",
    "        text=text.replace(pre,'')\n",
    "        text=text.replace('*','')\n",
    "\n",
    "\n",
    "\n",
    "    if len_chk(text,'+'):\n",
    "        pre = text.split('+')[0]\n",
    "        str_ls.append('+')\n",
    "        str_ls.append(pre)\n",
    "        text=text.replace(pre,'')\n",
    "        text=text.replace('+','')\n",
    "\n",
    "    if len_chk(text,';'):\n",
    "        pre = text.split(';')[0]\n",
    "        str_ls.append(';')\n",
    "        str_ls.append(pre)\n",
    "        text=text.replace(pre,'')\n",
    "        text=text.replace(';','')      \n",
    "\n",
    "\n",
    "    for i in range(len(str_ls)):\n",
    "        try:\n",
    "            str_ls[i] = int(str_ls[i])\n",
    "        except:\n",
    "            pass\n",
    "\n",
    "    final_dict = {}\n",
    "\n",
    "    for value in str_ls:\n",
    "        if isinstance(value, int):\n",
    "            if 'Constant' in final_dict:\n",
    "                final_dict['Constant'].append(value)\n",
    "            else:\n",
    "                final_dict['Constant'] = [value]\n",
    "\n",
    "        elif value in data_dict['Keywords']:\n",
    "            if 'Keywords' in final_dict:\n",
    "                final_dict['Keywords'].append(value)\n",
    "            else:\n",
    "                final_dict['Keywords'] = [value]\n",
    "\n",
    "        elif value in data_dict['Arithmetic Operator']:\n",
    "            if 'Arithmetic Operator' in final_dict:\n",
    "                final_dict['Arithmetic Operator'].append(value)\n",
    "            else:\n",
    "                final_dict['Arithmetic Operator'] = [value]\n",
    "\n",
    "        elif value in data_dict['Punctuation']:\n",
    "            if 'Punctuation' in final_dict:\n",
    "                final_dict['Punctuation'].append(value)\n",
    "            else:\n",
    "                final_dict['Punctuation'] = [value]\n",
    "\n",
    "        else:\n",
    "            if 'Identifier' in final_dict:\n",
    "                final_dict['Identifier'].append(value)\n",
    "            else:\n",
    "                final_dict['Identifier'] = [value]\n",
    "    for key, val in final_dict.items():\n",
    "        print(key, val)\n"
   ]
  },
  {
   "cell_type": "markdown",
   "metadata": {},
   "source": [
    "```ini\n",
    "Samples input:\n",
    "int 1a=b*c+10;\n",
    "int a1=b*c+10;\n",
    "int _a1=b*c+10;\n",
    "```"
   ]
  },
  {
   "cell_type": "code",
   "execution_count": 9,
   "metadata": {},
   "outputs": [
    {
     "name": "stdin",
     "output_type": "stream",
     "text": [
      "Give input code:  int 1a=b*c+10;\n"
     ]
    },
    {
     "name": "stdout",
     "output_type": "stream",
     "text": [
      "Keywords ['int']\n",
      "Arithmetic Operator ['=', '*', '+']\n",
      "Identifier ['b', 'c']\n",
      "Punctuation [';']\n",
      "Constant [10]\n"
     ]
    }
   ],
   "source": [
    "main() "
   ]
  },
  {
   "cell_type": "code",
   "execution_count": 10,
   "metadata": {},
   "outputs": [
    {
     "name": "stdin",
     "output_type": "stream",
     "text": [
      "Give input code:  int a1=b*c+10;\n"
     ]
    },
    {
     "name": "stdout",
     "output_type": "stream",
     "text": [
      "Keywords ['int']\n",
      "Arithmetic Operator ['=', '*', '+']\n",
      "Identifier ['a1', 'b', 'c']\n",
      "Punctuation [';']\n",
      "Constant [10]\n"
     ]
    }
   ],
   "source": [
    "main()"
   ]
  },
  {
   "cell_type": "code",
   "execution_count": 11,
   "metadata": {},
   "outputs": [
    {
     "name": "stdin",
     "output_type": "stream",
     "text": [
      "Give input code:  int _a1=b*c+10;\n"
     ]
    },
    {
     "name": "stdout",
     "output_type": "stream",
     "text": [
      "Keywords ['int']\n",
      "Arithmetic Operator ['=', '*', '+']\n",
      "Identifier ['_a1', 'b', 'c']\n",
      "Punctuation [';']\n",
      "Constant [10]\n"
     ]
    }
   ],
   "source": [
    "main()"
   ]
  }
 ],
 "metadata": {
  "kernelspec": {
   "display_name": "Python 3",
   "language": "python",
   "name": "python3"
  },
  "language_info": {
   "codemirror_mode": {
    "name": "ipython",
    "version": 3
   },
   "file_extension": ".py",
   "mimetype": "text/x-python",
   "name": "python",
   "nbconvert_exporter": "python",
   "pygments_lexer": "ipython3",
   "version": "3.8.5"
  }
 },
 "nbformat": 4,
 "nbformat_minor": 4
}
