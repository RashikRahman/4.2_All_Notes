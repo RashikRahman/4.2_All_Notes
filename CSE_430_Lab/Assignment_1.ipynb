{
 "cells": [
  {
   "cell_type": "markdown",
   "metadata": {},
   "source": [
    "<div class=\"alert alert-success\">\n",
    "    <b>Author</b>:\n",
    "\n",
    "      Rashik Rahman\n",
    "      17201012@uap-bd.edu\n",
    "\n",
    "</div>"
   ]
  },
  {
   "cell_type": "markdown",
   "metadata": {},
   "source": [
    "```ini\n",
    "CaseSensitiveness, WithoutSpace, `1a`=error, `a1`=accept\n",
    "```"
   ]
  },
  {
   "cell_type": "code",
   "execution_count": 25,
   "metadata": {},
   "outputs": [
    {
     "name": "stdin",
     "output_type": "stream",
     "text": [
      " 1a\n"
     ]
    }
   ],
   "source": [
    "string = input()"
   ]
  },
  {
   "cell_type": "code",
   "execution_count": 26,
   "metadata": {},
   "outputs": [
    {
     "data": {
      "text/plain": [
       "['1a']"
      ]
     },
     "execution_count": 26,
     "metadata": {},
     "output_type": "execute_result"
    }
   ],
   "source": [
    "str_ls = string.split()\n",
    "for i in range(len(str_ls)):\n",
    "    try:\n",
    "        str_ls[i] = int(str_ls[i])\n",
    "    except:\n",
    "        pass\n",
    "    \n",
    "str_ls"
   ]
  },
  {
   "cell_type": "code",
   "execution_count": 27,
   "metadata": {},
   "outputs": [
    {
     "data": {
      "text/plain": [
       "['1a']"
      ]
     },
     "execution_count": 27,
     "metadata": {},
     "output_type": "execute_result"
    }
   ],
   "source": [
    "\n",
    "from collections import OrderedDict\n",
    "   \n",
    "str_ls = list(OrderedDict.fromkeys(str_ls))\n",
    "str_ls"
   ]
  },
  {
   "cell_type": "code",
   "execution_count": 28,
   "metadata": {},
   "outputs": [],
   "source": [
    "data_dict = {\n",
    "    'Keywords': ['short int','unsigned short int','unsigned int','int','long int','unsigned long int','long long int','unsigned long long int','signed char','unsigned char','float','double','long double','wchar_t','if','else','for','while','switch','case','cin','cout'],\n",
    "    'Arithmetic Operator': ['+','-','/','*','='],\n",
    "    'Punctuation': [',','.',';','\\'','\\\"','@','!','#','(',')']\n",
    "}"
   ]
  },
  {
   "cell_type": "code",
   "execution_count": 29,
   "metadata": {},
   "outputs": [],
   "source": [
    "final_dict = {}\n",
    "\n",
    "for value in str_ls:\n",
    "    if isinstance(value, int):\n",
    "        if 'Constant' in final_dict:\n",
    "            final_dict['Constant'].append(value)\n",
    "        else:\n",
    "            final_dict['Constant'] = [value]\n",
    "            \n",
    "    elif value in data_dict['Keywords']:\n",
    "        if 'Keywords' in final_dict:\n",
    "            final_dict['Keywords'].append(value)\n",
    "        else:\n",
    "            final_dict['Keywords'] = [value]\n",
    "            \n",
    "    elif value in data_dict['Arithmetic Operator']:\n",
    "        if 'Arithmetic Operator' in final_dict:\n",
    "            final_dict['Arithmetic Operator'].append(value)\n",
    "        else:\n",
    "            final_dict['Arithmetic Operator'] = [value]\n",
    "            \n",
    "    elif value in data_dict['Punctuation']:\n",
    "        if 'Punctuation' in final_dict:\n",
    "            final_dict['Punctuation'].append(value)\n",
    "        else:\n",
    "            final_dict['Punctuation'] = [value]\n",
    "            \n",
    "    else:\n",
    "        if 'Identifier' in final_dict:\n",
    "            final_dict['Identifier'].append(value)\n",
    "        else:\n",
    "            final_dict['Identifier'] = [value]\n",
    "    \n",
    "        "
   ]
  },
  {
   "cell_type": "code",
   "execution_count": 30,
   "metadata": {},
   "outputs": [
    {
     "name": "stdout",
     "output_type": "stream",
     "text": [
      "Identifier ['1a']\n"
     ]
    }
   ],
   "source": [
    "for key, val in final_dict.items():\n",
    "    print(key, val)"
   ]
  },
  {
   "cell_type": "code",
   "execution_count": null,
   "metadata": {},
   "outputs": [],
   "source": [
    "# final_dict = {\n",
    "#     'Keywords':[],\n",
    "#     'Identifier':[],\n",
    "#     'Arithmetic Operator':[],\n",
    "#     'Constant':[],\n",
    "#     'Punctuation':[]\n",
    "#     }\n",
    "\n",
    "# for value in str_ls:\n",
    "#     if isinstance(value, int):\n",
    "#         if value not in final_dict['Constant']:\n",
    "#             if 'Constant' in final_dict:\n",
    "#                 final_dict['Constant'].append(value)\n",
    "#             else:\n",
    "#                 final_dict['Constant'] = [value]\n",
    "            \n",
    "#     elif value in data_dict['Keywords']:\n",
    "#         if value not in final_dict['Keywords']:\n",
    "#             if 'Keywords' in final_dict:\n",
    "#                 final_dict['Keywords'].append(value)\n",
    "#             else:\n",
    "#                 final_dict['Keywords'] = [value]\n",
    "            \n",
    "#     elif value in data_dict['Arithmetic Operator']:\n",
    "#         if value not in final_dict['Arithmetic Operator']:\n",
    "#             if 'Arithmetic Operator' in final_dict:\n",
    "#                 final_dict['Arithmetic Operator'].append(value)\n",
    "#             else:\n",
    "#                 final_dict['Arithmetic Operator'] = [value]\n",
    "            \n",
    "#     elif value in data_dict['Punctuation']:\n",
    "#         if value not in final_dict['Punctuation']:\n",
    "#             if 'Punctuation' in final_dict:\n",
    "#                 final_dict['Punctuation'].append(value)\n",
    "#             else:\n",
    "#                 final_dict['Punctuation'] = [value]\n",
    "            \n",
    "#     else:\n",
    "#         if value not in final_dict['Identifier']:\n",
    "#             if 'Identifier' in final_dict:\n",
    "#                 final_dict['Identifier'].append(value)\n",
    "#             else:\n",
    "#                 final_dict['Identifier'] = [value]\n",
    "    \n",
    "        "
   ]
  }
 ],
 "metadata": {
  "kernelspec": {
   "display_name": "Python 3",
   "language": "python",
   "name": "python3"
  },
  "language_info": {
   "codemirror_mode": {
    "name": "ipython",
    "version": 3
   },
   "file_extension": ".py",
   "mimetype": "text/x-python",
   "name": "python",
   "nbconvert_exporter": "python",
   "pygments_lexer": "ipython3",
   "version": "3.8.5"
  }
 },
 "nbformat": 4,
 "nbformat_minor": 4
}
