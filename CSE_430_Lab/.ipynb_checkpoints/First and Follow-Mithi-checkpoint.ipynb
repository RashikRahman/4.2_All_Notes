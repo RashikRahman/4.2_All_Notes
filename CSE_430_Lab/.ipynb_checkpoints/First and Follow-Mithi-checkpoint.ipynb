{
 "cells": [
  {
   "cell_type": "code",
   "execution_count": 5,
   "id": "38ede7a9-3376-4526-a698-06a000c76e91",
   "metadata": {},
   "outputs": [
    {
     "name": "stdin",
     "output_type": "stream",
     "text": [
      "Enter no. of terminals:  5\n"
     ]
    },
    {
     "name": "stdout",
     "output_type": "stream",
     "text": [
      "Enter the terminals :\n"
     ]
    },
    {
     "name": "stdin",
     "output_type": "stream",
     "text": [
      " +\n",
      " (\n",
      " )\n",
      " *\n",
      " i\n",
      "Enter no. of non terminals:  5\n"
     ]
    },
    {
     "name": "stdout",
     "output_type": "stream",
     "text": [
      "Enter the non terminals :\n"
     ]
    },
    {
     "name": "stdin",
     "output_type": "stream",
     "text": [
      " E\n",
      " T\n",
      " R\n",
      " F\n",
      " Y\n",
      "Enter the starting symbol:  E\n",
      "Enter no of productions:  5\n"
     ]
    },
    {
     "name": "stdout",
     "output_type": "stream",
     "text": [
      "Enter the productions:\n"
     ]
    },
    {
     "name": "stdin",
     "output_type": "stream",
     "text": [
      " E->TR \n",
      " R->+TR/@\n",
      " T->FY\n",
      " Y->*FY/@ \n",
      " F->(E)/i\n"
     ]
    }
   ],
   "source": [
    "no_of_terminals=int(input(\"Enter no. of terminals: \"))\n",
    "\n",
    "terminals = []\n",
    "\n",
    "print(\"Enter the terminals :\")\n",
    "for _ in range(no_of_terminals):\n",
    "    terminals.append(input())\n",
    "\n",
    "no_of_non_terminals=int(input(\"Enter no. of non terminals: \"))\n",
    "\n",
    "non_terminals = []\n",
    "\n",
    "print(\"Enter the non terminals :\")\n",
    "for _ in range(no_of_non_terminals):\n",
    "    non_terminals.append(input())\n",
    "\n",
    "starting_symbol = input(\"Enter the starting symbol: \")\n",
    "\n",
    "no_of_productions = int(input(\"Enter no of productions: \"))\n",
    "\n",
    "productions = []\n",
    "\n",
    "print(\"Enter the productions:\")\n",
    "for _ in range(no_of_productions):\n",
    "    productions.append(input())"
   ]
  },
  {
   "cell_type": "code",
   "execution_count": 6,
   "id": "86500a71-94ba-4262-8f0f-c0a2937b5692",
   "metadata": {},
   "outputs": [
    {
     "data": {
      "text/plain": [
       "{'E': ['TR '],\n",
       " 'T': ['FY'],\n",
       " 'R': ['+TR', '@'],\n",
       " 'F': ['(E)', 'i'],\n",
       " 'Y': ['*FY', '@ ']}"
      ]
     },
     "execution_count": 6,
     "metadata": {},
     "output_type": "execute_result"
    }
   ],
   "source": [
    "\n",
    "productions_dict = {}\n",
    "for nT in non_terminals:\n",
    "    productions_dict[nT] = []\n",
    "\n",
    "\n",
    "for production in productions:\n",
    "    nonterm_to_prod = production.split(\"->\")\n",
    "    alternatives = nonterm_to_prod[1].split(\"/\")\n",
    "    for alternative in alternatives:\n",
    "        productions_dict[nonterm_to_prod[0]].append(alternative)\n",
    "        \n",
    "        \n",
    "productions_dict"
   ]
  }
 ],
 "metadata": {
  "kernelspec": {
   "display_name": "Python 3",
   "language": "python",
   "name": "python3"
  },
  "language_info": {
   "codemirror_mode": {
    "name": "ipython",
    "version": 3
   },
   "file_extension": ".py",
   "mimetype": "text/x-python",
   "name": "python",
   "nbconvert_exporter": "python",
   "pygments_lexer": "ipython3",
   "version": "3.8.8"
  }
 },
 "nbformat": 4,
 "nbformat_minor": 5
}
