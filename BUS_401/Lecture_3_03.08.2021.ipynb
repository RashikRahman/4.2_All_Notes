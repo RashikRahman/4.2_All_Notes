{
 "cells": [
  {
   "cell_type": "markdown",
   "metadata": {},
   "source": [
    "<div class=\"alert alert-success\">\n",
    "    <b>Author</b>:\n",
    "\n",
    "      Rashik Rahman\n",
    "      17201012@uap-bd.edu\n",
    "\n",
    "</div>\n",
    "\n",
    "**[Click here to see class lecture](https://drive.google.com/file/d/1UT6d6DOK1BGINGryB9rMHiP20JiHleKS/view)**\n"
   ]
  },
  {
   "cell_type": "markdown",
   "metadata": {},
   "source": [
    "![](figs/17.PNG)\n",
    "\n",
    "Organization is needed to do any business.\n",
    "\n",
    "![](figs/18.PNG)\n",
    "\n",
    "Following are a must for organization.\n",
    "\n",
    "![](figs/19.PNG)\n",
    "\n",
    "![](figs/20.PNG)\n",
    "\n",
    "Organization hires managers so that they can use resources attain desired output effectively and efficiently.\n",
    "\n",
    "![](figs/21.PNG)\n",
    "\n",
    "![](figs/22.PNG)\n",
    "\n",
    "Must have for management.\n",
    "\n",
    "![](figs/23.PNG)"
   ]
  },
  {
   "cell_type": "markdown",
   "metadata": {},
   "source": [
    "# Just read the damn slide. Doing note is meaningless for this subject."
   ]
  }
 ],
 "metadata": {
  "kernelspec": {
   "display_name": "Python 3",
   "language": "python",
   "name": "python3"
  },
  "language_info": {
   "codemirror_mode": {
    "name": "ipython",
    "version": 3
   },
   "file_extension": ".py",
   "mimetype": "text/x-python",
   "name": "python",
   "nbconvert_exporter": "python",
   "pygments_lexer": "ipython3",
   "version": "3.8.5"
  }
 },
 "nbformat": 4,
 "nbformat_minor": 4
}
