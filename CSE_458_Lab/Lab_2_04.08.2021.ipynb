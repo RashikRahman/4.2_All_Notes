{
 "cells": [
  {
   "cell_type": "markdown",
   "metadata": {},
   "source": [
    "<div class=\"alert alert-success\">\n",
    "    <b>Author</b>:\n",
    "\n",
    "      Rashik Rahman\n",
    "      17201012@uap-bd.edu\n",
    "\n",
    "</div>\n",
    "\n",
    "**[Click here to see class lecture](https://drive.google.com/file/d/1hhMVPSPVIJos7hVqjpky8QBtfTbfhDkt/view)**\n"
   ]
  },
  {
   "cell_type": "markdown",
   "metadata": {},
   "source": [
    "# We'll design an inverter today using microwind"
   ]
  },
  {
   "cell_type": "markdown",
   "metadata": {},
   "source": [
    "## For one input"
   ]
  },
  {
   "cell_type": "markdown",
   "metadata": {},
   "source": [
    "Euler's path determines the flow direction of current. pmos is designed as s/source first d/drain last and nmos is just the opposite. So here the current flows like s->d of pmos then d->s on nmos then GND. \n",
    "\n",
    "![](figs/11.PNG)\n",
    "\n",
    "![](figs/12.PNG)\n",
    "\n",
    "Here the flow is VDD->s->d->d->s->gnd\n",
    "\n",
    "![](figs/13.PNG)\n",
    "\n",
    "N-well is used to get output close to VDD voltage when active.\n",
    "\n",
    "![](figs/14.PNG)\n",
    "\n",
    "**Output**\n",
    "\n",
    "![](figs/15.PNG)\n",
    "\n"
   ]
  },
  {
   "cell_type": "markdown",
   "metadata": {},
   "source": [
    "## For two input"
   ]
  },
  {
   "cell_type": "markdown",
   "metadata": {},
   "source": [
    "![](figs/16.PNG)\n",
    "\n",
    "Here in pmos current flows through A->B.\n",
    "\n",
    "![](figs/17.PNG)\n",
    "\n",
    "![](figs/18.PNG)\n",
    "\n",
    "![](figs/19.PNG)\n",
    "\n",
    "**OUTPUT**\n",
    "\n",
    "![](figs/20.PNG)\n",
    "\n"
   ]
  },
  {
   "cell_type": "markdown",
   "metadata": {},
   "source": [
    "# End of lab!"
   ]
  }
 ],
 "metadata": {
  "kernelspec": {
   "display_name": "Python 3",
   "language": "python",
   "name": "python3"
  },
  "language_info": {
   "codemirror_mode": {
    "name": "ipython",
    "version": 3
   },
   "file_extension": ".py",
   "mimetype": "text/x-python",
   "name": "python",
   "nbconvert_exporter": "python",
   "pygments_lexer": "ipython3",
   "version": "3.8.8"
  }
 },
 "nbformat": 4,
 "nbformat_minor": 4
}
