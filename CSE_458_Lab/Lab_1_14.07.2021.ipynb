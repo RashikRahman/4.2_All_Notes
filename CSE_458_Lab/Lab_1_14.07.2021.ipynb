{
 "cells": [
  {
   "cell_type": "markdown",
   "metadata": {},
   "source": [
    "<div class=\"alert alert-success\">\n",
    "    <b>Author</b>:\n",
    "\n",
    "      Rashik Rahman\n",
    "      17201012@uap-bd.edu\n",
    "\n",
    "</div>\n",
    "\n",
    "**[Click here to see class lecture](https://drive.google.com/file/d/1dJ2Cii37nzS6kSjL8N73UxjvJyNPFABy/view)**\n"
   ]
  },
  {
   "cell_type": "markdown",
   "metadata": {},
   "source": [
    "![](figs/1.PNG)\n",
    "\n",
    "Inverter means a circuit that gives the opposite output for a corresponding input. Like if input is 1 then output is 0 and vice-versa.\n",
    "\n",
    "![](figs/2.PNG)\n",
    "\n",
    "![](figs/3.PNG)\n",
    "\n",
    "![](figs/4.PNG)\n",
    "\n",
    "![](figs/5.PNG)"
   ]
  },
  {
   "cell_type": "markdown",
   "metadata": {},
   "source": [
    "\n",
    "\n",
    "![](figs/6.PNG)\n",
    "\n",
    "![](figs/7.PNG)\n",
    "\n",
    "![](figs/8.PNG)\n",
    "\n",
    "![](figs/9.PNG)\n",
    "\n",
    "\n",
    "\n",
    "![](figs/10.PNG)"
   ]
  },
  {
   "cell_type": "markdown",
   "metadata": {},
   "source": [
    "# End of lab"
   ]
  }
 ],
 "metadata": {
  "kernelspec": {
   "display_name": "Python 3",
   "language": "python",
   "name": "python3"
  },
  "language_info": {
   "codemirror_mode": {
    "name": "ipython",
    "version": 3
   },
   "file_extension": ".py",
   "mimetype": "text/x-python",
   "name": "python",
   "nbconvert_exporter": "python",
   "pygments_lexer": "ipython3",
   "version": "3.8.8"
  }
 },
 "nbformat": 4,
 "nbformat_minor": 4
}
