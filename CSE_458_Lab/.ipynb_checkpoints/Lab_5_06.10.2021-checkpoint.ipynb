{
 "cells": [
  {
   "cell_type": "markdown",
   "id": "38088a3e-f2c3-4655-9a96-df48c263b1e3",
   "metadata": {},
   "source": [
    "<div class=\"alert alert-success\">\n",
    "    <b>Author</b>:\n",
    "\n",
    "      Rashik Rahman\n",
    "      17201012@uap-bd.edu\n",
    "\n",
    "</div>\n",
    "\n",
    "**[Click here to see class lecture](https://drive.google.com/file/d/1KObS6GIhtfSSHSvJtFfFA5HpJ6vg5I41/view)**\n"
   ]
  },
  {
   "cell_type": "code",
   "execution_count": 1,
   "id": "b3f04224-c3d2-48e4-aac0-f2d3b8b4ac38",
   "metadata": {},
   "outputs": [
    {
     "data": {
      "text/html": [
       "\n",
       "<iframe src=\"https://drive.google.com/file/d/1KObS6GIhtfSSHSvJtFfFA5HpJ6vg5I41/preview\" width=\"640\" height=\"480\" allow=\"autoplay\"></iframe>\n"
      ],
      "text/plain": [
       "<IPython.core.display.HTML object>"
      ]
     },
     "metadata": {},
     "output_type": "display_data"
    }
   ],
   "source": [
    "%%html\n",
    "\n",
    "<iframe src=\"https://drive.google.com/file/d/1KObS6GIhtfSSHSvJtFfFA5HpJ6vg5I41/preview\" width=\"640\" height=\"480\" allow=\"autoplay\"></iframe>"
   ]
  },
  {
   "cell_type": "markdown",
   "id": "c1f55273-0060-47f7-872d-7bcb0c8a1d29",
   "metadata": {},
   "source": [
    "# OR"
   ]
  },
  {
   "cell_type": "markdown",
   "id": "fdb8d27c-302a-4f28-a0ec-be9d7db478e5",
   "metadata": {},
   "source": [
    "Here we provide gate as module name. We take input and give output thus written in this manner. Need to do and opration so we write \"or\" in its bracket first we give output then the inputs. Save the file in \".v \" format.\n",
    "\n",
    "![](figs/55.PNG)\n",
    "\n",
    "We didn't do any display in gates.v so we need to test it. To test it we make a test file named Testgates.v and write it like this. To init input we write reg instead of input, and for output we write wire. uut means unit under test and pass x,y,o to it as we are using these value for tests. Then we give test case with initial begin command after that to display the results we give values to monitor func after 2nd initial begin command. The # means time delay so #20 means it will start after 20s. And as time is a library module so we use dollar sign before it in monitor func. If we don't delay using # then from the tests it will only take one and discard others as all the test will come in first second. We didn't use display func as it only will give output once. On the other hand monitor func will give output whenever the value changes.\n",
    "\n",
    "![](figs/56.PNG)\n",
    "\n",
    "When executing the .v file we also give the testbench file and after that using vvp we can see the results.\n",
    "\n",
    "![](figs/57.PNG)"
   ]
  },
  {
   "cell_type": "markdown",
   "id": "8e4cfca3-96cc-434c-b3d7-a686143eb963",
   "metadata": {},
   "source": [
    "# MUX"
   ]
  },
  {
   "cell_type": "markdown",
   "id": "fb5ec9f8-2eab-4d63-9230-351c73f14de4",
   "metadata": {},
   "source": [
    "In mux based on select switch output varies. If select is high then input a goes to output or assigned to ouput else input b is assigned to output. We write this assign condition as assign o = select?a:b. \n",
    "\n",
    "![](figs/58.PNG)\n",
    "\n",
    "![](figs/59.PNG)\n",
    "\n",
    "![](figs/60.PNG)\n",
    "\n"
   ]
  },
  {
   "cell_type": "markdown",
   "id": "64da7b59-891b-4232-bf28-04a003afd6e1",
   "metadata": {},
   "source": [
    "# Comparator"
   ]
  },
  {
   "cell_type": "markdown",
   "id": "5508116d-ff64-4ea1-b10b-abea8f1e9930",
   "metadata": {},
   "source": [
    "Now we compare two bits if the are same or not. And the condition to be same is either they both are 1 or both are 0. if both 1 then \"and\" of them will return 1 \"or\" if both are zero then not of each then \"and\" will return 1 that is assigned to f. So if f is 1 then both same else not same. \n",
    "\n",
    "\n",
    "![](figs/62.PNG)\n",
    "\n",
    "![](figs/61.PNG)\n",
    "\n",
    "![](figs/63.PNG)\n",
    "\n",
    "![](figs/64.PNG)\n",
    "\n",
    "![](figs/65.PNG)\n",
    "\n",
    "![](figs/66.PNG)\n",
    "\n",
    "![](figs/67.PNG)\n",
    "\n",
    "\n"
   ]
  },
  {
   "cell_type": "markdown",
   "id": "50f4ec60-db08-4a1c-8901-2ac60a37c30b",
   "metadata": {},
   "source": [
    "# If Else"
   ]
  },
  {
   "cell_type": "markdown",
   "id": "f4a795ad-ab65-4bed-96d0-020a1b623ed4",
   "metadata": {},
   "source": [
    "Here input wire is a range means that there are 4 x starting from x1 to x4. Same logic is for wire. X4 is msb and x1 is lsb.  if x4 1 then pcode value something if x3 1 then pcode value something and so on like this. \n",
    "\n",
    "![](figs/68.PNG)\n",
    "\n",
    "![](figs/69.PNG)\n",
    "\n",
    "![](figs/70.PNG)"
   ]
  },
  {
   "cell_type": "markdown",
   "id": "85faf4c4-2860-4376-9492-76bb915db117",
   "metadata": {},
   "source": [
    "# End of lab!"
   ]
  }
 ],
 "metadata": {
  "kernelspec": {
   "display_name": "Python 3",
   "language": "python",
   "name": "python3"
  },
  "language_info": {
   "codemirror_mode": {
    "name": "ipython",
    "version": 3
   },
   "file_extension": ".py",
   "mimetype": "text/x-python",
   "name": "python",
   "nbconvert_exporter": "python",
   "pygments_lexer": "ipython3",
   "version": "3.8.8"
  }
 },
 "nbformat": 4,
 "nbformat_minor": 5
}
