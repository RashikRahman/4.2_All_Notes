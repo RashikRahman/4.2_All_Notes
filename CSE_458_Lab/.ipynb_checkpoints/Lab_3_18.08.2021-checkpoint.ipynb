{
 "cells": [
  {
   "cell_type": "markdown",
   "metadata": {},
   "source": [
    "<div class=\"alert alert-success\">\n",
    "    <b>Author</b>:\n",
    "\n",
    "      Rashik Rahman\n",
    "      17201012@uap-bd.edu\n",
    "\n",
    "</div>\n",
    "\n",
    "**[Click here to see class lecture](https://drive.google.com/file/d/1bTqh0AE9iq9tvHrYJJaEfgcX1UJVyn3I/view)**\n"
   ]
  },
  {
   "cell_type": "markdown",
   "metadata": {},
   "source": [
    "A source is connected to VDD so we place a connection between source of A and VDD, now A source and B source is connected to GND in pull down network so instead of placing two bars we place one bare to denote that. Tha bar is places in between source of A & B and connected to GND.\n",
    "\n",
    "![](figs/21.PNG)\n",
    "\n",
    "If direction is B->A then we draw it like this. Anything else won't work.\n",
    "\n",
    "![](figs/22.PNG)\n",
    "\n",
    "![](figs/23.PNG)\n",
    "\n",
    "![](figs/24.PNG)\n",
    "\n",
    "![](figs/25.PNG)\n",
    "\n",
    "![](figs/26.PNG)"
   ]
  },
  {
   "cell_type": "markdown",
   "metadata": {},
   "source": [
    "To use cmos we place a bar then invert the output to get Y.\n",
    "\n",
    "![](figs/27.PNG)\n",
    "\n",
    "![](figs/28.PNG)\n",
    "\n",
    "![](figs/29.PNG)\n",
    "![](figs/30.PNG)\n",
    "\n",
    "Here ABCD, DCBA direction are alright cause it is true for both pmos and nmos. But if it was false for any of the two then that direction won't be acceptable i.e BACD, BADC. cz when we go from B->A then we can't reache C & D in pull down network.\n",
    "\n",
    "![](figs/31.PNG)\n",
    "\n",
    "![](figs/32.PNG)\n",
    "\n",
    "![](figs/33.PNG)\n",
    "\n",
    "![](figs/34.PNG)"
   ]
  },
  {
   "cell_type": "markdown",
   "metadata": {},
   "source": [
    "# End of lab!"
   ]
  }
 ],
 "metadata": {
  "kernelspec": {
   "display_name": "Python 3",
   "language": "python",
   "name": "python3"
  },
  "language_info": {
   "codemirror_mode": {
    "name": "ipython",
    "version": 3
   },
   "file_extension": ".py",
   "mimetype": "text/x-python",
   "name": "python",
   "nbconvert_exporter": "python",
   "pygments_lexer": "ipython3",
   "version": "3.8.8"
  }
 },
 "nbformat": 4,
 "nbformat_minor": 4
}
