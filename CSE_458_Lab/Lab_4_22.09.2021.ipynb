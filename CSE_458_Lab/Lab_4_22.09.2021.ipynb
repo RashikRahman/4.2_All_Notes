{
 "cells": [
  {
   "cell_type": "markdown",
   "id": "9a2dc03b-9ede-42aa-9086-7e802e07dfd4",
   "metadata": {
    "tags": []
   },
   "source": [
    "<div class=\"alert alert-success\">\n",
    "    <b>Author</b>:\n",
    "\n",
    "      Rashik Rahman\n",
    "      17201012@uap-bd.edu\n",
    "\n",
    "</div>\n",
    "\n",
    "**[Click here to see class lecture](https://drive.google.com/file/d/1ciMvUt4szmnjfQrVe1ZitLgZ0e-6ilq_/view)**\n"
   ]
  },
  {
   "cell_type": "code",
   "execution_count": 4,
   "id": "7c121f73-5038-4216-83a7-e8e29faa54d2",
   "metadata": {},
   "outputs": [
    {
     "data": {
      "text/html": [
       "<iframe src=\"https://drive.google.com/file/d/1ciMvUt4szmnjfQrVe1ZitLgZ0e-6ilq_/preview\" width=\"720\" height=\"720\" allow=\"autoplay\"></iframe>\n"
      ],
      "text/plain": [
       "<IPython.core.display.HTML object>"
      ]
     },
     "metadata": {},
     "output_type": "display_data"
    }
   ],
   "source": [
    "%%html\n",
    "<iframe src=\"https://drive.google.com/file/d/1ciMvUt4szmnjfQrVe1ZitLgZ0e-6ilq_/preview\" width=\"720\" height=\"720\" allow=\"autoplay\"></iframe>"
   ]
  },
  {
   "cell_type": "markdown",
   "id": "531cca5e-9b31-40e7-82d4-2e6a98f3b7ea",
   "metadata": {},
   "source": [
    "HDL is a programming language like c, java etc. But it is used to describe a circuit's structure and behaviour.\n",
    "\n",
    "![](figs/35.PNG)\n",
    "\n",
    "![](figs/36.PNG)\n",
    "\n",
    "![](figs/37.PNG)\n",
    "\n",
    "![](figs/38.PNG)\n",
    "\n",
    "![](figs/39.PNG)"
   ]
  },
  {
   "cell_type": "markdown",
   "id": "20096bc5-d6f2-402c-a3aa-6f00e7ffae3c",
   "metadata": {},
   "source": []
  }
 ],
 "metadata": {
  "kernelspec": {
   "display_name": "Python 3",
   "language": "python",
   "name": "python3"
  },
  "language_info": {
   "codemirror_mode": {
    "name": "ipython",
    "version": 3
   },
   "file_extension": ".py",
   "mimetype": "text/x-python",
   "name": "python",
   "nbconvert_exporter": "python",
   "pygments_lexer": "ipython3",
   "version": "3.8.8"
  }
 },
 "nbformat": 4,
 "nbformat_minor": 5
}
