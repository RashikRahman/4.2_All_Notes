{
 "cells": [
  {
   "cell_type": "markdown",
   "metadata": {},
   "source": [
    "<div class=\"alert alert-success\">\n",
    "    <b>Author</b>:\n",
    "\n",
    "      Rashik Rahman\n",
    "      17201012@uap-bd.edu\n",
    "\n",
    "</div>\n",
    "\n",
    "**[Click here to see class lecture](https://photos.app.goo.gl/42wZFVvPKdRKYSKU9)**\n"
   ]
  },
  {
   "cell_type": "markdown",
   "metadata": {},
   "source": [
    "In business the way you make profit should be lawful and ethical manner. For this reason drug dealing can't be considered as a business. Here,\n",
    "\n",
    "- Industry: Manufacturing goods/services.\n",
    "- Commerce: Distribution of goods/services.\n",
    "- Trade: Part of commerce.\n",
    "- Support Activities: Part of commerce. Financing support by bank, transportation support, warehouse support, risk bearing support(insurance) etc.\n",
    "\n",
    "![](figs/1.PNG)\n",
    "\n",
    "Goods and services are the output of business.\n",
    "\n",
    "![](figs/2.PNG)\n",
    "\n",
    "In business here written form of P is PI. In business you should focus on balancing profit, revenue, expense, loss and value.\n",
    "\n",
    "![](figs/3.PNG)\n",
    "\n",
    "![](figs/4.PNG)\n",
    "\n",
    "![](figs/5.PNG)\n",
    "\n",
    "![](figs/6.PNG)"
   ]
  },
  {
   "cell_type": "markdown",
   "metadata": {},
   "source": [
    "![](figs/7.PNG)\n",
    "\n",
    "**till 13min**"
   ]
  },
  {
   "cell_type": "markdown",
   "metadata": {},
   "source": []
  }
 ],
 "metadata": {
  "kernelspec": {
   "display_name": "Python 3",
   "language": "python",
   "name": "python3"
  },
  "language_info": {
   "codemirror_mode": {
    "name": "ipython",
    "version": 3
   },
   "file_extension": ".py",
   "mimetype": "text/x-python",
   "name": "python",
   "nbconvert_exporter": "python",
   "pygments_lexer": "ipython3",
   "version": "3.8.5"
  }
 },
 "nbformat": 4,
 "nbformat_minor": 4
}
