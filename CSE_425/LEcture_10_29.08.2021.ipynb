{
 "cells": [
  {
   "cell_type": "markdown",
   "id": "2304b29b-21c8-4abb-8e76-29a2a98e228a",
   "metadata": {},
   "source": [
    "<div class=\"alert alert-success\">\n",
    "    <b>Author</b>:\n",
    "\n",
    "      Rashik Rahman\n",
    "      17201012@uap-bd.edu\n",
    "\n",
    "</div>\n",
    "\n",
    "**[Click here to see class lecture](https://drive.google.com/file/d/1Su3ekXujM3_Xnc9BFzBmvYsQsgBU79Rm/view)**\n",
    "\n"
   ]
  },
  {
   "cell_type": "markdown",
   "id": "758a026c-bf9f-4674-a7ce-3a7476a3d477",
   "metadata": {},
   "source": [
    "Here R_theta is the rotation matrix and then we give the theta value = 90 here, then get the matrix containing 0,1. We know openGL uses colum based matrix so the positions are given in y is below x in matrix. There should be a 3rd row of zeros. Now a q can be like after rotation what will be the position of the object, without doing the math we can guess it. In general right hand rule is used where positive theta means anti-clock wise so we can tell the object will rotate left and may end up in -+ region.\n",
    "\n",
    "![](figs/154.PNG)\n",
    "\n",
    "In 2D rotation an object like triangle rotates around a point(here its q). So its like q is the center point and the triangle may rotate around q like moon rotates around earth. How can we do it?\n",
    "\n",
    "We follow similar process like uniform scaling just instead of scaling matrix we use rotation matrix. Firts we have to do translation with respect to q. To do this we find $T_{-a,-b}$ and multiply it with triangle matrix. As it in object coordinate system thus we multiply left to right. After translating traingle its considered as obj2. \n",
    "\n",
    "![](figs/155.PNG)\n",
    "\n",
    "Then multiplying obj2 with R_theta we get Obj3 which is the rotated triangle. Now we scale back that object by multiplying $T_{a,b}$ it with obj3. Here note that the values of a,b are opposite of the previous translation table. \n",
    "\n",
    "![](figs/156.PNG)\n",
    "\n",
    "**See  4.20, 4.22, 4.25 - 4.28, 4.2, 4.4, 4.5, 4.7, 4.8 etc maths from computer graphics Schaum's  book.**"
   ]
  },
  {
   "cell_type": "markdown",
   "id": "99678f34-ab18-4d62-90ed-d8f717e44950",
   "metadata": {},
   "source": [
    "# End of lecture!"
   ]
  }
 ],
 "metadata": {
  "kernelspec": {
   "display_name": "Python 3",
   "language": "python",
   "name": "python3"
  },
  "language_info": {
   "codemirror_mode": {
    "name": "ipython",
    "version": 3
   },
   "file_extension": ".py",
   "mimetype": "text/x-python",
   "name": "python",
   "nbconvert_exporter": "python",
   "pygments_lexer": "ipython3",
   "version": "3.8.8"
  }
 },
 "nbformat": 4,
 "nbformat_minor": 5
}
