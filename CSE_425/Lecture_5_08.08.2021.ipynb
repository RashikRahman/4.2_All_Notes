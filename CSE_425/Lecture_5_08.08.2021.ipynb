{
 "cells": [
  {
   "cell_type": "markdown",
   "metadata": {},
   "source": [
    "<div class=\"alert alert-success\">\n",
    "    <b>Author</b>:\n",
    "\n",
    "      Rashik Rahman\n",
    "      17201012@uap-bd.edu\n",
    "\n",
    "</div>\n",
    "\n",
    "**[Click here to see class lecture](https://drive.google.com/file/d/1rchKm3aiTMQtN6k9mDhKrHoaRRpvufJL/view)**\n"
   ]
  },
  {
   "cell_type": "markdown",
   "metadata": {},
   "source": [
    "![](figs/64.PNG)\n",
    "\n",
    "![](figs/65.PNG)\n",
    "\n",
    "![](figs/66.PNG)\n",
    "\n",
    "![](figs/67.PNG)\n",
    "\n",
    "![](figs/68.PNG)\n",
    "\n",
    "![](figs/69.PNG)\n",
    "\n",
    "In vector multiplication the direction stays same just the scaler value increases/decreases.\n",
    "\n",
    "![](figs/70.PNG)\n",
    "\n",
    "![](figs/71.PNG)"
   ]
  },
  {
   "cell_type": "markdown",
   "metadata": {},
   "source": [
    "Adding a vector to a point returns new point. If we add p1 with vector then the vector will indicate which direction the new point will be and its value. Let P1 and P2 are two point that are included in vector. Now on this line if we want to calculate P we need the following eqns. In the eqn t is a scaler value and by multipling it we get new length. t's value is between 0->1 cause using 0 we get p1 and using 1 we get p2 in the 1st eqn. Using the 1st eqn we can get every point on line p1->p2.\n",
    "\n",
    "![](figs/72.PNG)\n",
    "\n",
    "`Affine combination is imp for xm`\n",
    "\n",
    "**Affine Combination**: If you can combine two or more points with particular fractions with a condition that thoose fractions or parameters are sum up to 1, in that case combining two or more point one can get new points.\n",
    "\n",
    "![](figs/73.PNG)\n",
    "\n",
    "These are Bernstein polynomials. Just changing p2 we can get many parabolas cz it is the main changing point.\n",
    "\n",
    "![](figs/74.PNG)\n",
    "\n",
    "Here p2 and p3 are control points.\n",
    "\n",
    "![](figs/75.PNG)\n",
    "\n",
    "![](figs/76.PNG)\n"
   ]
  },
  {
   "cell_type": "markdown",
   "metadata": {},
   "source": [
    "In barycentric coordinate we consider one of the given coordinates as origin but in cartesian coordinate origin is 0,0. Here if we consider p1 as origin coordinate then p3-p1 is one axis and another axis is p2-p1, cz in berycentric there are two axis and these axis are the vectors from origin. Using barycentric we can calculate any point inside of a triangle.\n",
    "\n",
    "![](figs/77.PNG)"
   ]
  },
  {
   "cell_type": "markdown",
   "metadata": {},
   "source": [
    "# End of lecture!"
   ]
  }
 ],
 "metadata": {
  "kernelspec": {
   "display_name": "Python 3",
   "language": "python",
   "name": "python3"
  },
  "language_info": {
   "codemirror_mode": {
    "name": "ipython",
    "version": 3
   },
   "file_extension": ".py",
   "mimetype": "text/x-python",
   "name": "python",
   "nbconvert_exporter": "python",
   "pygments_lexer": "ipython3",
   "version": "3.8.8"
  }
 },
 "nbformat": 4,
 "nbformat_minor": 4
}
