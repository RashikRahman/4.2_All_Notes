{
 "cells": [
  {
   "cell_type": "markdown",
   "id": "61e490bb-a724-40c0-91a3-f06a03fb18e2",
   "metadata": {},
   "source": [
    "<div class=\"alert alert-success\">\n",
    "    <b>Author</b>:\n",
    "\n",
    "      Rashik Rahman\n",
    "      17201012@uap-bd.edu\n",
    "\n",
    "</div>\n",
    "\n",
    "**[Click here to see class lecture](https://drive.google.com/file/d/1EoapfNWZFreeOmrw5AXkfIgWW4lmezfB/view?usp=drivesdk)**\n"
   ]
  },
  {
   "cell_type": "markdown",
   "id": "cf58d108-45ad-49e0-9b75-6aa3f0ddf211",
   "metadata": {},
   "source": [
    "Depending on d we can either choose NE or E. If NE then next midpoint will be M1 and if E then next midpoint will be M2. If we consider case 1 we get the following. M1y is 1.5 which is 3/2.\n",
    "\n",
    "![](figs/374.PNG)\n",
    "\n",
    "M2y is 0.5 which is 1/2.\n",
    "\n",
    "![](figs/375.PNG)\n",
    "\n",
    "![](figs/376.PNG)\n",
    "\n",
    "d0 needs to be int not float. initial dicision variable d0 is F(M1).\n",
    "\n",
    "![](figs/377.PNG)\n",
    "\n",
    "![](figs/378.PNG)\n",
    "\n",
    "We can calculate using x,y and then convert it to another slope settings. Like x of slope 1 becomes y of slope two and y of slope 1 becomes x of slope 2. This way just knowing x,y from slope 1 we can convert it to any other slope.\n",
    "\n",
    "![](figs/379.PNG)\n",
    "\n",
    "![](figs/380.PNG)"
   ]
  },
  {
   "cell_type": "markdown",
   "id": "11dc103b-bfbc-4c74-92ce-9de2fbdbbc99",
   "metadata": {},
   "source": [
    "\n",
    "\n",
    "![](figs/381.PNG)\n",
    "\n",
    "![](figs/382.PNG)\n",
    "\n",
    "![](figs/383.PNG)\n",
    "\n",
    "![](figs/384.PNG)\n",
    "\n",
    "![](figs/385.PNG)\n",
    "\n",
    "![](figs/386.PNG)\n",
    "\n",
    "![](figs/387.PNG)\n",
    "\n",
    "![](figs/388.PNG)\n",
    "\n",
    "![](figs/389.PNG)\n",
    "\n",
    "![](figs/390.PNG)\n",
    "\n",
    "![](figs/391.PNG)\n",
    "\n",
    "Using one octane we can calculate 7 more octanes.\n",
    "\n",
    "![](figs/392.PNG)\n",
    "\n",
    "![](figs/393.PNG)"
   ]
  },
  {
   "cell_type": "markdown",
   "id": "1fedbac5-3c60-455d-b057-d1099a0a5620",
   "metadata": {},
   "source": [
    "# End of lecture!"
   ]
  }
 ],
 "metadata": {
  "kernelspec": {
   "display_name": "Python 3",
   "language": "python",
   "name": "python3"
  },
  "language_info": {
   "codemirror_mode": {
    "name": "ipython",
    "version": 3
   },
   "file_extension": ".py",
   "mimetype": "text/x-python",
   "name": "python",
   "nbconvert_exporter": "python",
   "pygments_lexer": "ipython3",
   "version": "3.8.8"
  }
 },
 "nbformat": 4,
 "nbformat_minor": 5
}
