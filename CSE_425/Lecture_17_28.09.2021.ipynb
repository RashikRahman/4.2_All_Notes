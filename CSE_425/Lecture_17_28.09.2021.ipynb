{
 "cells": [
  {
   "cell_type": "markdown",
   "id": "43c689d2-68c2-4989-9372-518afc3fe1aa",
   "metadata": {},
   "source": [
    "<div class=\"alert alert-success\">\n",
    "    <b>Author</b>:\n",
    "\n",
    "      Rashik Rahman\n",
    "      17201012@uap-bd.edu\n",
    "\n",
    "</div>\n",
    "\n",
    "**[Click here to see class lecture](https://drive.google.com/file/d/1kJINAua6M4YVgIVPTGIKqxipqg2Nbauv/view)**\n",
    "\n"
   ]
  },
  {
   "cell_type": "code",
   "execution_count": 1,
   "id": "cb25af4b-03c3-41c7-bdac-fe0ed4db1338",
   "metadata": {},
   "outputs": [
    {
     "data": {
      "text/html": [
       "\n",
       "<iframe src=\"https://drive.google.com/file/d/1kJINAua6M4YVgIVPTGIKqxipqg2Nbauv/preview\" width=\"640\" height=\"480\" allow=\"autoplay\"></iframe>\n"
      ],
      "text/plain": [
       "<IPython.core.display.HTML object>"
      ]
     },
     "metadata": {},
     "output_type": "display_data"
    }
   ],
   "source": [
    "%%html\n",
    "\n",
    "<iframe src=\"https://drive.google.com/file/d/1kJINAua6M4YVgIVPTGIKqxipqg2Nbauv/preview\" width=\"640\" height=\"480\" allow=\"autoplay\"></iframe>"
   ]
  },
  {
   "cell_type": "markdown",
   "id": "9d6c1abd-ad51-4b9e-9999-3125a6049dba",
   "metadata": {},
   "source": [
    "In last class we saw if a point is inside or outside a surface(3D object), Now we'll see how to find intersection point I when a line intersects a surface. \n",
    "\n",
    "![](figs/236.PNG)\n",
    "\n",
    "First find which point is in inside and which in outside.\n",
    "\n",
    "![](figs/237.PNG)\n",
    "\n",
    "In first lectures we learned how to find a point on a line. Using that eqn we can get I.\n",
    "\n",
    "![](figs/238.PNG)\n",
    "\n",
    "t value is between 0->1. But we need to find exact value of t.\n",
    "\n",
    "![](figs/239.PNG)\n",
    "\n",
    "![](figs/240.PNG)\n",
    "\n",
    "![](figs/241.PNG)\n",
    "\n",
    "![](figs/242.PNG)\n",
    "\n",
    "![](figs/243.PNG)\n",
    "\n",
    "Now as point I intersects for it is on the surface and when a point is on surface then the angle between it and surface norm is 90 so the dot multiply end result is 0.\n",
    "\n",
    "![](figs/244.PNG)\n",
    "\n",
    "![](figs/245.PNG)\n",
    "\n",
    "![](figs/246.PNG)"
   ]
  },
  {
   "cell_type": "markdown",
   "id": "33968630-9e66-4e5b-ae03-0147fe30ee3d",
   "metadata": {},
   "source": [
    "# End of lecture!"
   ]
  }
 ],
 "metadata": {
  "kernelspec": {
   "display_name": "Python 3",
   "language": "python",
   "name": "python3"
  },
  "language_info": {
   "codemirror_mode": {
    "name": "ipython",
    "version": 3
   },
   "file_extension": ".py",
   "mimetype": "text/x-python",
   "name": "python",
   "nbconvert_exporter": "python",
   "pygments_lexer": "ipython3",
   "version": "3.8.8"
  }
 },
 "nbformat": 4,
 "nbformat_minor": 5
}
