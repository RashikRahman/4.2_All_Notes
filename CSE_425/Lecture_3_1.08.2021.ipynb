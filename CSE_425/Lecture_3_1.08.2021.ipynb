{
 "cells": [
  {
   "cell_type": "markdown",
   "metadata": {},
   "source": [
    "<div class=\"alert alert-success\">\n",
    "    <b>Author</b>:\n",
    "\n",
    "      Rashik Rahman\n",
    "      17201012@uap-bd.edu\n",
    "\n",
    "</div>\n",
    "\n",
    "**[Click here to see class lecture](https://drive.google.com/file/d/1nrZBkB3SIaSrkNJf3apkLkoYvAg3RYaA/view)**\n"
   ]
  },
  {
   "cell_type": "markdown",
   "metadata": {},
   "source": [
    "![](figs/42.PNG)\n",
    "\n",
    "![](figs/43.PNG)\n",
    "\n",
    "![](figs/44.PNG)\n",
    "\n",
    "![](figs/45.PNG)\n",
    "\n",
    "Here we can see more colors then RGB where we only given RGB value to three points. Reest of the point does color interpolation.\n",
    "\n",
    "![](figs/46.PNG)\n",
    "\n",
    "![](figs/47.PNG)\n",
    "\n",
    "GL_MODELVIEW is used for object transformation it maintains the order of matrix as it is a stack. In OpenGL processes matrices in `column major way`.\n",
    "\n",
    "![](figs/48.PNG)\n",
    "\n",
    "glTranslatef() is for moving the object. To use these function we have to pass GL_MODELVIEW in glMatrixMode() as a param. As GL_MODELVIEW works as a stack so it maintains object order and can do these transformation. gluLookAt is a view transformation functioon for this we also use GL_MODELVIEW as param in glMatrixMode().\n",
    "\n",
    "![](figs/49.PNG)\n"
   ]
  },
  {
   "cell_type": "markdown",
   "metadata": {},
   "source": [
    "projection transformation is a part of camera transformation. \n",
    "\n",
    "![](figs/50.PNG)\n",
    "\n",
    "glutInit, glutInitDisplayMode are used for initialization.\n",
    "\n",
    "![](figs/51.PNG)\n",
    "\n",
    "![](figs/52.PNG)\n",
    "\n",
    "![](figs/53.PNG)\n",
    "\n"
   ]
  },
  {
   "cell_type": "markdown",
   "metadata": {},
   "source": [
    "```ini\n",
    "Task was assigned for the whole semester. This assignment will be submitted in two steps mid & final. Before mid complete one of four tasks and make report/readme then submit code with report. Also need to submit extra files whiche are mentioned in the submit section of the docx. Then before final complete rest tasks then submit code with readme and other files.\n",
    "\n",
    "```"
   ]
  },
  {
   "cell_type": "markdown",
   "metadata": {},
   "source": [
    "# End of lecture!"
   ]
  }
 ],
 "metadata": {
  "kernelspec": {
   "display_name": "Python 3",
   "language": "python",
   "name": "python3"
  },
  "language_info": {
   "codemirror_mode": {
    "name": "ipython",
    "version": 3
   },
   "file_extension": ".py",
   "mimetype": "text/x-python",
   "name": "python",
   "nbconvert_exporter": "python",
   "pygments_lexer": "ipython3",
   "version": "3.8.8"
  }
 },
 "nbformat": 4,
 "nbformat_minor": 4
}
