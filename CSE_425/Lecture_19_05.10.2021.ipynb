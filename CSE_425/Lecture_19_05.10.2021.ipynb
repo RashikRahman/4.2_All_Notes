{
 "cells": [
  {
   "cell_type": "markdown",
   "id": "426e8724-a917-4979-8114-81f855040c21",
   "metadata": {},
   "source": [
    "<div class=\"alert alert-success\">\n",
    "    <b>Author</b>:\n",
    "\n",
    "      Rashik Rahman\n",
    "      17201012@uap-bd.edu\n",
    "\n",
    "</div>\n",
    "\n",
    "**[Click here to see class lecture](https://drive.google.com/file/d/12aau761S9AE5NrHrEOxtFeJUtss1WgI6/view)**\n",
    "\n"
   ]
  },
  {
   "cell_type": "code",
   "execution_count": 1,
   "id": "51071d0e-29ea-4d9a-8bf7-39fe6c74c7f6",
   "metadata": {},
   "outputs": [
    {
     "data": {
      "text/html": [
       "\n",
       "<iframe src=\"https://drive.google.com/file/d/12aau761S9AE5NrHrEOxtFeJUtss1WgI6/preview\" width=\"640\" height=\"480\" allow=\"autoplay\"></iframe>\n"
      ],
      "text/plain": [
       "<IPython.core.display.HTML object>"
      ]
     },
     "metadata": {},
     "output_type": "display_data"
    }
   ],
   "source": [
    "%%html\n",
    "\n",
    "<iframe src=\"https://drive.google.com/file/d/12aau761S9AE5NrHrEOxtFeJUtss1WgI6/preview\" width=\"640\" height=\"480\" allow=\"autoplay\"></iframe>"
   ]
  },
  {
   "cell_type": "markdown",
   "id": "9571071a-23c8-463c-b5ad-4edff1864de7",
   "metadata": {},
   "source": [
    "If direction of viewing vector is opposite of surface normal vector then its front facing and if both in same direction then backward facing. Another way is, if the direction of normal vector is towards center of projection then front facing and if opposite of center of projection is backward facing.\n",
    "\n",
    "\n",
    "![](figs/256.PNG)\n",
    "\n",
    "![](figs/257.PNG)\n",
    "\n",
    "![](figs/258.PNG)\n",
    " "
   ]
  },
  {
   "cell_type": "markdown",
   "id": "3e034870-4537-498e-919d-ffc37001df5f",
   "metadata": {},
   "source": [
    "\n",
    "\n",
    "![](figs/259.PNG)\n",
    "\n",
    "Opengl uses z buffering algo.\n",
    "    \n",
    "![](figs/261.PNG)\n",
    "\n",
    "Frame buffer stores the info of a image(pixels). Frame buffer size is (h * w * color_channel or color bit) For this exmaple it is 1024 * 1000 * 3(as rgb, it can also be 16,24,32,128,256 etc). Color info of a frame is stored in a memory and that memory is called frame buffer. And Z value of per pixel are stored in z-buffer. Z value is value of z axis.\n",
    "    \n",
    "![](figs/262.PNG)\n",
    "\n",
    "When object is close to camera then z value is larger thus whitish/brighter image and when object is far from camera then less z value thus darker image. So using this z value we can know which object is infront and which is in back.\n",
    "    \n",
    "![](figs/263.PNG)\n",
    "\n",
    "A smooth trianle has thousands of pixel inside it. We can use berycentric coordinate system to find them, and then can use z buffer to find if a pixel is hidden or not. If a pixel is behind another pixel then that pixel is hidden.\n",
    "    \n",
    "![](figs/264.PNG)\n",
    "\n",
    "Now how to calculate z buffer. Take init buffer that has -inf in all pixels, now compare init buffer with triangle image(z values). If new matrix's z values are greater then init z buffer then replace init values with new z values. And thus get resulting matrix. Here -1 is larger then -inf so -inf is replaced by -1. The resulting matrix is now the z buffer. And then again a new image/matrix/buffer comes and the whole process is repeated. This is how we treat each primitive individually. From scene extracty object then extract triangle from object then do this pixel calculation to get z buffer.\n",
    "    \n",
    "![](figs/265.PNG)\n",
    "    \n",
    "![](figs/267.PNG)\n",
    "\n",
    "Now the q is how to get the z values of new image. We use berycentric system for that. And then interpolate after finding a pattern.\n",
    "    \n",
    "![](figs/266.PNG)\n",
    "    \n",
    "![](figs/268.PNG)\n",
    "    \n",
    "![](figs/269.PNG)\n"
   ]
  },
  {
   "cell_type": "markdown",
   "id": "a77fb6c7-aaf6-4a7d-82f2-78b163c747e1",
   "metadata": {},
   "source": [
    "# End of lecture!"
   ]
  }
 ],
 "metadata": {
  "kernelspec": {
   "display_name": "Python 3",
   "language": "python",
   "name": "python3"
  },
  "language_info": {
   "codemirror_mode": {
    "name": "ipython",
    "version": 3
   },
   "file_extension": ".py",
   "mimetype": "text/x-python",
   "name": "python",
   "nbconvert_exporter": "python",
   "pygments_lexer": "ipython3",
   "version": "3.8.8"
  }
 },
 "nbformat": 4,
 "nbformat_minor": 5
}
