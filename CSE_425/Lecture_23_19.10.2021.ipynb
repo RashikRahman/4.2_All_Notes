{
 "cells": [
  {
   "cell_type": "markdown",
   "id": "122d0548-d8b2-4d1a-841f-b9e63c0b6502",
   "metadata": {},
   "source": [
    "<div class=\"alert alert-success\">\n",
    "    <b>Author</b>:\n",
    "\n",
    "      Rashik Rahman\n",
    "      17201012@uap-bd.edu\n",
    "\n",
    "</div>\n",
    "\n",
    "**[Click here to see class lecture](https://drive.google.com/file/d/1krQBavsO_V8wJRVilmkrZH7Y3j0ArzHU/view)**\n",
    "\n"
   ]
  },
  {
   "cell_type": "code",
   "execution_count": 1,
   "id": "164712e2-48b4-4751-8d87-b0b6841357d2",
   "metadata": {},
   "outputs": [
    {
     "data": {
      "text/html": [
       "\n",
       "<iframe src=\"https://drive.google.com/file/d/1krQBavsO_V8wJRVilmkrZH7Y3j0ArzHU/preview\" width=\"640\" height=\"480\" allow=\"autoplay\"></iframe>\n"
      ],
      "text/plain": [
       "<IPython.core.display.HTML object>"
      ]
     },
     "metadata": {},
     "output_type": "display_data"
    }
   ],
   "source": [
    "%%html\n",
    "\n",
    "<iframe src=\"https://drive.google.com/file/d/1krQBavsO_V8wJRVilmkrZH7Y3j0ArzHU/preview\" width=\"640\" height=\"480\" allow=\"autoplay\"></iframe>"
   ]
  },
  {
   "cell_type": "markdown",
   "id": "7880b843-1c28-4c9d-b4e3-c27a30e85bbd",
   "metadata": {},
   "source": [
    "We can do texture mapping using two approaches. One is manual way that doesn't utilize any function, another one is two-step technique which is a automated method.\n",
    "\n",
    "![](figs/300.PNG)\n",
    "\n",
    "Though manual approach is very simple but its a tedious task. Here consider triangle vertex. It will have a texture mapping with color info. The info of three points will be pass to triangle then using bericentric system we fill triangles inside color. Its linear interpolation.\n",
    "\n",
    "![](figs/301.PNG)\n",
    "\n",
    "![](figs/302.PNG)\n",
    "\n",
    "![](figs/303.PNG)\n",
    "\n",
    "![](figs/304.PNG)\n",
    "\n",
    "![](figs/305.PNG)\n",
    "\n",
    "First 2D texture image/color/info will be mapped on 3D shape e.g. cyclinder then this textured cylinder will be mapped on 3D object.\n",
    "\n",
    "![](figs/306.PNG)\n",
    "\n",
    "![](figs/307.PNG)\n",
    "\n",
    "![](figs/308.PNG)\n",
    "\n",
    "![](figs/309.PNG)\n",
    "\n",
    "\n"
   ]
  },
  {
   "cell_type": "markdown",
   "id": "fe481b10-6231-4d66-8970-01f084696ee1",
   "metadata": {},
   "source": [
    "\n",
    "So now prob can happen like what if the object is larger then the texture map. Texture map value range is 0 to 1 if an object size exceeds this value what can we do? We can take some typical approaches. In texture repetition we repeat the texture in the object but it has down side that is some artifacts are created near the boundary. So mirroring will give smooth transitions. And clamping adds a fixed value if there's a point outside 0,1. We can also add different color on the part that exceeds the range using border color.\n",
    " \n",
    "![](figs/310.PNG)\n",
    "\n",
    "We used iphong to get color of 3D object. We can also get color of 3D object from texture mapping. So which one should we keep? We can use Iphong(Kr,Kg,Kb) to replace texture mapped color (r,g,b) or we can modulate. Modulation is mixture of both.\n",
    " \n",
    "![](figs/311.PNG)\n",
    "\n",
    "![](figs/312.PNG)\n",
    "\n",
    "when object size/resulation and texture size/resulation is same then we can get optimal texture mapping. To achieve this we can use stack of texture where we stack different size of textures, so when object size changes like shifting to small or big we can have corresponding texture to it. Select the best fitting polygon size we can choose texture from the stack. As shown in the figure we can store stack multiple sizes of texture.\n",
    "\n",
    "![](figs/313.PNG)\n",
    "\n",
    "\n",
    "How can we create different sizes of texture? We can use GL_NEAREST_MIPMAP_NEAREST. Here we take 2x2 pixel and from it take any one pixel then put that pixel in the corresponding location of the smaller sized texture.\n",
    "\n",
    "![](figs/314.PNG)\n",
    "\n",
    "We can also use GL_LINEAR_MIPMAP_NEAREST. Here we average the color of 2x2 matrix and that place that averaged color value in the corresponding location of the smaller sized texture.\n",
    "\n",
    "![](figs/315.PNG) \n",
    "\n",
    "![](figs/316.PNG) \n",
    "\n",
    "![](figs/317.PNG) \n"
   ]
  },
  {
   "cell_type": "markdown",
   "id": "aef55ca3-1016-4473-963e-766648baad6c",
   "metadata": {},
   "source": [
    "\n",
    "\n",
    "![](figs/318.PNG) \n",
    "\n",
    "cel is layer. In cel animation let the red object raise and lower its hand. Now the artist draws two cel one with hand raise another with hands down. Then computer program interpolates between these two cel so that it can generates multiple frames from it that makes an animation effect of the hand being lowered from a raised position. This is cel animation.\n",
    "\n",
    "![](figs/319.PNG) \n",
    "\n",
    "![](figs/320.PNG) \n",
    "\n",
    "There are 12 principle/methods of animation shown in the following fig. One of them is squash and stretch. Squash and stretch are controlled/used to have the realistic behaviour of an object.\n",
    "\n",
    "![](figs/322.PNG) \n",
    "\n",
    "![](figs/321.PNG) \n",
    "\n",
    "![](figs/323.PNG) \n",
    "\n",
    "\n"
   ]
  },
  {
   "cell_type": "code",
   "execution_count": 3,
   "id": "d7a8851c-3ef5-4adb-90ce-8a0c63813ff3",
   "metadata": {},
   "outputs": [
    {
     "data": {
      "text/html": [
       "\n",
       "<iframe width=\"560\" height=\"315\" src=\"https://www.youtube.com/embed/haa7n3UGyDc\" title=\"YouTube video player\" frameborder=\"0\" allow=\"accelerometer; autoplay; clipboard-write; encrypted-media; gyroscope; picture-in-picture\" allowfullscreen></iframe>\n"
      ],
      "text/plain": [
       "<IPython.core.display.HTML object>"
      ]
     },
     "metadata": {},
     "output_type": "display_data"
    }
   ],
   "source": [
    "%%html\n",
    "\n",
    "<iframe width=\"560\" height=\"315\" src=\"https://www.youtube.com/embed/haa7n3UGyDc\" title=\"YouTube video player\" frameborder=\"0\" allow=\"accelerometer; autoplay; clipboard-write; encrypted-media; gyroscope; picture-in-picture\" allowfullscreen></iframe>"
   ]
  },
  {
   "cell_type": "markdown",
   "id": "d33bb1dd-03e8-438c-9b08-92223bf515c1",
   "metadata": {},
   "source": [
    "Key framing defines the main frames after that the automated software generates the intermediate frames.\n",
    "\n",
    "![](figs/324.PNG) \n",
    "\n",
    "![](figs/325.PNG) \n",
    "\n",
    "Physically based models like water fall uses rules of physics. It is not like a typical polygon model.\n",
    "\n",
    "![](figs/326.PNG) \n"
   ]
  },
  {
   "cell_type": "markdown",
   "id": "50d7a7e5-3480-4722-8094-c88c337782ff",
   "metadata": {},
   "source": [
    "# End of lecture!"
   ]
  }
 ],
 "metadata": {
  "kernelspec": {
   "display_name": "Python 3",
   "language": "python",
   "name": "python3"
  },
  "language_info": {
   "codemirror_mode": {
    "name": "ipython",
    "version": 3
   },
   "file_extension": ".py",
   "mimetype": "text/x-python",
   "name": "python",
   "nbconvert_exporter": "python",
   "pygments_lexer": "ipython3",
   "version": "3.8.8"
  }
 },
 "nbformat": 4,
 "nbformat_minor": 5
}
