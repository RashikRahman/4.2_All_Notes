{
 "cells": [
  {
   "cell_type": "markdown",
   "metadata": {},
   "source": [
    "<div class=\"alert alert-success\">\n",
    "    <b>Author</b>:\n",
    "\n",
    "      Rashik Rahman\n",
    "      17201012@uap-bd.edu\n",
    "\n",
    "</div>\n",
    "\n",
    "**[Click here to see class lecture](https://drive.google.com/file/d/1bBuZujc7ii-vb10aXxEKuLVjfRbovzr3/view)**\n"
   ]
  },
  {
   "cell_type": "markdown",
   "metadata": {},
   "source": [
    "# Intro to CG"
   ]
  },
  {
   "cell_type": "markdown",
   "metadata": {},
   "source": [
    "First to work with graphics not only maths calculation but also input & outputs. So he's father of CG.\n",
    "\n",
    "![](figs/11.png)\n",
    "\n",
    "Light is project on the object from camera this technique is called ray tracing. Here camera means humar perception.\n",
    "\n",
    "![](figs/12.png)\n",
    "\n",
    "![](figs/13.png)\n",
    "\n",
    "![](figs/14.png)\n",
    "\n",
    "![](figs/15.png)\n",
    "\n",
    "![](figs/16.png)"
   ]
  },
  {
   "cell_type": "markdown",
   "metadata": {},
   "source": [
    "Inputs can be used to interact with or to create graphics. Like camera input of signals can be visualized as line charts. Thats creating graphics from signals which were taken from camera or sensors.\n",
    "\n",
    "![](figs/17.png)\n",
    "\n",
    "![](figs/18.png)\n",
    "\n",
    "![](figs/19.png)\n",
    "\n",
    "![](figs/20.png)\n",
    "\n",
    "![](figs/21.png)\n",
    "\n",
    "![](figs/22.png)\n",
    "\n",
    "First element of modeling is geometry. Geometry defines the shape of object. Ligitng effect, shadows and animation can be done with help of physics.Rendering generates outputs.\n",
    "\n",
    "![](figs/23.png)\n",
    "\n",
    "This fake image is generated with billions of triangle.\n",
    "\n",
    "![](figs/24.png)"
   ]
  },
  {
   "cell_type": "markdown",
   "metadata": {},
   "source": [
    "# Programming with OpenGL"
   ]
  },
  {
   "cell_type": "markdown",
   "metadata": {},
   "source": [
    "![](figs/25.PNG)\n",
    "\n",
    "![](figs/26.PNG)\n",
    "\n",
    "![](figs/27.PNG)\n",
    "\n",
    "![](figs/28.PNG)\n",
    "\n",
    "![](figs/29.PNG)"
   ]
  },
  {
   "cell_type": "markdown",
   "metadata": {},
   "source": [
    "\n",
    "![](figs/30.PNG)\n",
    "\n",
    "![](figs/31.PNG)\n",
    "\n",
    "![](figs/32.PNG)\n",
    "\n",
    "Can draw using primitives, change color etc with attributes, transformation like rotate etc,viewing related to camera angle.\n",
    "\n",
    "![](figs/33.PNG)\n",
    "\n",
    "OpenGL is a state machine cause in each forwarding step it checks its changes.\n",
    "\n",
    "![](figs/34.PNG)\n",
    "\n",
    "![](figs/35.PNG)"
   ]
  },
  {
   "cell_type": "markdown",
   "metadata": {},
   "source": [
    "# Code"
   ]
  },
  {
   "cell_type": "markdown",
   "metadata": {},
   "source": [
    "Case sensitive functions and constants name.\n",
    "\n",
    "![](figs/36.PNG)\n",
    "\n",
    "![](figs/37.PNG)\n",
    "\n",
    "![](figs/38.PNG)\n",
    "\n",
    "![](figs/39.PNG)\n",
    "\n",
    "here glClear is to clear frame bufferm glBegin and glEnd is to define an object to draw, lines within these two parameters are drawn. GL_QUAD means a rect box will be drawn whose coordinates are given by glVertex2f, 4 sets of values represent 4 corners of the box. glutCreatewindow takes title name of the window and glutDisplayFunc takes the function to draw in the output window. glutMainLoop is responsible for refreshing frame buffer.\n",
    "\n",
    "\n",
    "\n",
    "![](figs/40.PNG)"
   ]
  },
  {
   "cell_type": "code",
   "execution_count": 1,
   "metadata": {},
   "outputs": [],
   "source": [
    "import numpy as np\n",
    "import cv2"
   ]
  },
  {
   "cell_type": "code",
   "execution_count": 2,
   "metadata": {},
   "outputs": [
    {
     "data": {
      "text/plain": [
       "(300, 300)"
      ]
     },
     "execution_count": 2,
     "metadata": {},
     "output_type": "execute_result"
    }
   ],
   "source": [
    "matrix = np.zeros(90000).reshape(300,300)\n",
    "matrix.shape"
   ]
  },
  {
   "cell_type": "code",
   "execution_count": 3,
   "metadata": {},
   "outputs": [
    {
     "data": {
      "text/plain": [
       "-1"
      ]
     },
     "execution_count": 3,
     "metadata": {},
     "output_type": "execute_result"
    }
   ],
   "source": [
    "cv2.imshow('img',matrix)\n",
    "cv2.waitKey(0)"
   ]
  },
  {
   "cell_type": "code",
   "execution_count": 4,
   "metadata": {},
   "outputs": [],
   "source": [
    "start = [100,100]\n",
    "end = [200,200]\n",
    "\n",
    "for row in range(start[0],end[0]):\n",
    "    for col in range(start[1],end[1]):\n",
    "        matrix[row][col] = 255\n",
    "        cv2.imshow('img',matrix)\n",
    "        cv2.waitKey(1)\n",
    "#         time.sleep(0.05)\n",
    "    "
   ]
  }
 ],
 "metadata": {
  "kernelspec": {
   "display_name": "Python 3",
   "language": "python",
   "name": "python3"
  },
  "language_info": {
   "codemirror_mode": {
    "name": "ipython",
    "version": 3
   },
   "file_extension": ".py",
   "mimetype": "text/x-python",
   "name": "python",
   "nbconvert_exporter": "python",
   "pygments_lexer": "ipython3",
   "version": "3.8.8"
  }
 },
 "nbformat": 4,
 "nbformat_minor": 4
}
