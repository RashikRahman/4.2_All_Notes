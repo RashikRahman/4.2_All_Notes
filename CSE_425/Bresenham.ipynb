{
 "cells": [
  {
   "cell_type": "markdown",
   "metadata": {
    "id": "hGTD-4pCIIZ3"
   },
   "source": [
    "# Line"
   ]
  },
  {
   "cell_type": "code",
   "execution_count": 133,
   "metadata": {},
   "outputs": [
    {
     "name": "stdin",
     "output_type": "stream",
     "text": [
      "Enter coordinates of point_1:  10 10\n",
      "Enter coordinates of point_N:  20 20\n",
      "iterations 5\n"
     ]
    },
    {
     "name": "stdout",
     "output_type": "stream",
     "text": [
      "\n",
      "Considering P10 as starting point\n",
      "a =  delY = y2 - y1 = 10 \n",
      "b =  -delX = -(x2 - x1) = -10\n",
      "d0 = a * 2  + b = 10\n",
      "\n",
      "Updated co-ordinates : P2(11,11)\n",
      "As d0>= 0 so will fall into NE\n",
      "d1 = d0 + deldNE\n",
      "d1 = d0 + 2*10 - 2 * 10 = 10\n",
      "\n",
      "Updated co-ordinates : P3(12,12)\n",
      "As d1>= 0 so will fall into NE\n",
      "d2 = d1 + deldNE\n",
      "d2 = d1 + 2*10 - 2 * 10 = 10\n",
      "\n",
      "Updated co-ordinates : P4(13,13)\n",
      "As d2>= 0 so will fall into NE\n",
      "d3 = d2 + deldNE\n",
      "d3 = d2 + 2*10 - 2 * 10 = 10\n",
      "\n",
      "Updated co-ordinates : P5(14,14)\n",
      "As d3>= 0 so will fall into NE\n",
      "d4 = d3 + deldNE\n",
      "d4 = d3 + 2*10 - 2 * 10 = 10\n",
      "\n",
      "Updated co-ordinates : P6(15,15)\n",
      "As d4>= 0 so will fall into NE\n",
      "d5 = d4 + deldNE\n",
      "d5 = d4 + 2*10 - 2 * 10 = 10\n",
      "\n"
     ]
    }
   ],
   "source": [
    "p1 = list (map(int,input('Enter coordinates of point_1: ').strip().split()))\n",
    "pn = list (map(int,input('Enter coordinates of point_N: ').strip().split()))\n",
    "itr = int(input('iterations'))\n",
    "print()\n",
    "print('Considering P{} as starting point'.format(p1[0],p1[1]))\n",
    "a = pn[1]-p1[1]\n",
    "b = pn[0]-p1[0]\n",
    "print(\"a =  delY = y2 - y1 = {} \\nb =  -delX = -(x2 - x1) = -{}\".format(a,b))\n",
    "d = 2*a+(-b)\n",
    "t=0\n",
    "print (\"d\"+str(t)+\" = a * 2  + b = \" + str(d))\n",
    "t+=1\n",
    "\n",
    "p = [p1[0], p1[1]]\n",
    "print()\n",
    "\n",
    "for i in range(itr):\n",
    "\n",
    "    if d >= 0:\n",
    "        p = [p[0]+1, p[1]+1]\n",
    "#         a = pn[1]-p[1]\n",
    "#         b = pn[0]-p[0]\n",
    "        print (\"Updated co-ordinates : P{}({},{})\".format(t+1,p[0],p[1]))\n",
    "        print(\"As d{}>= 0 so will fall into NE\\nd\".format(t-1)+str(t)+ \" = d{} + deldNE\".format(t-1))\n",
    "        d = d + 2*a-2*b\n",
    "        print(\"d{} = d{} + 2*{} - 2 * {} = {}\".format(t,t-1,a,b,d))\n",
    "\n",
    "        t+=1\n",
    "        print()\n",
    "\n",
    "    else :\n",
    "        p = [p[0]+1, p[1]]\n",
    "#         a = pn[1]-p[1]\n",
    "#         b = pn[0]-p[0]\n",
    "        print (\"Updated co-ordinates : P{}({},{})\".format(t+1,p[0],p[1]))\n",
    "        print(\"As d{}< 0 so will fall into E\\nd\".format(t-1)+str(t)+ \" = d\"+str(t-1) + \" + deldE\")\n",
    "        d = d + 2 * a - 2 * (b)\n",
    "        print(\"d{} = d{} + 2*{} - 2 * {} = {}\".format(t,t-1,a,b,d))\n",
    "\n",
    "        t+=1\n",
    "        print()"
   ]
  },
  {
   "cell_type": "markdown",
   "metadata": {},
   "source": [
    "# Circle"
   ]
  },
  {
   "cell_type": "code",
   "execution_count": 1,
   "metadata": {},
   "outputs": [
    {
     "name": "stdin",
     "output_type": "stream",
     "text": [
      "Give radius:  10\n",
      "Give iteration:  5\n"
     ]
    },
    {
     "name": "stdout",
     "output_type": "stream",
     "text": [
      "\n",
      "Considering P1(0,10) as starting point\n",
      "d0 = 1-r = 1-10 = -9\n",
      "\n",
      "Updated co-ordinates : P2(1,10)\n",
      "As d0< 0 so will fall into E\n",
      "d1 = d0 + deldE\n",
      "d1 = d0 + 2*1 +3 = -4\n",
      "\n",
      "Updated co-ordinates : P3(2,10)\n",
      "As d1< 0 so will fall into E\n",
      "d2 = d1 + deldE\n",
      "d2 = d1 + 2*2 +3 = 3\n",
      "\n",
      "Updated co-ordinates : P4(3,9)\n",
      "As d2>= 0 so will fall into SE\n",
      "d3 = d2 + deldSE\n",
      "d3 = d2 + 2*(3-9) +5 = -4\n",
      "\n",
      "Updated co-ordinates : P5(4,9)\n",
      "As d3< 0 so will fall into E\n",
      "d4 = d3 + deldE\n",
      "d4 = d3 + 2*4 +3 = 7\n",
      "\n",
      "Updated co-ordinates : P6(5,8)\n",
      "As d4>= 0 so will fall into SE\n",
      "d5 = d4 + deldSE\n",
      "d5 = d4 + 2*(5-8) +5 = 6\n",
      "\n"
     ]
    }
   ],
   "source": [
    "r = int(input('Give radius: '))\n",
    "itr = int(input('Give iteration: '))\n",
    "p = [0,r]\n",
    "print()\n",
    "print('Considering P1({},{}) as starting point'.format(0,r))\n",
    "d = 1-r\n",
    "t=0\n",
    "print (\"d\"+str(t)+\" = 1-r = 1-{} = \".format(r) + str(d))\n",
    "t+=1\n",
    "print()\n",
    "for i in range(itr):\n",
    "    if d < 0:\n",
    "            p = [p[0]+1, p[1]]\n",
    "            print (\"Updated co-ordinates : P{}({},{})\".format(t+1,p[0],p[1]))\n",
    "            print(\"As d{}< 0 so will fall into E\\nd\".format(t-1)+str(t)+ \" = d{} + deldE\".format(t-1))\n",
    "            d = d + 2*p[0]+3\n",
    "            print(\"d{} = d{} + 2*{} +3 = {}\".format(t,t-1,p[0],d))\n",
    "\n",
    "            t+=1\n",
    "            print()\n",
    "\n",
    "    else:\n",
    "            p = [p[0]+1, p[1]-1]\n",
    "            print (\"Updated co-ordinates : P{}({},{})\".format(t+1,p[0],p[1]))\n",
    "            print(\"As d{}>= 0 so will fall into SE\\nd\".format(t-1)+str(t)+ \" = d{} + deldSE\".format(t-1))\n",
    "            d = d + 2*(p[0]-p[1])+5\n",
    "            print(\"d{} = d{} + 2*({}-{}) +5 = {}\".format(t,t-1,p[0],p[1],d))\n",
    "\n",
    "            t+=1\n",
    "            print()"
   ]
  },
  {
   "cell_type": "code",
   "execution_count": null,
   "metadata": {},
   "outputs": [],
   "source": []
  }
 ],
 "metadata": {
  "colab": {
   "name": "Untitled0.ipynb",
   "provenance": []
  },
  "kernelspec": {
   "display_name": "Python 3",
   "language": "python",
   "name": "python3"
  },
  "language_info": {
   "codemirror_mode": {
    "name": "ipython",
    "version": 3
   },
   "file_extension": ".py",
   "mimetype": "text/x-python",
   "name": "python",
   "nbconvert_exporter": "python",
   "pygments_lexer": "ipython3",
   "version": "3.8.8"
  }
 },
 "nbformat": 4,
 "nbformat_minor": 4
}
