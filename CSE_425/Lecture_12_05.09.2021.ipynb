{
 "cells": [
  {
   "cell_type": "markdown",
   "id": "943086de-4e3a-4103-8176-014165675e10",
   "metadata": {},
   "source": [
    "<div class=\"alert alert-success\">\n",
    "    <b>Author</b>:\n",
    "\n",
    "      Rashik Rahman\n",
    "      17201012@uap-bd.edu\n",
    "\n",
    "</div>\n",
    "\n",
    "**[Click here to see class lecture](https://drive.google.com/file/d/1fO8F6gNhGW-NM96HPrfyDrHb0P4x8iT3/view)**\n",
    "\n"
   ]
  },
  {
   "cell_type": "markdown",
   "id": "d3e2fc4b-6246-4ee8-bb3b-05d24425139a",
   "metadata": {},
   "source": [
    "![](figs/180.PNG)\n",
    "\n",
    "Perspective vision is how human sees things, like a football near you and another one far from you though the size of the football is same near one will look big compared to distance one. camera transformation is a part of 3D rendering/graphics pipeline. We'll see steps of camera tansformation later.\n",
    "\n",
    "![](figs/181.PNG)\n",
    "\n",
    "![](figs/182.PNG)\n",
    "\n",
    "![](figs/183.PNG)\n",
    "\n",
    "![](figs/184.PNG)"
   ]
  },
  {
   "cell_type": "markdown",
   "id": "a176c1e4-7d6a-4195-aa4e-3522724103a9",
   "metadata": {},
   "source": [
    "Homogeneous is used for perspective projection. Perspective view is only for 3D thus we'll only see homogeneous coordinates for 3D objects.\n",
    "\n",
    "![](figs/185.PNG)\n",
    "\n",
    "W is 90* with respect to x,y,z. In real world W's value is always one.\n",
    "\n",
    "![](figs/186.PNG)\n",
    "\n",
    "If we change w where w>1, then a point p will be projected as p' on w=1 line. Now we need to find x',y',z' and w is 1 for p'.  As point p' is on w=1.\n",
    "\n",
    "![](figs/187.PNG)\n",
    "\n",
    "here when we divide x,y,z,w with w we get x/w, y/w, z/w, w/w=1.\n",
    "\n",
    "![](figs/188.PNG)\n",
    "\n",
    "In 4D their line L! and L2 were of same size but when converted to 3D the ratio changes. L1 has L11 and L12 and L2 has L21 and L22, in L1 w=5 and in L2 w=10 thus we get different value in 3D project for same lines.\n",
    "\n",
    "![](figs/189.PNG)\n",
    "\n",
    "\n"
   ]
  },
  {
   "cell_type": "markdown",
   "id": "9404e0f4-2b42-4c8e-af79-39ef4746d85d",
   "metadata": {},
   "source": [
    "# End of lecture!"
   ]
  }
 ],
 "metadata": {
  "kernelspec": {
   "display_name": "Python 3",
   "language": "python",
   "name": "python3"
  },
  "language_info": {
   "codemirror_mode": {
    "name": "ipython",
    "version": 3
   },
   "file_extension": ".py",
   "mimetype": "text/x-python",
   "name": "python",
   "nbconvert_exporter": "python",
   "pygments_lexer": "ipython3",
   "version": "3.8.8"
  }
 },
 "nbformat": 4,
 "nbformat_minor": 5
}
