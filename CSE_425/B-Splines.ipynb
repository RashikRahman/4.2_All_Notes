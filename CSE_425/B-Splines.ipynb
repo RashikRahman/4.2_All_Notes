{
 "cells": [
  {
   "cell_type": "code",
   "execution_count": 1,
   "id": "e9c540b6-768e-4f36-9c00-35abc2c652ec",
   "metadata": {},
   "outputs": [
    {
     "name": "stdin",
     "output_type": "stream",
     "text": [
      "Enter coordinates of point_1:  4 6\n",
      "Enter coordinates of point_2:  6 15\n",
      "Enter coordinates of point_3:  16 18\n",
      "Enter coordinates of point_4:  17 9\n"
     ]
    }
   ],
   "source": [
    "p1 = list (map(int,input('Enter coordinates of point_1: ').strip().split()))\n",
    "p2 = list (map(int,input('Enter coordinates of point_2: ').strip().split()))\n",
    "p3 = list (map(int,input('Enter coordinates of point_3: ').strip().split()))\n",
    "p4 = list (map(int,input('Enter coordinates of point_4: ').strip().split()))"
   ]
  },
  {
   "cell_type": "code",
   "execution_count": 26,
   "id": "98e9d6e6-04e1-4e92-833a-a4aa1b4ed649",
   "metadata": {},
   "outputs": [
    {
     "data": {
      "text/plain": [
       "1.1249999999999998"
      ]
     },
     "execution_count": 26,
     "metadata": {},
     "output_type": "execute_result"
    }
   ],
   "source": [
    "(((1-t)**3)/6)  +  ((3*t**2 - 6*t**2 + 4)/6) + ((-3*t**2+3*t+3*t+1)/6) + (t**3/6)"
   ]
  },
  {
   "cell_type": "code",
   "execution_count": 24,
   "id": "4331b22e-7b55-4cdb-978c-f4a4968fa815",
   "metadata": {},
   "outputs": [
    {
     "name": "stdout",
     "output_type": "stream",
     "text": [
      "We know, \n",
      "Quadratic equation for b-splines, Q(t)= (((1-t)^3)/6)*p1  +  ((3*t^2 - 6*t^2 + 4)/6)*p2 + ((-3*t^2+3*t+3t+1)/6)*p3 + (t^3/6)p4\n",
      "Q(x,y) = 26.833333333333336,-49.0\n"
     ]
    }
   ],
   "source": [
    "t = 3\n",
    "print('We know, \\nQuadratic equation for b-splines, Q(t)= (((1-t)^3)/6)*p1  +  ((3*t^2 - 6*t^2 + 4)/6)*p2 + ((-3*t^2+3*t+3t+1)/6)*p3 + (t^3/6)p4')\n",
    "Qx = (((1-t)**3)/6)*p1[0]  +  ((3*t**2 - 6*t**2 + 4)/6)*p2[0] + ((-3*t**2+3*t+3*t+1)/6)*p3[0] + (t**3/6)*p4[0]\n",
    "Qy = (((1-t)**3)/6)*p1[1]  +  ((3*t**2 - 6*t**2 + 4)/6)*p2[1] + ((-3*t**2+3*t+3*t+1)/6)*p3[1] + (t**3/6)*p4[1]\n",
    "print('Q(x,y) = {},{}'.format(Qx, Qy)) "
   ]
  },
  {
   "cell_type": "code",
   "execution_count": 25,
   "id": "7545885c-7ee0-481f-a8ce-a9baba7cc96f",
   "metadata": {},
   "outputs": [
    {
     "name": "stdout",
     "output_type": "stream",
     "text": [
      "We know, \n",
      "Cubic equation for b-splines, P= (1-t)**3*p1 + 3*t*(1-t)**2*p2 + 3*t**2*(1-t)*p3 + t**3*p4\n",
      "P(x,y) = 10.875,14.25\n"
     ]
    }
   ],
   "source": [
    "t = 0.5\n",
    "print('We know, \\nCubic equation for b-splines, P= (1-t)**3*p1 + 3*t*(1-t)**2*p2 + 3*t**2*(1-t)*p3 + t**3*p4')\n",
    "Px = (1-t)**3*p1[0] + 3*t*(1-t)**2*p2[0] + 3*t**2*(1-t)*p3[0] + t**3*p4[0]\n",
    "Py = (1-t)**3*p1[1]  + 3*t*(1-t)**2*p2[1] + 3*t**2*(1-t)*p3[1] + t**3*p4[1]\n",
    "print('P(x,y) = {},{}'.format(Px, Py)) "
   ]
  }
 ],
 "metadata": {
  "kernelspec": {
   "display_name": "Python 3",
   "language": "python",
   "name": "python3"
  },
  "language_info": {
   "codemirror_mode": {
    "name": "ipython",
    "version": 3
   },
   "file_extension": ".py",
   "mimetype": "text/x-python",
   "name": "python",
   "nbconvert_exporter": "python",
   "pygments_lexer": "ipython3",
   "version": "3.8.8"
  }
 },
 "nbformat": 4,
 "nbformat_minor": 5
}
