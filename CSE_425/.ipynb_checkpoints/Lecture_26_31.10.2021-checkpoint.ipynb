{
 "cells": [
  {
   "cell_type": "markdown",
   "id": "e1e0fd7b-3692-4f33-9a5d-7a870f181800",
   "metadata": {},
   "source": [
    "<div class=\"alert alert-success\">\n",
    "    <b>Author</b>:\n",
    "\n",
    "      Rashik Rahman\n",
    "      17201012@uap-bd.edu\n",
    "\n",
    "</div>\n",
    "\n",
    "**[Click here to see class lecture](https://drive.google.com/file/d/1-T0EmRNDfq6S8MHt4a6mFe9iM2EZTbVd/view?usp=drivesdk)**\n"
   ]
  },
  {
   "cell_type": "code",
   "execution_count": null,
   "id": "878fd24c-f567-48fe-ba90-b608e57af177",
   "metadata": {},
   "outputs": [],
   "source": []
  }
 ],
 "metadata": {
  "kernelspec": {
   "display_name": "Python 3",
   "language": "python",
   "name": "python3"
  },
  "language_info": {
   "codemirror_mode": {
    "name": "ipython",
    "version": 3
   },
   "file_extension": ".py",
   "mimetype": "text/x-python",
   "name": "python",
   "nbconvert_exporter": "python",
   "pygments_lexer": "ipython3",
   "version": "3.8.8"
  }
 },
 "nbformat": 4,
 "nbformat_minor": 5
}
