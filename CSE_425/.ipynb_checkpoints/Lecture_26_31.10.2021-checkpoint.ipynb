{
 "cells": [
  {
   "cell_type": "markdown",
   "id": "e1e0fd7b-3692-4f33-9a5d-7a870f181800",
   "metadata": {},
   "source": [
    "<div class=\"alert alert-success\">\n",
    "    <b>Author</b>:\n",
    "\n",
    "      Rashik Rahman\n",
    "      17201012@uap-bd.edu\n",
    "\n",
    "</div>\n",
    "\n",
    "**[Click here to see class lecture](https://drive.google.com/file/d/1-T0EmRNDfq6S8MHt4a6mFe9iM2EZTbVd/view?usp=drivesdk)**\n"
   ]
  },
  {
   "cell_type": "markdown",
   "id": "b8b20489-c622-43be-ba6c-fc9aa3f04716",
   "metadata": {},
   "source": [
    "When iteration of p reaches p2 where px is close to p2x or py is close to p2y then the loop stops. In xm iteration no. will be mentioned in q.\n",
    "\n",
    "**For Line**\n",
    "\n",
    "![](figs/394.PNG)\n",
    "\n",
    "**For circle**\n",
    "\n",
    "![](figs/395.PNG)\n",
    "\n",
    "![](figs/396.PNG)\n",
    "\n",
    "Q can come like using bresenham calculate 4 pixel values and then using the last calculated pixel determine the 7 pixels in circle symmetry.\n",
    "\n",
    "![](figs/397.PNG)\n",
    "\n",
    "**Corner case is if the center of the circle is not in 0,0 then the eqn changes slightly for deltaE and deltaSE**\n",
    "\n",
    "![](figs/398.PNG)\n",
    "\n",
    "![](figs/399.PNG)\n",
    "\n"
   ]
  },
  {
   "cell_type": "markdown",
   "id": "dd11515b-9b59-46ef-9ce2-e44b9f1626fa",
   "metadata": {},
   "source": [
    "# End of lecture!"
   ]
  }
 ],
 "metadata": {
  "kernelspec": {
   "display_name": "Python 3",
   "language": "python",
   "name": "python3"
  },
  "language_info": {
   "codemirror_mode": {
    "name": "ipython",
    "version": 3
   },
   "file_extension": ".py",
   "mimetype": "text/x-python",
   "name": "python",
   "nbconvert_exporter": "python",
   "pygments_lexer": "ipython3",
   "version": "3.8.8"
  }
 },
 "nbformat": 4,
 "nbformat_minor": 5
}
