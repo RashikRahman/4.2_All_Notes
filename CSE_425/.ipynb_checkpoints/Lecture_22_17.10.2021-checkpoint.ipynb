{
 "cells": [
  {
   "cell_type": "markdown",
   "id": "122d0548-d8b2-4d1a-841f-b9e63c0b6502",
   "metadata": {},
   "source": [
    "<div class=\"alert alert-success\">\n",
    "    <b>Author</b>:\n",
    "\n",
    "      Rashik Rahman\n",
    "      17201012@uap-bd.edu\n",
    "\n",
    "</div>\n",
    "\n",
    "**[Click here to see class lecture](https://drive.google.com/file/d/1kw4uyzRBdcwTtPslZ1Etsss6cFZKl1Uv/view)**\n",
    "\n"
   ]
  },
  {
   "cell_type": "code",
   "execution_count": 1,
   "id": "164712e2-48b4-4751-8d87-b0b6841357d2",
   "metadata": {},
   "outputs": [
    {
     "data": {
      "text/html": [
       "\n",
       "<iframe src=\"https://drive.google.com/file/d/1kw4uyzRBdcwTtPslZ1Etsss6cFZKl1Uv/preview\" width=\"640\" height=\"480\" allow=\"autoplay\"></iframe>\n"
      ],
      "text/plain": [
       "<IPython.core.display.HTML object>"
      ]
     },
     "metadata": {},
     "output_type": "display_data"
    }
   ],
   "source": [
    "%%html\n",
    "\n",
    "<iframe src=\"https://drive.google.com/file/d/1kw4uyzRBdcwTtPslZ1Etsss6cFZKl1Uv/preview\" width=\"640\" height=\"480\" allow=\"autoplay\"></iframe>"
   ]
  },
  {
   "cell_type": "markdown",
   "id": "ce7c7ab7-b017-405f-87ae-e633084d961f",
   "metadata": {},
   "source": [
    "![](figs/327.PNG)\n",
    "\n",
    "Basic things to specify a 3D object. Geometry can be wireframe, material can be texture, behaviour is defined by materials property.\n",
    "\n",
    "![](figs/328.PNG)\n",
    "\n",
    "![](figs/329.PNG)\n",
    "\n",
    "b-reps is like wireframe and voxel is a 3D model which can do volumetric representation. Smallest unit to represent a 2D image is pixel and smallest unit to represent 3D object or volume is called voxel.\n",
    "\n",
    "![](figs/330.PNG)\n",
    "\n",
    "![](figs/331.PNG)\n",
    "\n",
    "![](figs/332.PNG)\n",
    "\n",
    "![](figs/333.PNG)\n",
    "\n",
    "Equation for sphere. When x,y,z value falls on the edge of sphere then we can use different color for it. If r falls on the surface then r value is called iso-value and the surface is called iso-surface.\n",
    "\n",
    "![](figs/334.PNG)\n"
   ]
  },
  {
   "cell_type": "markdown",
   "id": "560e181a-a718-4ec8-9420-5ce6d333e75d",
   "metadata": {},
   "source": [
    "\n",
    "We can use some operation to make shapes.\n",
    "\n",
    "![](figs/335.PNG)\n",
    "\n",
    "![](figs/336.PNG)\n",
    "\n",
    "![](figs/337.PNG)\n",
    "\n",
    "We divide the cells and get rid of pixels that are not being used. Blue is used to indicated those pixels.\n",
    "\n",
    "![](figs/338.PNG)"
   ]
  },
  {
   "cell_type": "markdown",
   "id": "219e713f-e8e3-4096-a88d-f8b513ebdc03",
   "metadata": {},
   "source": [
    "\n",
    "\n",
    "![](figs/339.PNG)\n",
    "\n",
    "![](figs/340.PNG)\n",
    "\n",
    "![](figs/341.PNG)\n",
    "\n",
    "2D texture image holds color info of the object. And each pixel of this texture image is called texel.\n",
    "\n",
    "![](figs/342.PNG)\n",
    "\n",
    "![](figs/343.PNG)\n",
    "\n",
    "u,v is position of a texel where u is on x axis and v is on y axis.\n",
    "\n",
    "![](figs/344.PNG)\n",
    "\n",
    "![](figs/345.PNG)\n",
    "\n",
    "![](figs/346.PNG)"
   ]
  },
  {
   "cell_type": "markdown",
   "id": "9b063649-2ba8-449b-9f86-44cded366090",
   "metadata": {},
   "source": [
    "# End of lecture!"
   ]
  }
 ],
 "metadata": {
  "kernelspec": {
   "display_name": "Python 3",
   "language": "python",
   "name": "python3"
  },
  "language_info": {
   "codemirror_mode": {
    "name": "ipython",
    "version": 3
   },
   "file_extension": ".py",
   "mimetype": "text/x-python",
   "name": "python",
   "nbconvert_exporter": "python",
   "pygments_lexer": "ipython3",
   "version": "3.8.8"
  }
 },
 "nbformat": 4,
 "nbformat_minor": 5
}
