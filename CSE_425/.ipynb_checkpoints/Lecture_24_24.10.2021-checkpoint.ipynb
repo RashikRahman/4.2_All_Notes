{
 "cells": [
  {
   "cell_type": "markdown",
   "id": "920e2777-4db8-48ce-9acc-2ab47d722ab0",
   "metadata": {},
   "source": [
    "<div class=\"alert alert-success\">\n",
    "    <b>Author</b>:\n",
    "\n",
    "      Rashik Rahman\n",
    "      17201012@uap-bd.edu\n",
    "\n",
    "</div>\n",
    "\n",
    "**[Click here to see class lecture](https://drive.google.com/file/d/1nCutZ8kWOkLaPmcT-4g1KxVDvwwWe-ry/view?usp=drivesdk)**\n"
   ]
  },
  {
   "cell_type": "markdown",
   "id": "9a84f002-8146-4624-bc5b-729a8db1ab33",
   "metadata": {},
   "source": [
    "![](figs/347.PNG)\n",
    "\n",
    "![](figs/349.PNG)\n",
    "\n",
    "We initialize all the input motion and position in motion space. \n",
    "\n",
    "![](figs/348.PNG)\n",
    "\n",
    "Considering input motion as M0 and modified or systhesizd motion of M0 which are M1,M2,M3,M4 all of these are stored in motion space. As doing backflip depending on the force the positioning of backflip can be different thus all of these are stored in motion space to make the simulation more realistic.\n",
    "\n",
    "![](figs/350.PNG)\n",
    "\n",
    "The body is divided in segments and has some movement restriction like we cant rotate hand backward  or rotate head etc. Also their would be a hierarchy of movement like considering finger, hand and arm the hierarchy is like arm>hand>finger as moving arm moves all lower then it, moving a hand moves finger and moving finger moves nothing thus its at the lowest in the hierarchy.\n",
    "\n",
    "![](figs/351.PNG)\n",
    "\n",
    "So controlling these body parts movement is called rigging.\n",
    "\n",
    "![](figs/352.PNG)\n",
    "\n",
    "In forward kinematics we get location from joint angles of the body and in inverse kinematics we get body parts joint angles from given location/position of body/skeleton. These two are part of rigging.\n",
    "\n",
    "![](figs/353.PNG)\n",
    "\n",
    "Each vertex of the of the skin is assigned to a point of a bone or the bone. So moving the bone moves the character. This is how characters are animated.\n",
    "\n",
    "![](figs/354.PNG)\n",
    "\n",
    "![](figs/355.PNG)\n"
   ]
  },
  {
   "cell_type": "markdown",
   "id": "1fe61e46-a0b2-4032-9890-e7da62c008ac",
   "metadata": {},
   "source": [
    "\n",
    "\n",
    "![](figs/356.PNG)\n",
    "\n",
    "![](figs/357.PNG)\n",
    "\n",
    "![](figs/358.PNG)\n",
    "\n",
    "![](figs/359.PNG)"
   ]
  },
  {
   "cell_type": "markdown",
   "id": "e1b555be-2921-4adc-90fd-7d63263da789",
   "metadata": {},
   "source": [
    "Pixel are represented using squares. So these are called square pixel. Left is square pixel representation right is dot pixel representation and we'll study about dot pixel representation.\n",
    "\n",
    "![](figs/360.PNG)\n",
    "\n",
    "The process of turning on a pixel or coloring a pixel is called scan conversion.\n",
    "\n",
    "![](figs/361.PNG)\n",
    "\n",
    "![](figs/362.PNG)\n",
    "\n",
    "Implicit eqn helps to define if a point is above, outside or inside a surface. Thus helps scan conversion.\n",
    "\n",
    "![](figs/363.PNG)\n",
    "\n",
    "For as m is a division value so there can be floating value which is not good for pixel as pixels are int value this will result in accuracy loss. Multiplication will hamper efficiency. If y is floating point then we have to round it to int as pixels are in int. This hampers quality. Vertical line can't be drawn using this eqn so some pixel will be missing. \n",
    "\n",
    "![](figs/364.PNG)\n",
    "\n",
    "For a line which pixel should be turned on? There's a pixel above and below the line. This decision can be made using implicit eqn. We need to know which pixel is closest to the line. To find the closest pixel to the line we use implicit eqn. \n",
    "\n",
    "![](figs/365.PNG)\n",
    "\n",
    "To use this eqn we need to know value of a,b and c. Line will be drawn using two points p1(x,y) and p2(x,y). And using p1 and p2 we can find deltaX and deltaY.\n",
    "\n",
    "![](figs/366.PNG)\n",
    "\n",
    "![](figs/370.PNG)"
   ]
  },
  {
   "cell_type": "markdown",
   "id": "f6b68cca-e91e-4ca5-b03b-0b892ef8a1a0",
   "metadata": {},
   "source": [
    "\n",
    "![](figs/367.PNG)\n",
    "\n",
    "![](figs/368.PNG)\n",
    "\n",
    "Starting pixel p is on the line for this $ax+bx+c=0$. Distance between all pixels are same like distance between p and e and p and q are same it can be 1. Thus Ex would be px+1 and Ey would be py as both pixel are in same hieght. NEx would be px+1 and NEy would be py+1. So from a starting pixel we can get any pixel's coordinate value. We get this benifit for equal distance grid.\n",
    "\n",
    "![](figs/369.PNG)\n",
    "\n",
    "If starting pixel is P then next pixel to turn on for the line is NE and E. We have to choose which pixel is nearest to the line. Here first we find the intersection point between line and the grid which is X. Now calculate distances between NE and X also E and X. Which distance is smaller that pixel will be turned on. But drawback of this algo is to find distance we use euclidean distance which incorporates square and root operation. This makes the whole rendering process slow.\n",
    "\n",
    "![](figs/371.PNG)\n",
    "\n",
    "How to improve it? We can find midpoint M which is relativly easy and inexpensive. After finding M we can use its coordinate to find F(M) using Mx and My also need to find a,b for it and c maybe any constant. \n",
    "\n",
    "![](figs/372.PNG)\n",
    "\n",
    "Now if F(M)<0 that means midpoint is above line this results in the line is closer to E. And if F(M) >=0 then midpoint below line thus line is closer to NE. So F(M) is a decision variable b. Optimization is we consider multiple d. We'll se this in next lecture.\n",
    "\n",
    "![](figs/373.PNG)"
   ]
  },
  {
   "cell_type": "markdown",
   "id": "bc817b2a-6a76-491d-9e91-1a8a8d58084f",
   "metadata": {},
   "source": [
    "# End of lecture!"
   ]
  }
 ],
 "metadata": {
  "kernelspec": {
   "display_name": "Python 3",
   "language": "python",
   "name": "python3"
  },
  "language_info": {
   "codemirror_mode": {
    "name": "ipython",
    "version": 3
   },
   "file_extension": ".py",
   "mimetype": "text/x-python",
   "name": "python",
   "nbconvert_exporter": "python",
   "pygments_lexer": "ipython3",
   "version": "3.8.8"
  }
 },
 "nbformat": 4,
 "nbformat_minor": 5
}
