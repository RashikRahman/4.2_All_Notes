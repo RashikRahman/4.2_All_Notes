{
 "cells": [
  {
   "cell_type": "markdown",
   "id": "a2279f31-70e8-4eb1-a212-12b43f0dc0f2",
   "metadata": {},
   "source": [
    "<div class=\"alert alert-success\">\n",
    "    <b>Author</b>:\n",
    "\n",
    "      Rashik Rahman\n",
    "      17201012@uap-bd.edu\n",
    "\n",
    "</div>\n",
    "\n",
    "**[Click here to see class lecture](https://drive.google.com/file/d/1aTH_8AIj01OYdwLmCMb_j0xHTFtN1mK_/view)**\n",
    "\n"
   ]
  },
  {
   "cell_type": "markdown",
   "id": "046f3164-0e37-4197-9f10-28d4379bbb29",
   "metadata": {},
   "source": [
    "Color is used to distinguish object. \n",
    "\n",
    "![](figs/157.PNG)\n",
    "\n",
    "![](figs/158.PNG)\n",
    "\n",
    "We see colors due to light is reflected of the object. Light has various wavelengths like red green etc, when red wavelenght is reflected from the object we see red same goes for all other colors.\n",
    "\n",
    "![](figs/159.PNG)\n",
    "\n",
    "![](figs/160.PNG)\n",
    "\n",
    "![](figs/161.PNG)\n",
    "\n",
    "![](figs/162.PNG)\n",
    "\n",
    "![](figs/163.PNG)\n",
    "\n",
    "![](figs/164.PNG)\n",
    "\n",
    "grayscale is white to black.\n",
    "\n",
    "![](figs/165.PNG)\n",
    "\n"
   ]
  },
  {
   "cell_type": "markdown",
   "id": "3af975cd-83bd-43a1-98f5-7e24e87733b0",
   "metadata": {},
   "source": [
    "when cmy all is 1 we get black whereas in rgb for rgb all equals 1 we got white.\n",
    "\n",
    "![](figs/167.PNG)\n",
    "\n",
    "cmy is called subtractive color model cz we get it by subtraction.\n",
    "\n",
    "![](figs/168.PNG)\n",
    "\n",
    "![](figs/170.PNG)\n",
    "\n",
    "cmyk here the extra k represents black so if you want to print black then the printer utlizes only k instead of combining cmy carteges.\n",
    "\n",
    "![](figs/169.PNG)\n",
    "\n",
    "![](figs/171.PNG)\n",
    "\n",
    "HSI is used in image processing, pattern recognition, computer vision etc tasks. In hsi black is absence of color. and white makes the color li8 in HSI. And I is the intensity of that color it explains how bright or dark the color is. Hsi represents human perception of color. So for robotic and AI stuff HSI is used. \n",
    "\n",
    "![](figs/172.PNG)\n",
    "\n",
    "It is not linear like rgb or cmy it can be represented with logarithmic scale. Color is represented in angle. In 0 degree we get red, at 120 deg we get green and at 240deg we get blue.  \n",
    "\n",
    "![](figs/173.PNG)\n",
    "\n",
    "![](figs/174.PNG)"
   ]
  },
  {
   "cell_type": "markdown",
   "id": "d658914a-1120-47f6-99da-294dffdab135",
   "metadata": {},
   "source": [
    "\n",
    "\n",
    "![](figs/175.PNG)\n",
    "\n",
    "![](figs/176.PNG)\n",
    "\n",
    "**For RG sector**\n",
    "\n",
    "![](figs/177.PNG)\n",
    "\n",
    "**For GB sector**\n",
    "\n",
    "![](figs/178.PNG)\n",
    "\n",
    "**For BR sector**\n",
    "\n",
    "![](figs/179.PNG)"
   ]
  },
  {
   "cell_type": "markdown",
   "id": "f2ec25f3-9980-487d-ad82-ed89483bb89a",
   "metadata": {},
   "source": [
    "# End of lecture!"
   ]
  }
 ],
 "metadata": {
  "kernelspec": {
   "display_name": "Python 3",
   "language": "python",
   "name": "python3"
  },
  "language_info": {
   "codemirror_mode": {
    "name": "ipython",
    "version": 3
   },
   "file_extension": ".py",
   "mimetype": "text/x-python",
   "name": "python",
   "nbconvert_exporter": "python",
   "pygments_lexer": "ipython3",
   "version": "3.8.8"
  }
 },
 "nbformat": 4,
 "nbformat_minor": 5
}
