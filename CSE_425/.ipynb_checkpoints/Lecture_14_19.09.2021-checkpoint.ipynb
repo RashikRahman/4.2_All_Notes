{
 "cells": [
  {
   "cell_type": "markdown",
   "id": "3e17a77a-f7a3-454d-9071-9ddf919b9b05",
   "metadata": {},
   "source": [
    "<div class=\"alert alert-success\">\n",
    "    <b>Author</b>:\n",
    "\n",
    "      Rashik Rahman\n",
    "      17201012@uap-bd.edu\n",
    "\n",
    "</div>\n",
    "\n",
    "**[Click here to see class lecture](https://drive.google.com/file/d/1JU-Dbwh-Wx5JwWDbfMNFfXOQEwX_Z9yx/view)**\n",
    "\n"
   ]
  },
  {
   "cell_type": "markdown",
   "id": "1c877798-4db8-4e09-a4b7-8ec3e05aafd0",
   "metadata": {},
   "source": [
    "**We have learned camera transformation till mid now we'll start from viewing transformation**\n",
    "\n",
    "In right hand rule positive z is towards the viewer and negative z is towards the inside of screen."
   ]
  },
  {
   "cell_type": "markdown",
   "id": "1f99ce9a-387f-4c45-b3fe-77811c247612",
   "metadata": {
    "tags": []
   },
   "source": [
    "# Viewing transformation"
   ]
  },
  {
   "cell_type": "markdown",
   "id": "b6e61d7d-7101-4706-a221-22bd370e105c",
   "metadata": {},
   "source": [
    "using C matrix we placed the camera in world coordinate. This gluLookAt func is the function for C matrix.\n",
    "\n",
    "![](figs/195.PNG)\n",
    "\n",
    "Projection is transformation of the points from n space to m space where m<n. n is higher and m is lower dimention. Here we'll learn about 3D to 2D projection.\n",
    "\n",
    "![](figs/196.PNG)\n",
    "\n",
    "\n",
    "\n"
   ]
  },
  {
   "cell_type": "markdown",
   "id": "8cd7475b-0887-4813-bcb6-c357ba147c11",
   "metadata": {},
   "source": [
    "## Parallel vs. Perspective projection: "
   ]
  },
  {
   "cell_type": "markdown",
   "id": "1e275865-5ca0-478e-8a8e-ff8f4dc56251",
   "metadata": {},
   "source": [
    "Unlike perspective in parallel projection shape of object doesn't change with respect to distance.\n",
    "\n",
    "![](figs/197.PNG)\n",
    "\n",
    "In perspective we used pin hole camera which's has a shape of truncated pyramid. It has near and far plane where far plane is comparetively bigger in size than near plane. But for parallel projection every surface/plane is of same size and oposites are in paraller. So the rays are in parallel.\n",
    "\n",
    "![](figs/198.PNG)\n",
    "\n",
    "![](figs/199.PNG)\n",
    "\n",
    "![](figs/200.PNG)\n",
    "\n",
    "![](figs/201.PNG)\n",
    "\n",
    "![](figs/202.PNG)\n",
    "\n",
    "one, two, three points are number of viewpoints.\n",
    "\n",
    "![](figs/203.PNG)\n",
    "\n",
    "![](figs/204.PNG)\n",
    "\n",
    "![](figs/205.PNG)"
   ]
  },
  {
   "cell_type": "markdown",
   "id": "a2cef1e8-b934-444c-b4af-e59def40807f",
   "metadata": {},
   "source": [
    "## Projection in openGL"
   ]
  },
  {
   "cell_type": "markdown",
   "id": "dcc9389b-0965-4b52-93d9-01765a417bd0",
   "metadata": {},
   "source": [
    "We have to use pair of functions for both parallel and perspective projection. That is glMatrixMode(GL_PROJECTION) and gluPerspective() for perspective and glMatrixMode(GL_PROJECTION) and glOrtho for parallel.\n",
    "\n",
    "![](figs/206.PNG)\n",
    "\n",
    "![](figs/207.PNG)\n",
    "\n",
    "Here gluLookAt is C matrix and gluPerspective is V matrix.\n",
    "\n",
    "![](figs/208.PNG)"
   ]
  },
  {
   "cell_type": "markdown",
   "id": "c75d20ab-ba58-45e5-a7c2-c6eaeeaa453c",
   "metadata": {},
   "source": [
    "# End of lecture!"
   ]
  }
 ],
 "metadata": {
  "kernelspec": {
   "display_name": "Python 3",
   "language": "python",
   "name": "python3"
  },
  "language_info": {
   "codemirror_mode": {
    "name": "ipython",
    "version": 3
   },
   "file_extension": ".py",
   "mimetype": "text/x-python",
   "name": "python",
   "nbconvert_exporter": "python",
   "pygments_lexer": "ipython3",
   "version": "3.8.8"
  }
 },
 "nbformat": 4,
 "nbformat_minor": 5
}
