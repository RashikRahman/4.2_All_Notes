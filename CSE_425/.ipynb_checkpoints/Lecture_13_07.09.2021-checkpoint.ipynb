{
 "cells": [
  {
   "cell_type": "markdown",
   "id": "e4a00d25-d27e-4061-b1a2-5615a7ec5707",
   "metadata": {},
   "source": [
    "<div class=\"alert alert-success\">\n",
    "    <b>Author</b>:\n",
    "\n",
    "      Rashik Rahman\n",
    "      17201012@uap-bd.edu\n",
    "\n",
    "</div>\n",
    "\n",
    "**[Click here to see class lecture](https://drive.google.com/file/d/1C9BDdNVTDHenz20QycOipLAMM95TPatY/view)**\n",
    "\n"
   ]
  },
  {
   "cell_type": "markdown",
   "id": "e319b33f-3d31-460c-9915-ef73cb4980c5",
   "metadata": {},
   "source": [
    "Including near plane there are 6 surfaces in the pinhole camera model. Camera position is the cordinate of camera, center of attention means where the camera is pointing to,  alpha is field of view it describes what volume we may see. \n",
    "\n",
    "![](figs/190.PNG)\n",
    "\n",
    "Far distance is denoted as f and near distance is denoted as n. Projection/viewing/v matrix is needed for exam not the derivation so I skipped the derivation part. Whenever we consider 3D object the matrix will be 4x4. \n",
    "\n",
    "![](figs/191.PNG)\n",
    "\n",
    "Direction/viewing vector is a vector between center of attention and camera position. Up direction tells which side of camera is pointing up. Params 1,2,3 are used to orient the camera correctly in world coordinate. Camera positioning matrix is denoted as C matrix. C matrix will have Xc,Yc,Zc(coordinates of camera), Xup,Yup,Zup(coordinates of up point, Xv,Yv,Zv(coordinates of viewing vector). Using C matrix camera can be placed in world coordinate.\n",
    "\n",
    "![](figs/192.PNG)\n",
    "\n",
    "![](figs/193.PNG)\n"
   ]
  },
  {
   "cell_type": "markdown",
   "id": "b67c13b3-6ed5-4221-85e9-1b2da7209ec5",
   "metadata": {},
   "source": [
    "**Now we'll see the process of camera transformation.**\n",
    "\n",
    "\n",
    "First we have to multiply the matrix with C then multiply the result of it with V. After that in the resulting value we'll see w not equals 1 so it will become 4D object. So we have to convert it back to 3D by dividing it with new W value of result matrix. For this we get the perspective view. 4D space is a point in camera space converted 3D is in image space but we can only display 2D images in monitors so need another/screen convertion/projection.\n",
    "\n",
    "We have learned about 4D->3D convertion/projection after mid we'll learn 3D->2D convertion/projection.\n",
    "\n",
    "![](figs/194.PNG)\n"
   ]
  },
  {
   "cell_type": "markdown",
   "id": "561303a6-1b4e-4079-9bf4-be270dcb9725",
   "metadata": {},
   "source": [
    "# End of lecture!"
   ]
  }
 ],
 "metadata": {
  "kernelspec": {
   "display_name": "Python 3",
   "language": "python",
   "name": "python3"
  },
  "language_info": {
   "codemirror_mode": {
    "name": "ipython",
    "version": 3
   },
   "file_extension": ".py",
   "mimetype": "text/x-python",
   "name": "python",
   "nbconvert_exporter": "python",
   "pygments_lexer": "ipython3",
   "version": "3.8.8"
  }
 },
 "nbformat": 4,
 "nbformat_minor": 5
}
