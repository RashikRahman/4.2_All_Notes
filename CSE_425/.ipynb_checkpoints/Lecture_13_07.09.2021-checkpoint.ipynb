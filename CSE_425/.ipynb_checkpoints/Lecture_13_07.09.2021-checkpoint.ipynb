{
 "cells": [
  {
   "cell_type": "markdown",
   "id": "e4a00d25-d27e-4061-b1a2-5615a7ec5707",
   "metadata": {},
   "source": [
    "<div class=\"alert alert-success\">\n",
    "    <b>Author</b>:\n",
    "\n",
    "      Rashik Rahman\n",
    "      17201012@uap-bd.edu\n",
    "\n",
    "</div>\n",
    "\n",
    "**[Click here to see class lecture](https://drive.google.com/file/d/1C9BDdNVTDHenz20QycOipLAMM95TPatY/view)**\n",
    "\n"
   ]
  },
  {
   "cell_type": "markdown",
   "id": "e319b33f-3d31-460c-9915-ef73cb4980c5",
   "metadata": {},
   "source": []
  },
  {
   "cell_type": "markdown",
   "id": "b67c13b3-6ed5-4221-85e9-1b2da7209ec5",
   "metadata": {},
   "source": []
  }
 ],
 "metadata": {
  "kernelspec": {
   "display_name": "Python 3",
   "language": "python",
   "name": "python3"
  },
  "language_info": {
   "codemirror_mode": {
    "name": "ipython",
    "version": 3
   },
   "file_extension": ".py",
   "mimetype": "text/x-python",
   "name": "python",
   "nbconvert_exporter": "python",
   "pygments_lexer": "ipython3",
   "version": "3.8.8"
  }
 },
 "nbformat": 4,
 "nbformat_minor": 5
}
