{
 "cells": [
  {
   "cell_type": "markdown",
   "id": "8607a19c-68cc-4b42-92fb-3141b9ab4cbe",
   "metadata": {},
   "source": [
    "<div class=\"alert alert-success\">\n",
    "    <b>Author</b>:\n",
    "\n",
    "      Rashik Rahman\n",
    "      17201012@uap-bd.edu\n",
    "\n",
    "</div>\n",
    "\n",
    "**[Click here to see class lecture](https://drive.google.com/file/d/1zIfKOFlGZEHhNNfASpP-VhhOPwuHCVyN/view)**\n",
    "\n"
   ]
  },
  {
   "cell_type": "code",
   "execution_count": 1,
   "id": "1416b9b5-48e1-4745-a5ad-6225b3e0e171",
   "metadata": {},
   "outputs": [
    {
     "data": {
      "text/html": [
       "<iframe src=\"https://drive.google.com/file/d/1zIfKOFlGZEHhNNfASpP-VhhOPwuHCVyN/preview\" width=\"640\" height=\"480\" allow=\"autoplay\"></iframe>\n"
      ],
      "text/plain": [
       "<IPython.core.display.HTML object>"
      ]
     },
     "metadata": {},
     "output_type": "display_data"
    }
   ],
   "source": [
    "%%html\n",
    "<iframe src=\"https://drive.google.com/file/d/1zIfKOFlGZEHhNNfASpP-VhhOPwuHCVyN/preview\" width=\"640\" height=\"480\" allow=\"autoplay\"></iframe>"
   ]
  },
  {
   "cell_type": "markdown",
   "id": "c38cf4c1-77f3-4857-9747-a9da10076248",
   "metadata": {},
   "source": [
    "![](figs/270.PNG)\n",
    "\n",
    "![](figs/271.PNG)\n",
    "\n",
    "Illumination: interaction of light and object and phenomenon around them is considered in illumination.\n",
    "\n",
    "Shading: And the implementation/rendering of this theory in pixel level is called shading.\n",
    "\n",
    "![](figs/272.PNG)\n",
    "\n",
    "![](figs/273.PNG)\n"
   ]
  },
  {
   "cell_type": "markdown",
   "id": "b7bfdfd1-7fd9-4ef8-8fee-01b45d2b72ca",
   "metadata": {},
   "source": [
    "\n",
    "![](figs/275.PNG)\n",
    "\n",
    "Illumination model is replication of real life phenomenon with light and its object. Every surface interacts light in different ways. Ligth reflection depends on angle.\n",
    "\n",
    "![](figs/274.PNG)\n",
    "\n",
    "![](figs/276.PNG)\n",
    "\n",
    "illumination in opengl is local illumination. \n",
    "\n",
    "![](figs/277.PNG)\n",
    "\n",
    "![](figs/278.PNG)\n",
    "\n",
    "![](figs/279.PNG)\n",
    "\n",
    "![](figs/280.PNG)\n",
    "\n",
    "![](figs/281.PNG)\n",
    "\n",
    "![](figs/282.PNG)\n",
    "\n",
    "Object surface properties are designed by power of cos that is e.\n",
    "\n",
    "![](figs/283.PNG)\n",
    "\n",
    "![](figs/284.PNG)\n",
    "\n",
    "Id depends on thera and Is depends on fi.\n",
    "\n",
    "![](figs/285.PNG)\n",
    "\n",
    "![](figs/286.PNG)\n",
    "\n",
    "![](figs/287.PNG) \n",
    "\n",
    "![](figs/288.PNG) "
   ]
  },
  {
   "cell_type": "markdown",
   "id": "1b59b268-9f73-4ed9-b9af-122c36d79054",
   "metadata": {},
   "source": [
    "# End of lecture!"
   ]
  }
 ],
 "metadata": {
  "kernelspec": {
   "display_name": "Python 3",
   "language": "python",
   "name": "python3"
  },
  "language_info": {
   "codemirror_mode": {
    "name": "ipython",
    "version": 3
   },
   "file_extension": ".py",
   "mimetype": "text/x-python",
   "name": "python",
   "nbconvert_exporter": "python",
   "pygments_lexer": "ipython3",
   "version": "3.8.8"
  }
 },
 "nbformat": 4,
 "nbformat_minor": 5
}
