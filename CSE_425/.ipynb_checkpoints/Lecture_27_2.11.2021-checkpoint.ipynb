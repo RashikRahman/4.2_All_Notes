{
 "cells": [
  {
   "cell_type": "markdown",
   "id": "947c7f6b-2a47-43de-826c-4ca5f92c644f",
   "metadata": {},
   "source": [
    "<div class=\"alert alert-success\">\n",
    "    <b>Author</b>:\n",
    "\n",
    "      Rashik Rahman\n",
    "      17201012@uap-bd.edu\n",
    "\n",
    "</div>\n",
    "\n",
    "**[Click here to see class lecture](https://drive.google.com/file/d/1h-OYpkl3vnxoaG1thaqxrTlrGkal2FgF/view?usp=drivesdk)**\n"
   ]
  },
  {
   "cell_type": "markdown",
   "id": "77b23761-f29d-4776-86f6-3f95f48d4550",
   "metadata": {},
   "source": [
    "Chapter 1 and 2 (Lec 1, 2, 3) are imp for viva not xm.\n",
    "\n",
    "Chapter 3 and 4 (Lec 4-7) Imp for xm 1 or half set may come. \n",
    "\n",
    "Can we split beizier curve in the middle? OR USING FOUR POINTS DETERMINE THE MIDPOINT OF BEIZIER CURVE.\n",
    "\n",
    "Chapter 5 and 6 transformation and camera transformation theeke 1 ta q thakbe final e. \n",
    "\n",
    "chapter 7 imp for viva and xm."
   ]
  },
  {
   "cell_type": "markdown",
   "id": "1d55b8aa-96b9-4184-983d-374cdaae7def",
   "metadata": {},
   "source": [
    "# End of lecture!"
   ]
  }
 ],
 "metadata": {
  "kernelspec": {
   "display_name": "Python 3",
   "language": "python",
   "name": "python3"
  },
  "language_info": {
   "codemirror_mode": {
    "name": "ipython",
    "version": 3
   },
   "file_extension": ".py",
   "mimetype": "text/x-python",
   "name": "python",
   "nbconvert_exporter": "python",
   "pygments_lexer": "ipython3",
   "version": "3.8.8"
  }
 },
 "nbformat": 4,
 "nbformat_minor": 5
}
