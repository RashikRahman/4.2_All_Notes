{
 "cells": [
  {
   "cell_type": "markdown",
   "metadata": {},
   "source": [
    "<div class=\"alert alert-success\">\n",
    "    <b>Author</b>:\n",
    "\n",
    "      Rashik Rahman\n",
    "      17201012@uap-bd.edu\n",
    "\n",
    "</div>\n",
    "\n",
    "**[Click here to see class lecture](https://drive.google.com/file/d/1_pLt6CG0zzg-xgtD5Pv_vUETKIsK5BQq/view)**\n"
   ]
  },
  {
   "cell_type": "markdown",
   "metadata": {},
   "source": [
    "Goal of CG is faking and alternative reality convincingly.\n",
    "\n",
    "![](figs/1.PNG)\n",
    "\n",
    "Here this is a CG image this seems real but isn't thus it is an example of faking reality convincingly.\n",
    "\n",
    "![](figs/2.PNG)\n",
    "\n",
    "![](figs/3.PNG)\n",
    "\n",
    "![](figs/4.PNG)\n",
    "\n",
    "Here this character isn't real or doesn't has any existance its unnatural. But this seems so real cz this is a CG image. It is an example of alternative reality convincingly.\n",
    "\n",
    "![](figs/5.PNG)"
   ]
  },
  {
   "cell_type": "markdown",
   "metadata": {},
   "source": [
    "![](figs/6.PNG)\n",
    "\n",
    "![](figs/7.PNG)\n",
    "\n",
    "![](figs/8.PNG)\n",
    "\n",
    "![](figs/9.PNG)\n",
    "\n",
    "![](figs/10.PNG)"
   ]
  },
  {
   "cell_type": "markdown",
   "metadata": {},
   "source": [
    "# End of lecture!"
   ]
  }
 ],
 "metadata": {
  "kernelspec": {
   "display_name": "Python 3",
   "language": "python",
   "name": "python3"
  },
  "language_info": {
   "codemirror_mode": {
    "name": "ipython",
    "version": 3
   },
   "file_extension": ".py",
   "mimetype": "text/x-python",
   "name": "python",
   "nbconvert_exporter": "python",
   "pygments_lexer": "ipython3",
   "version": "3.8.5"
  }
 },
 "nbformat": 4,
 "nbformat_minor": 4
}
