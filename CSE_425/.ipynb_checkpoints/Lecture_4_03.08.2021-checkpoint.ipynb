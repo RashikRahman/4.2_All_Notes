{
 "cells": [
  {
   "cell_type": "markdown",
   "metadata": {},
   "source": [
    "<div class=\"alert alert-success\">\n",
    "    <b>Author</b>:\n",
    "\n",
    "      Rashik Rahman\n",
    "      17201012@uap-bd.edu\n",
    "\n",
    "</div>\n",
    "\n",
    "**[Click here to see class lecture](https://drive.google.com/file/d/1FaclKFFXVkeUx1TqBDjXxRGHI3t0BVVa/view)**\n"
   ]
  },
  {
   "cell_type": "markdown",
   "metadata": {},
   "source": [
    "# We'll discuss about coordinate systems today and maths."
   ]
  },
  {
   "cell_type": "markdown",
   "metadata": {},
   "source": [
    "We'll discuss about three coordinate systems in CG,\n",
    "\n",
    "- World coordinate system\n",
    "- Object coodinate system\n",
    "- Camera coodinate system\n",
    "\n",
    "These three are based on Cartesian coordinate system. First we have to design an object. Considering a center point in an object we can determine the coordinates of roof, door, window etc. This is object coordinate system.\n",
    "\n",
    "![](figs/54.PNG)\n",
    "\n",
    "In world coordinate system there can be multiple objects. So considering an object having a center point we can determine where to place the object or in other words the coordinate of the object in the world.\n",
    "\n",
    "![](figs/55.PNG)\n",
    "\n",
    "A camera having its own coordinates can only show a triangle portion in a world, this is called camera coordinate system, more clear concept will be given in next lectures.\n",
    "\n",
    "![](figs/56.PNG)"
   ]
  },
  {
   "cell_type": "markdown",
   "metadata": {},
   "source": [
    "\n",
    "\n",
    "![](figs/57.PNG)\n",
    "\n",
    "![](figs/58.PNG)\n",
    "\n",
    "We can deal/handle/transform object considering two ways, right or left handed. We'll mostly use right handed system. In right hand system direction of positive z axis will be screen->viewer and direction of negative z axis will be viewer->screen. In left hand system it will be reversed.\n",
    "\n",
    "![](figs/59.PNG)\n",
    "\n",
    "When m, c is calculated for every value of x we get y thus can draw a approx straight line by using maths.\n",
    "\n",
    "![](figs/60.PNG)\n",
    "\n",
    "![](figs/61.PNG)\n",
    "\n",
    "`y=mx+c` not used in CG due to mentioned probs. But this eqn is mentioned for base level understanding. Efficiency decrease due to multiplication and division operations, and accuracy is reduced due to floating point copmutations. Also paraller lines to y axis can't be drawn using this eqn, cz x_ed - x_0 will be 0 so (y_end-y_0)/0 will be error and openGL will put missing pixels instead of error.\n",
    "\n",
    "![](figs/62.PNG)\n",
    "\n",
    "so to draw lines we'll use parametric eqns. In vectors we get value with direction. Let a line having two end points we get line length value and direction such as p1->p2 or p2->p1. for P1P2 vector the line goes from p1 to p2 so to calculate difference between these two points we subtract p1 from p2.\n",
    "\n",
    "![](figs/63.PNG)\n",
    "\n"
   ]
  },
  {
   "cell_type": "markdown",
   "metadata": {},
   "source": [
    "# End of lecture!"
   ]
  }
 ],
 "metadata": {
  "kernelspec": {
   "display_name": "Python 3",
   "language": "python",
   "name": "python3"
  },
  "language_info": {
   "codemirror_mode": {
    "name": "ipython",
    "version": 3
   },
   "file_extension": ".py",
   "mimetype": "text/x-python",
   "name": "python",
   "nbconvert_exporter": "python",
   "pygments_lexer": "ipython3",
   "version": "3.8.5"
  }
 },
 "nbformat": 4,
 "nbformat_minor": 4
}
