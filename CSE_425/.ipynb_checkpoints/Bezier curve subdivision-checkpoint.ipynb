{
 "cells": [
  {
   "cell_type": "code",
   "execution_count": 10,
   "id": "2069829b-5830-43cd-8386-d50ac36eb452",
   "metadata": {},
   "outputs": [
    {
     "name": "stdin",
     "output_type": "stream",
     "text": [
      "Enter coordinates of Point 1  10 5\n",
      "Enter coordinates of Point 2  12 10\n",
      "Enter coordinates of Point 3  20 12\n",
      "Enter coordinates of Point 4  25 6\n"
     ]
    },
    {
     "name": "stdout",
     "output_type": "stream",
     "text": [
      "mid point p1 and p2 as a1 :\n",
      "x = (10+12)/2 , y = (5+10)/2 = a1[11.0, 7.5]\n",
      "mid point p2 and p3 as a2 :\n",
      "x = (12+20)/2 , y = (10+12)/2 = a2[16.0, 11.0]\n",
      "mid point p3 and p4 as a3 :\n",
      "x = (20+25)/2 , y = (12+6)/2 = a3[22.5, 9.0]\n",
      "mid point a1 and a2 as a4 :\n",
      "x = (11.0+16.0)/2 , y = (7.5+11.0)/2 = a4[13.5, 9.25]\n",
      "mid point a2 and a3 as a5 :\n",
      "x = (16.0+22.5)/2 , y = (11.0+9.0)/2 = a5[19.25, 10.0]\n",
      "mid point a4 and a5 as a6 :\n",
      "x = (13.5+19.25)/2 , y = (9.25+10.0)/2 = a6[16.375, 9.625]\n"
     ]
    }
   ],
   "source": [
    "p1 = list(map (int, input ('Enter coordinates of Point 1 ').strip().split()))\n",
    "p2 = list(map (int, input ('Enter coordinates of Point 2 ').strip().split()))\n",
    "p3 = list(map (int, input ('Enter coordinates of Point 3 ').strip().split()))\n",
    "p4 = list(map (int, input ('Enter coordinates of Point 4 ').strip().split()))\n",
    "\n",
    "\n",
    "a1 = [(p1[0]+p2[0])/2,(p1[1]+p2[1])/2]\n",
    "print (\"mid point p1 and p2 as a1 :\\nx = ({}+{})/2 , y = ({}+{})/2 = a1{}\".format(p1[0],p2[0],p1[1],p2[1],a1))\n",
    "a2 = [(p3[0]+p2[0])/2,(p3[1]+p2[1])/2]\n",
    "print (\"mid point p2 and p3 as a2 :\\nx = ({}+{})/2 , y = ({}+{})/2 = a2{}\".format(p2[0],p3[0],p2[1],p3[1],a2))\n",
    "a3 = [(p3[0]+p4[0])/2,(p3[1]+p4[1])/2]\n",
    "print (\"mid point p3 and p4 as a3 :\\nx = ({}+{})/2 , y = ({}+{})/2 = a3{}\".format(p3[0],p4[0],p3[1],p4[1],a3))\n",
    "a4 = [(a1[0]+a2[0])/2,(a1[1]+a2[1])/2]\n",
    "print (\"mid point a1 and a2 as a4 :\\nx = ({}+{})/2 , y = ({}+{})/2 = a4{}\".format(a1[0],a2[0],a1[1],a2[1],a4))\n",
    "a5 = [(a3[0]+a2[0])/2,(a3[1]+a2[1])/2]\n",
    "print (\"mid point a2 and a3 as a5 :\\nx = ({}+{})/2 , y = ({}+{})/2 = a5{}\".format(a2[0],a3[0],a2[1],a3[1],a5))\n",
    "a6 = [(a4[0]+a5[0])/2,(a4[1]+a5[1])/2]\n",
    "print (\"mid point a4 and a5 as a6 :\\nx = ({}+{})/2 , y = ({}+{})/2 = a6{}\".format(a4[0],a5[0],a4[1],a5[1],a6))\n",
    "\n",
    "\n",
    "# print (\"final a6 = \")\n",
    "\n",
    "\n",
    "\n",
    "\n",
    "\n"
   ]
  }
 ],
 "metadata": {
  "kernelspec": {
   "display_name": "Python 3",
   "language": "python",
   "name": "python3"
  },
  "language_info": {
   "codemirror_mode": {
    "name": "ipython",
    "version": 3
   },
   "file_extension": ".py",
   "mimetype": "text/x-python",
   "name": "python",
   "nbconvert_exporter": "python",
   "pygments_lexer": "ipython3",
   "version": "3.8.8"
  }
 },
 "nbformat": 4,
 "nbformat_minor": 5
}
