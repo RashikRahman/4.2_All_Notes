{
 "cells": [
  {
   "cell_type": "markdown",
   "id": "c3b304ce-f21f-4abb-b63c-f842da270f0f",
   "metadata": {},
   "source": [
    "<div class=\"alert alert-success\">\n",
    "    <b>Author</b>:\n",
    "\n",
    "      Rashik Rahman\n",
    "      17201012@uap-bd.edu\n",
    "\n",
    "</div>\n",
    "\n",
    "**[Click here to see class lecture](https://drive.google.com/file/d/1ZOezxwimxEOWy5HWRl5qNXUa7zQipvOJ/view)**\n",
    "\n"
   ]
  },
  {
   "cell_type": "code",
   "execution_count": 1,
   "id": "cc887203-98ac-4126-9bbc-8c4cd6d13d67",
   "metadata": {},
   "outputs": [
    {
     "data": {
      "text/html": [
       "<iframe src=\"https://drive.google.com/file/d/1ZOezxwimxEOWy5HWRl5qNXUa7zQipvOJ/preview\" width=\"640\" height=\"480\" allow=\"autoplay\"></iframe>\n"
      ],
      "text/plain": [
       "<IPython.core.display.HTML object>"
      ]
     },
     "metadata": {},
     "output_type": "display_data"
    }
   ],
   "source": [
    "%%html\n",
    "<iframe src=\"https://drive.google.com/file/d/1ZOezxwimxEOWy5HWRl5qNXUa7zQipvOJ/preview\" width=\"640\" height=\"480\" allow=\"autoplay\"></iframe>"
   ]
  },
  {
   "cell_type": "markdown",
   "id": "9ed47d5a-7a6f-40f5-8c1c-5e74d9139793",
   "metadata": {},
   "source": [
    "CG can be created through 2 approaches. One is pipeline approach another one is ray tracing. Z buffer algorithm from HSR is in pipeline approach.\n",
    "\n",
    "\n",
    "dif is diffusion. For dot product or dot multiplication eqn i is used. So i will be used for L.N and R.V.\n",
    "\n",
    "![](figs/289.PNG)\n",
    "\n",
    "![](figs/290.PNG)"
   ]
  },
  {
   "cell_type": "markdown",
   "id": "1108a77f-7042-4a7c-a7e8-6ffa97f13ad5",
   "metadata": {},
   "source": [
    "\n",
    "\n",
    "![](figs/291.PNG)\n",
    "\n",
    "![](figs/292.PNG)\n",
    "\n",
    "two methods for flat shading. In one point per polygon means take a point of polygon and find Iphong(color) of it then use that to render the polygon with same color. Another is average of shading at polygons vetices. Here take all corner points of the polygon calculate  each points Iphong then average it. Use the avg value to render the whole polygons color.\n",
    "\n",
    "![](figs/293.PNG)\n",
    "\n",
    "![](figs/294.PNG)\n",
    "\n",
    "Calculate Iphong for each vertex. Here find Iphong for four vertex. Then from it calculate color of each point inside the polygon like we did in triangle color finding. It is expensive then flat shading but makes the object more smooth.\n",
    "\n",
    "![](figs/295.PNG)\n",
    "\n",
    "In phong shading we calculate Iphong for each pixel along with vertices of the polygon. It is most expensive but most smooth among three methods making polygon artifact(harsh edges) almost dissapear. But in the edge of the whole object there are some rough edges.\n",
    "\n",
    "![](figs/296.PNG)\n",
    "\n",
    "![](figs/297.PNG)\n",
    "\n",
    "![](figs/298.PNG)\n",
    "\n",
    "![](figs/299.PNG)\n"
   ]
  },
  {
   "cell_type": "markdown",
   "id": "8a30c9d8-9da4-45d3-84c6-7a35c4c474a5",
   "metadata": {},
   "source": [
    "# End of lecture!"
   ]
  }
 ],
 "metadata": {
  "kernelspec": {
   "display_name": "Python 3",
   "language": "python",
   "name": "python3"
  },
  "language_info": {
   "codemirror_mode": {
    "name": "ipython",
    "version": 3
   },
   "file_extension": ".py",
   "mimetype": "text/x-python",
   "name": "python",
   "nbconvert_exporter": "python",
   "pygments_lexer": "ipython3",
   "version": "3.8.8"
  }
 },
 "nbformat": 4,
 "nbformat_minor": 5
}
