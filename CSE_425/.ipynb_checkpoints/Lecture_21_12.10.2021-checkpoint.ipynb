{
 "cells": [
  {
   "cell_type": "markdown",
   "id": "c3b304ce-f21f-4abb-b63c-f842da270f0f",
   "metadata": {},
   "source": [
    "<div class=\"alert alert-success\">\n",
    "    <b>Author</b>:\n",
    "\n",
    "      Rashik Rahman\n",
    "      17201012@uap-bd.edu\n",
    "\n",
    "</div>\n",
    "\n",
    "**[Click here to see class lecture](https://drive.google.com/file/d/1ZOezxwimxEOWy5HWRl5qNXUa7zQipvOJ/view)**\n",
    "\n"
   ]
  },
  {
   "cell_type": "code",
   "execution_count": 1,
   "id": "cc887203-98ac-4126-9bbc-8c4cd6d13d67",
   "metadata": {},
   "outputs": [
    {
     "data": {
      "text/html": [
       "<iframe src=\"https://drive.google.com/file/d/1ZOezxwimxEOWy5HWRl5qNXUa7zQipvOJ/preview\" width=\"640\" height=\"480\" allow=\"autoplay\"></iframe>\n"
      ],
      "text/plain": [
       "<IPython.core.display.HTML object>"
      ]
     },
     "metadata": {},
     "output_type": "display_data"
    }
   ],
   "source": [
    "%%html\n",
    "<iframe src=\"https://drive.google.com/file/d/1ZOezxwimxEOWy5HWRl5qNXUa7zQipvOJ/preview\" width=\"640\" height=\"480\" allow=\"autoplay\"></iframe>"
   ]
  },
  {
   "cell_type": "markdown",
   "id": "9ed47d5a-7a6f-40f5-8c1c-5e74d9139793",
   "metadata": {},
   "source": []
  },
  {
   "cell_type": "markdown",
   "id": "1108a77f-7042-4a7c-a7e8-6ffa97f13ad5",
   "metadata": {},
   "source": []
  },
  {
   "cell_type": "markdown",
   "id": "8a30c9d8-9da4-45d3-84c6-7a35c4c474a5",
   "metadata": {},
   "source": []
  }
 ],
 "metadata": {
  "kernelspec": {
   "display_name": "Python 3",
   "language": "python",
   "name": "python3"
  },
  "language_info": {
   "codemirror_mode": {
    "name": "ipython",
    "version": 3
   },
   "file_extension": ".py",
   "mimetype": "text/x-python",
   "name": "python",
   "nbconvert_exporter": "python",
   "pygments_lexer": "ipython3",
   "version": "3.8.8"
  }
 },
 "nbformat": 4,
 "nbformat_minor": 5
}
