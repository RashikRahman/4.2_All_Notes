{
 "cells": [
  {
   "cell_type": "markdown",
   "id": "2304b29b-21c8-4abb-8e76-29a2a98e228a",
   "metadata": {},
   "source": [
    "<div class=\"alert alert-success\">\n",
    "    <b>Author</b>:\n",
    "\n",
    "      Rashik Rahman\n",
    "      17201012@uap-bd.edu\n",
    "\n",
    "</div>\n",
    "\n",
    "**[Click here to see class lecture](https://drive.google.com/file/d/1Su3ekXujM3_Xnc9BFzBmvYsQsgBU79Rm/view)**\n"
   ]
  },
  {
   "cell_type": "markdown",
   "id": "758a026c-bf9f-4674-a7ce-3a7476a3d477",
   "metadata": {},
   "source": []
  },
  {
   "cell_type": "markdown",
   "id": "99678f34-ab18-4d62-90ed-d8f717e44950",
   "metadata": {},
   "source": []
  }
 ],
 "metadata": {
  "kernelspec": {
   "display_name": "Python 3",
   "language": "python",
   "name": "python3"
  },
  "language_info": {
   "codemirror_mode": {
    "name": "ipython",
    "version": 3
   },
   "file_extension": ".py",
   "mimetype": "text/x-python",
   "name": "python",
   "nbconvert_exporter": "python",
   "pygments_lexer": "ipython3",
   "version": "3.8.8"
  }
 },
 "nbformat": 4,
 "nbformat_minor": 5
}
