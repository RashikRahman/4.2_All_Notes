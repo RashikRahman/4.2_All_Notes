{
 "cells": [
  {
   "cell_type": "markdown",
   "id": "599dee89-ca62-4907-9e4a-82f0999b5e50",
   "metadata": {},
   "source": [
    "<div class=\"alert alert-success\">\n",
    "    <b>Author</b>:\n",
    "\n",
    "      Rashik Rahman\n",
    "      17201012@uap-bd.edu\n",
    "\n",
    "</div>\n",
    "\n",
    "**[Click here to see class lecture](https://drive.google.com/file/d/1-EaiRhSAXBFGJnM_IGwotjLeFASOgv2J/view)**\n",
    "\n"
   ]
  },
  {
   "cell_type": "code",
   "execution_count": 1,
   "id": "d11c69df-7cc2-4773-abf9-fc91ab695f1d",
   "metadata": {},
   "outputs": [
    {
     "data": {
      "text/html": [
       "\n",
       "<iframe src=\"https://drive.google.com/file/d/1-EaiRhSAXBFGJnM_IGwotjLeFASOgv2J/preview\" width=\"640\" height=\"480\" allow=\"autoplay\"></iframe>\n"
      ],
      "text/plain": [
       "<IPython.core.display.HTML object>"
      ]
     },
     "metadata": {},
     "output_type": "display_data"
    }
   ],
   "source": [
    "%%html\n",
    "\n",
    "<iframe src=\"https://drive.google.com/file/d/1-EaiRhSAXBFGJnM_IGwotjLeFASOgv2J/preview\" width=\"640\" height=\"480\" allow=\"autoplay\"></iframe>"
   ]
  },
  {
   "cell_type": "markdown",
   "id": "54e76720-f0ec-4c5e-8811-aed88c5acbc9",
   "metadata": {},
   "source": [
    "Here xi,yi are coordinates of intersection. If the intersection is vertical then depending on the line the xi can be xmin or xmax, and for horizontal line yi can be ymin or ymax. For a line you need to calculate \"m\" only once.\n",
    "\n",
    "![](figs/247.PNG)\n",
    "\n",
    "![](figs/248.PNG)\n",
    "\n",
    "To find I1 the near end point of I1 is considered to be x1y1 and when calculating I2 the near endpoint of I2 is considered to be x1y1.\n",
    "\n",
    "![](figs/249.PNG)\n"
   ]
  },
  {
   "cell_type": "markdown",
   "id": "0652083e-2a0a-44b6-9c95-46ea107420b6",
   "metadata": {},
   "source": [
    "\n",
    "We cant see the back and also some front facing part of the teapot is also visible due to the teapot in front is block the front part of the back teapot. This is called hidden surface.\n",
    "\n",
    "![](figs/250.PNG)\n",
    "\n",
    "![](figs/251.PNG)\n",
    "\n",
    "![](figs/252.PNG)\n",
    "\n",
    "![](figs/253.PNG)\n",
    "\n",
    "View vector is where cam is looking at. \n",
    "\n",
    "![](figs/254.PNG)\n",
    "\n",
    "As we are doing multiplication so it is computationally expensive, in next class we'll learn a more optimized way to find out.\n",
    "\n",
    "![](figs/255.PNG)"
   ]
  },
  {
   "cell_type": "markdown",
   "id": "dd191c83-9cca-41ef-b601-c50164fd767e",
   "metadata": {},
   "source": [
    "# End of lecture!"
   ]
  }
 ],
 "metadata": {
  "kernelspec": {
   "display_name": "Python 3",
   "language": "python",
   "name": "python3"
  },
  "language_info": {
   "codemirror_mode": {
    "name": "ipython",
    "version": 3
   },
   "file_extension": ".py",
   "mimetype": "text/x-python",
   "name": "python",
   "nbconvert_exporter": "python",
   "pygments_lexer": "ipython3",
   "version": "3.8.8"
  }
 },
 "nbformat": 4,
 "nbformat_minor": 5
}
