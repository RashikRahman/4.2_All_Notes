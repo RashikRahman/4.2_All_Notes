{
 "cells": [
  {
   "cell_type": "markdown",
   "id": "943086de-4e3a-4103-8176-014165675e10",
   "metadata": {},
   "source": [
    "<div class=\"alert alert-success\">\n",
    "    <b>Author</b>:\n",
    "\n",
    "      Rashik Rahman\n",
    "      17201012@uap-bd.edu\n",
    "\n",
    "</div>\n",
    "\n",
    "**[Click here to see class lecture](https://drive.google.com/file/d/1fO8F6gNhGW-NM96HPrfyDrHb0P4x8iT3/view)**\n",
    "\n"
   ]
  },
  {
   "cell_type": "markdown",
   "id": "d3e2fc4b-6246-4ee8-bb3b-05d24425139a",
   "metadata": {},
   "source": [
    "![](figs/180.PNG)\n",
    "\n",
    "Perspective vision is how human sees things, like a football near you and another one far from you though the size of the football is same near one will look big compared to distance one. camera transformation is a part of 3D rendering/graphics pipeline. We'll see steps of camera tansformation later.\n",
    "\n",
    "![](figs/181.PNG)\n",
    "\n",
    "![](figs/182.PNG)\n",
    "\n",
    "![](figs/183.PNG)\n",
    "\n",
    "![](figs/184.PNG)"
   ]
  },
  {
   "cell_type": "markdown",
   "id": "a176c1e4-7d6a-4195-aa4e-3522724103a9",
   "metadata": {},
   "source": []
  },
  {
   "cell_type": "markdown",
   "id": "9404e0f4-2b42-4c8e-af79-39ef4746d85d",
   "metadata": {},
   "source": []
  }
 ],
 "metadata": {
  "kernelspec": {
   "display_name": "Python 3",
   "language": "python",
   "name": "python3"
  },
  "language_info": {
   "codemirror_mode": {
    "name": "ipython",
    "version": 3
   },
   "file_extension": ".py",
   "mimetype": "text/x-python",
   "name": "python",
   "nbconvert_exporter": "python",
   "pygments_lexer": "ipython3",
   "version": "3.8.8"
  }
 },
 "nbformat": 4,
 "nbformat_minor": 5
}
