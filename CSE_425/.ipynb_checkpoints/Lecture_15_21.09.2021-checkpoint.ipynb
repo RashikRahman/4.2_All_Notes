{
 "cells": [
  {
   "cell_type": "markdown",
   "id": "b9d8c992-b505-4bf2-a9e5-231e0dd5ebb8",
   "metadata": {},
   "source": [
    "<div class=\"alert alert-success\">\n",
    "    <b>Author</b>:\n",
    "\n",
    "      Rashik Rahman\n",
    "      17201012@uap-bd.edu\n",
    "\n",
    "</div>\n",
    "\n",
    "**[Click here to see class lecture](https://drive.google.com/file/d/1sRZCCYxIUOsb6fQLjl74XXOZiwN7jxH9/view)**\n",
    "\n"
   ]
  },
  {
   "cell_type": "code",
   "execution_count": 1,
   "id": "58eb6086-e3df-4445-ba31-df712bc6923b",
   "metadata": {},
   "outputs": [
    {
     "data": {
      "text/html": [
       "<iframe src=\"https://drive.google.com/file/d/1sRZCCYxIUOsb6fQLjl74XXOZiwN7jxH9/preview\" width=\"640\" height=\"480\" allow=\"autoplay\"></iframe>\n"
      ],
      "text/plain": [
       "<IPython.core.display.HTML object>"
      ]
     },
     "metadata": {},
     "output_type": "display_data"
    }
   ],
   "source": [
    "%%html\n",
    "<iframe src=\"https://drive.google.com/file/d/1sRZCCYxIUOsb6fQLjl74XXOZiwN7jxH9/preview\" width=\"640\" height=\"480\" allow=\"autoplay\"></iframe>"
   ]
  },
  {
   "cell_type": "markdown",
   "id": "cd118fb0-27b3-4f59-8692-004c5f436b3d",
   "metadata": {
    "tags": []
   },
   "source": [
    "# Clipping"
   ]
  },
  {
   "cell_type": "markdown",
   "id": "297ff79b-ccbd-45d0-94b5-49fd4887a649",
   "metadata": {},
   "source": [
    "![](figs/209.PNG)\n",
    "\n",
    "clipping can be done in camera space, image space, 2D stage in view port. Clipping in 2D stage view port is most efficient, fast and easy so view port clipping is used most of the time.\n",
    "\n",
    "![](figs/210.PNG)\n",
    "\n",
    "Line clipping is the simplest algorithm for clipping. Here the box is view port. Lines that are inside the box can be fully drawn, lines that are outside the box can be fully discarded, line that are partially inside the box will be partially drawn. Only parts of line that are inside the box will be drawn. So these lines need to be further examined. \n",
    "\n",
    "![](figs/211.PNG)\n",
    "\n",
    "when both point inside then draw the full line, when both point outside then it isnt clear the whole line can be outside viewport or partial line can be inside viewport in this case draw only partial line. And when only one point inside then we need to find intersection point \"I\" between line and viewport. Then draw the inside line.\n",
    "\n",
    "![](figs/212.PNG)\n",
    "\n"
   ]
  },
  {
   "cell_type": "markdown",
   "id": "a9e73081-75b2-40fe-8d70-55b8090b1358",
   "metadata": {},
   "source": [
    "\n",
    "\n",
    "![](figs/213.PNG)\n",
    "\n",
    "View port has 9 regional code e.g. 1001, 0001, etc. These codes will be used to identify the position of the line. As p1 is just below p4 so x's value for these point will be same, and any point on this line will have same x value. same goes for y axis. p4, p3 are on the same line so their y value will be same. In the sign function 1 is returned only for positive and for 0 and any negative number the function will return 0.\n",
    "\n",
    "![](figs/214.PNG)\n",
    "\n",
    "**Step 1**\n",
    "\n",
    "Q1 and Q2 are end points of a line. Here we use right most bit system so bit 1 is right most then comes bit 2 and so on. Doing the sign operation we get value 1000 for Q1. Same process will be for Q2, thus we get regional code for these points.So Q1 falls under 1000 region thus it falls outside the viewport. In exm u'll see the regional code of Q1 just as shown in this fig and if your calculated bit value doesn't match with that regional code than there's faulty calculation. This is step 1.\n",
    "\n",
    "![](figs/215.PNG)\n",
    "\n",
    "**Step 2**\n",
    "\n",
    "In step 2 we'll classify the lines using bit codes. If two points are outside then need to check if there's any region crossing with the box and if not then totally reject the line, and if two points inside box then accept, if one point inside box then accept. Here,\n",
    "\n",
    "!(code(p1)|code(p2)) will return 1 only if when the result of the OR operation is 0000. If not operation returns 1 then accept. In the case of else if, here if the result of the AND operation contains any 1 then then else if will meet condition. Here p1, p2 regoinal code's AND operation result is 1000 as there is 1 in the result so the condition is satisfied and reject() function will be implemented. Then in else twe get the intersect func this means partial of the line is inside the box.\n",
    "\n",
    "![](figs/216.PNG)\n",
    "\n",
    "![](figs/217.PNG)\n",
    "\n",
    "![](figs/223.PNG)\n",
    "\n",
    "![](figs/224.PNG)\n",
    "\n",
    "\n",
    "\n",
    "Need to find intersecting point then repeat the whole process to check if the new line is inside or not, I1,I2 needs to be classified.\n",
    "\n",
    "![](figs/218.PNG)\n",
    "\n",
    "Here first we find I1, I2 then need to classify. When I1, I2 is classified it will fall under reject func cz its outside the box.\n",
    "\n",
    "![](figs/219.PNG)"
   ]
  },
  {
   "cell_type": "markdown",
   "id": "5da31d82-05aa-4291-839c-75a4ddb54ced",
   "metadata": {},
   "source": [
    "**Step 3**\n",
    "\n",
    "**Finding intersection point's coordinates**\n",
    "\n",
    "Here we use end points to calculate intersection. Using the bit condition we get I1_x is xmin, I2_y is ymax, for point A we get the line will cut at ymax and xmax so there are two points A1 which y is ymax and A2 which x is xmax. Now back to I1, I2 we need to find y of I1 and x of I2. \n",
    "\n",
    "![](figs/220.PNG)\n",
    "\n",
    "\n",
    "Using this eqn we can get  y of I1 and x of I2. \n",
    "\n",
    "![](figs/221.PNG)\n",
    "\n",
    "![](figs/222.png)"
   ]
  },
  {
   "cell_type": "markdown",
   "id": "54f0cf2f-7306-4c85-bb0a-4121a376e934",
   "metadata": {},
   "source": [
    "# End of lecture!"
   ]
  }
 ],
 "metadata": {
  "kernelspec": {
   "display_name": "Python 3",
   "language": "python",
   "name": "python3"
  },
  "language_info": {
   "codemirror_mode": {
    "name": "ipython",
    "version": 3
   },
   "file_extension": ".py",
   "mimetype": "text/x-python",
   "name": "python",
   "nbconvert_exporter": "python",
   "pygments_lexer": "ipython3",
   "version": "3.8.8"
  }
 },
 "nbformat": 4,
 "nbformat_minor": 5
}
