{
 "cells": [
  {
   "cell_type": "markdown",
   "id": "8ec217e1-4168-449d-b0c9-152bb582403e",
   "metadata": {},
   "source": [
    "<div class=\"alert alert-success\">\n",
    "    <b>Author</b>:\n",
    "\n",
    "      Rashik Rahman\n",
    "      17201012@uap-bd.edu\n",
    "\n",
    "</div>\n",
    "\n",
    "**[Click here to see class lecture](https://drive.google.com/file/d/1alDheERHrZFtbx8iQq-tqdTpOJ3gQ5rl/view)**\n"
   ]
  },
  {
   "cell_type": "markdown",
   "id": "bd94db9e-53ff-4dbe-832c-19e3472c0602",
   "metadata": {},
   "source": [
    "![](figs/118.PNG)\n",
    "\n",
    "![](figs/119.PNG)\n",
    "\n",
    "![](figs/120.PNG)\n",
    "\n",
    "![](figs/121.PNG)\n",
    "\n",
    "Here S is scaling factor. first the object has to scaled down then it should be rotated. and for clockwise rotation we provide -90*. We normally/generally/frequently use right hand coordinate system and in right hand coordinate system anticlock wise is positive and clock wise rotation is negative.\n",
    "\n",
    "![](figs/122.PNG)\n",
    "\n",
    "![](figs/123.PNG)"
   ]
  },
  {
   "cell_type": "markdown",
   "id": "b993f046-dd01-4caf-b47b-ddeff837affa",
   "metadata": {},
   "source": [
    "![](figs/124.PNG)\n",
    "\n",
    "For 2D object matrix will be 3x3 and for 3D object matrix will be 4x4.\n",
    "\n",
    "![](figs/125.PNG)\n",
    "\n",
    "![](figs/126.PNG)\n",
    "\n",
    "Point doesnt have any shape thus scaling wont work on it. The smalles object that can be scaled is a line.\n",
    "\n",
    "![](figs/127.PNG)\n",
    "\n",
    "![](figs/128.PNG)\n",
    "\n",
    "![](figs/129.PNG)\n",
    "\n",
    "![](figs/130.PNG)\n",
    "\n",
    "In uniform scaling object is in middle and scales evenly, all edges values are equal. But in non uniform scaling it seems like translation and the values arent equal. This happens cz in uniform object's center is in kertesians coordinates origin.\n",
    " \n",
    "\n",
    "![](figs/131.PNG)\n",
    "\n",
    "![](figs/132.PNG)\n",
    "\n",
    "So to convert non-uniform to uniform you must translate that object to origin then apply scaling.\n",
    "\n",
    "![](figs/133.PNG)\n",
    "\n",
    "To do this first find the mid-point of the object here mid point is (2.5,1.5 {assumption}) Now from each point subtract this coordinate. Now the object is in origin so apply scaling and after that add this coordinate to each point so that the object returns to its original place and you get an uniform scaling.\n",
    "\n",
    "The following example is in world coordinate system as we are multiplying from right to left. If we multiplied left to right then it would be object coordinate, **in that case the eqn would be obj * T1 * T2 * T3 and T1, T3 would the transpose of the following figs.**\n",
    "\n",
    "![](figs/134.PNG)\n",
    "\n",
    "![](figs/135.PNG)"
   ]
  },
  {
   "cell_type": "markdown",
   "id": "8f7d87c8-6fa4-4568-b590-117451f8ba4a",
   "metadata": {},
   "source": [
    "# End of lecture!"
   ]
  }
 ],
 "metadata": {
  "kernelspec": {
   "display_name": "Python 3",
   "language": "python",
   "name": "python3"
  },
  "language_info": {
   "codemirror_mode": {
    "name": "ipython",
    "version": 3
   },
   "file_extension": ".py",
   "mimetype": "text/x-python",
   "name": "python",
   "nbconvert_exporter": "python",
   "pygments_lexer": "ipython3",
   "version": "3.8.8"
  }
 },
 "nbformat": 4,
 "nbformat_minor": 5
}
