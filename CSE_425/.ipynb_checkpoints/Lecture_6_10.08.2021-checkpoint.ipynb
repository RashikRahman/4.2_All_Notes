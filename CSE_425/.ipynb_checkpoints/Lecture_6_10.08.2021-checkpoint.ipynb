{
 "cells": [
  {
   "cell_type": "markdown",
   "metadata": {},
   "source": [
    "<div class=\"alert alert-success\">\n",
    "    <b>Author</b>:\n",
    "\n",
    "      Rashik Rahman\n",
    "      17201012@uap-bd.edu\n",
    "\n",
    "</div>\n",
    "\n",
    "**[Click here to see class lecture](https://drive.google.com/file/d/14C4siM7g-7XgOo4rPIV3rZnCOMlkDaY9/view)**\n"
   ]
  },
  {
   "cell_type": "markdown",
   "metadata": {},
   "source": [
    "Affine combination of barycentric.\n",
    "\n",
    "![](figs/78.PNG)\n",
    "\n",
    "Here considering point a as origin we can find the color of a point C within the triangle. as color information are in RGB values so we need to calculate $C_R$, $C_G$, $C_B$.\n",
    "\n",
    "![](figs/79.PNG)\n",
    "\n",
    "![](figs/80.PNG)\n",
    "\n",
    "![](figs/81.PNG)\n",
    "\n",
    "If 3D then we need to calculate $P_Z$\n",
    "\n",
    "![](figs/82.PNG)\n",
    "\n",
    "If alpha is zero then the point will be on line b,c if beta is zero then point will be on line a,c and if two weights i.e alpha,beta are zero then we'll get the vertice c cz then gamma value will be 1 \n",
    "(as alpha+beta+gamma=1).\n",
    "\n",
    "![](figs/83.PNG)"
   ]
  },
  {
   "cell_type": "markdown",
   "metadata": {},
   "source": [
    "**This block is just for revisiting matrix multiplication operations, it wont come is exam but you should know how to multiply matrix thus these are added**\n",
    "\n",
    "![](figs/84.PNG)\n",
    "\n",
    "![](figs/85.PNG)\n",
    "\n",
    "![](figs/86.PNG)\n",
    "\n",
    "![](figs/87.PNG)\n",
    "\n",
    "![](figs/88.PNG)\n",
    "\n",
    "![](figs/89.PNG)\n",
    "\n",
    "![](figs/90.PNG)\n",
    "\n",
    "![](figs/91.PNG)\n",
    "\n",
    "![](figs/92.PNG)\n",
    "\n",
    "![](figs/93.PNG)\n",
    "\n",
    "![](figs/94.PNG)\n",
    "\n",
    "![](figs/95.PNG)\n",
    "\n",
    "![](figs/96.PNG)\n",
    "\n",
    "**End of revisiting**"
   ]
  },
  {
   "cell_type": "markdown",
   "metadata": {},
   "source": [
    "\n",
    "\n",
    "![](figs/97.PNG)\n",
    "\n",
    "![](figs/98.PNG)\n",
    "\n",
    "In general we can use interpolation (i.e. Affine combination) and approximation to generate splines.\n",
    "\n",
    "![](figs/99.PNG)\n",
    "\n",
    "![](figs/100.PNG)\n",
    "\n",
    "In bezier there are some control points which controls the curvature like when p2 is dragged above we get an agressive curve.\n",
    "\n",
    "![](figs/101.PNG)\n",
    "\n",
    "![](figs/102.PNG)\n",
    "\n",
    "![](figs/103.PNG)"
   ]
  },
  {
   "cell_type": "markdown",
   "metadata": {},
   "source": [
    "\n",
    "\n",
    "![](figs/104.PNG)\n",
    "\n",
    "![](figs/105.PNG)\n",
    "\n",
    "This is how we can divide using bounding box and mid point ($a_m$). Both curve share the mid point thus the curve is smooth no sharp edge. \n",
    "\n",
    "![](figs/106.PNG)"
   ]
  },
  {
   "cell_type": "markdown",
   "metadata": {},
   "source": [
    "# End of lecture!"
   ]
  }
 ],
 "metadata": {
  "kernelspec": {
   "display_name": "Python 3",
   "language": "python",
   "name": "python3"
  },
  "language_info": {
   "codemirror_mode": {
    "name": "ipython",
    "version": 3
   },
   "file_extension": ".py",
   "mimetype": "text/x-python",
   "name": "python",
   "nbconvert_exporter": "python",
   "pygments_lexer": "ipython3",
   "version": "3.8.5"
  }
 },
 "nbformat": 4,
 "nbformat_minor": 4
}
