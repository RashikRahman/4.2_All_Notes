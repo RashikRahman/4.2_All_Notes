{
 "cells": [
  {
   "cell_type": "markdown",
   "id": "6c8f1db3-64e6-4bd9-b1d5-c3d0c92fbc03",
   "metadata": {},
   "source": [
    "<div class=\"alert alert-success\">\n",
    "    <b>Author</b>:\n",
    "\n",
    "      Rashik Rahman\n",
    "      17201012@uap-bd.edu\n",
    "\n",
    "</div>\n",
    "\n",
    "**[Click here to see class lecture](https://drive.google.com/file/d/1ZyCildjxBUnA_wdcKuqKvUCRPJlAtAcX/view)**\n",
    "\n"
   ]
  },
  {
   "cell_type": "code",
   "execution_count": 1,
   "id": "496517a2-0036-4f3d-8286-aef9f616b574",
   "metadata": {},
   "outputs": [
    {
     "data": {
      "text/html": [
       "\n",
       "<iframe src=\"https://drive.google.com/file/d/1ZyCildjxBUnA_wdcKuqKvUCRPJlAtAcX/preview\" width=\"640\" height=\"480\" allow=\"autoplay\"></iframe>\n"
      ],
      "text/plain": [
       "<IPython.core.display.HTML object>"
      ]
     },
     "metadata": {},
     "output_type": "display_data"
    }
   ],
   "source": [
    "%%html\n",
    "\n",
    "<iframe src=\"https://drive.google.com/file/d/1ZyCildjxBUnA_wdcKuqKvUCRPJlAtAcX/preview\" width=\"640\" height=\"480\" allow=\"autoplay\"></iframe>"
   ]
  },
  {
   "cell_type": "markdown",
   "id": "cffae748-25c8-4b72-aa99-1289453efe9b",
   "metadata": {},
   "source": [
    "# Clipping in 3D"
   ]
  },
  {
   "cell_type": "markdown",
   "id": "5fb835e0-9169-4aea-8ecc-42b27cae73b8",
   "metadata": {},
   "source": [
    "## Liang Barsky Algo"
   ]
  },
  {
   "cell_type": "markdown",
   "id": "2b7f42f2-af3a-446d-97d7-d826467f0964",
   "metadata": {},
   "source": [
    "\n",
    "\n",
    "in 3D we need to use 6bit for coordinates.\n",
    "\n",
    "![](figs/225.PNG)\n",
    "\n",
    "In liang barsky algo instead of using bit they use surface normal for localizing coordinates.\n",
    "\n",
    "![](figs/226.PNG)\n",
    "\n",
    "Surface normal is a vector that is perpendicular to a line/vector on a surface. Cos90 is 0 so the whole becomes 0. If 0 then two vectors are perpendicular to each other. Surface normal will tell if the position is insode or outside of the 3D viewbox.\n",
    "\n",
    "![](figs/227.PNG)\n",
    "\n",
    "Now if the surface normal is n_bar then if a point will be inside the surface if the angle theta between surface normal and that point is less then 90 and greater than 0. If 90 then the point will be on the surface. Here angle between point Q and n_bar is less than 90 thus Q is inside the surface and the dot product will be greater than 0. \n",
    "\n",
    "![](figs/228.PNG)\n",
    "\n",
    "If the angle is greater than 90 and dot product value is less then 0 then the point is outside the surface.\n",
    "\n",
    "![](figs/229.PNG)\n",
    "\n",
    "\n",
    "When dot product is equal to 0 then the point is on the surface. \n",
    "\n",
    "![](figs/230.PNG)"
   ]
  },
  {
   "cell_type": "markdown",
   "id": "9e9bf33e-25f8-4741-a875-79b9bab5b25e",
   "metadata": {},
   "source": [
    "## Sultherland-Hodgman Algo"
   ]
  },
  {
   "cell_type": "markdown",
   "id": "1a70d8d6-d27f-47cd-a8e8-5cbdb3f0cfe2",
   "metadata": {},
   "source": [
    "Till now we seen line clipping but for polygon clipping Sultherland-Hodgman Algo is used.\n",
    "\n",
    "We use edges of window/box and vectors/points of polygon to clip. 1st we take edge e1 and clip the polygon and keep track of which points inside and outside of e1 using two arrays. v1,v5,v4 is in inside array anr v2,v6,v3 are in outside array. Now v1v2 line intersects e1 at some point I1, I1 will be in both inside and outside array. same goes for v3v4 and I2, v5v6 and I3, v1v6 and I4. Now outside array is clipped as they aren't inside the window.\n",
    "\n",
    "![](figs/231.PNG)\n",
    "\n",
    "Now we repeat the whole process with respect to edge e2 and use inside array as input and make new inside and outside array. Now for I3I2 we get intersection I5, where I3 is inside and I2 is outside, from v4v5 we get I6. Then repeat for e3 and you'll get result.\n",
    "\n",
    "![](figs/232.PNG)\n",
    "\n",
    "![](figs/233.PNG)\n",
    "\n",
    "![](figs/234.PNG)\n",
    "\n",
    "![](figs/235.PNG)\n",
    "\n",
    "**Practice 5.6, 5.8, 5.9 page 105 of book computer_graphics_schaum_series book**"
   ]
  },
  {
   "cell_type": "markdown",
   "id": "83405693-68a8-41fc-87e8-4495cf1ee2dc",
   "metadata": {},
   "source": [
    "# End of lecture!"
   ]
  }
 ],
 "metadata": {
  "kernelspec": {
   "display_name": "Python 3",
   "language": "python",
   "name": "python3"
  },
  "language_info": {
   "codemirror_mode": {
    "name": "ipython",
    "version": 3
   },
   "file_extension": ".py",
   "mimetype": "text/x-python",
   "name": "python",
   "nbconvert_exporter": "python",
   "pygments_lexer": "ipython3",
   "version": "3.8.8"
  }
 },
 "nbformat": 4,
 "nbformat_minor": 5
}
