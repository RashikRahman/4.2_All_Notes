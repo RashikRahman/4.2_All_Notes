{
 "cells": [
  {
   "cell_type": "markdown",
   "id": "920e2777-4db8-48ce-9acc-2ab47d722ab0",
   "metadata": {},
   "source": [
    "<div class=\"alert alert-success\">\n",
    "    <b>Author</b>:\n",
    "\n",
    "      Rashik Rahman\n",
    "      17201012@uap-bd.edu\n",
    "\n",
    "</div>\n",
    "\n",
    "**[Click here to see class lecture](https://drive.google.com/file/d/1nCutZ8kWOkLaPmcT-4g1KxVDvwwWe-ry/view?usp=drivesdk)**\n"
   ]
  },
  {
   "cell_type": "markdown",
   "id": "9a84f002-8146-4624-bc5b-729a8db1ab33",
   "metadata": {},
   "source": []
  },
  {
   "cell_type": "markdown",
   "id": "1fe61e46-a0b2-4032-9890-e7da62c008ac",
   "metadata": {},
   "source": []
  }
 ],
 "metadata": {
  "kernelspec": {
   "display_name": "Python 3",
   "language": "python",
   "name": "python3"
  },
  "language_info": {
   "codemirror_mode": {
    "name": "ipython",
    "version": 3
   },
   "file_extension": ".py",
   "mimetype": "text/x-python",
   "name": "python",
   "nbconvert_exporter": "python",
   "pygments_lexer": "ipython3",
   "version": "3.8.8"
  }
 },
 "nbformat": 4,
 "nbformat_minor": 5
}
