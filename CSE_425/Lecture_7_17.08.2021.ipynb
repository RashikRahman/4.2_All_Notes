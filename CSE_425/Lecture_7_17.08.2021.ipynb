{
 "cells": [
  {
   "cell_type": "markdown",
   "metadata": {},
   "source": [
    "<div class=\"alert alert-success\">\n",
    "    <b>Author</b>:\n",
    "\n",
    "      Rashik Rahman\n",
    "      17201012@uap-bd.edu\n",
    "\n",
    "</div>\n",
    "\n",
    "**[Click here to see class lecture](https://drive.google.com/file/d/1vkU3vRNvBLLq1vnc9_szSRwEMG0JlQ6I/view)**\n"
   ]
  },
  {
   "cell_type": "markdown",
   "metadata": {},
   "source": [
    "![](figs/107.PNG)\n",
    "\n",
    "When two curves are connected the smoothnes/continuity of surface depends on order of continuity. ie C0, C1 etc.\n",
    "\n",
    "- C0: Here when we calculate the tangent of two curves in their connection point we'll see that the value of tangent (vector(direction and derivatives)) aren't same. Thus it has a sharp kink.\n",
    "\n",
    "- G1: Direction of both tangents are same but magnitude isn't same.\n",
    "- C1: Direction of both tangents are same.\n",
    "- C2 : derivatives also same\n",
    "- C3 : 2nd derivatives also same\n",
    "- Cm : m-1 derivatives also same.\n",
    "\n",
    "![](figs/108.PNG)\n",
    "\n",
    "We need four control points for bezier curve where there would be two end points and the curve will be interpolated between the end points and approximate the end points. Doing subdivision of bezier curve it can be smoothened. Using b-splines we can have several variation of divided curves to make a whole single curve. b-splies provide more control so you can have several variation of curves.\n",
    "\n",
    "![](figs/109.PNG)\n",
    "\n",
    "![](figs/110.PNG)\n",
    "\n",
    "B-splines variation funciton. These add up to 1 so its also a affine combination.\n",
    "\n",
    "![](figs/111.PNG)\n",
    "\n",
    "![](figs/112.PNG)"
   ]
  },
  {
   "cell_type": "markdown",
   "metadata": {},
   "source": [
    "\n",
    "\n",
    "![](figs/113.PNG)\n",
    "\n",
    "subdivision surface algo is sometimes called corner cutting algo. \n",
    "\n",
    "![](figs/114.PNG)\n",
    "\n",
    "![](figs/115.PNG)\n",
    "\n",
    "![](figs/116.PNG)\n",
    "\n",
    "![](figs/117.PNG)"
   ]
  },
  {
   "cell_type": "markdown",
   "metadata": {},
   "source": [
    "# End of lecture!"
   ]
  }
 ],
 "metadata": {
  "kernelspec": {
   "display_name": "Python 3",
   "language": "python",
   "name": "python3"
  },
  "language_info": {
   "codemirror_mode": {
    "name": "ipython",
    "version": 3
   },
   "file_extension": ".py",
   "mimetype": "text/x-python",
   "name": "python",
   "nbconvert_exporter": "python",
   "pygments_lexer": "ipython3",
   "version": "3.8.8"
  }
 },
 "nbformat": 4,
 "nbformat_minor": 4
}
