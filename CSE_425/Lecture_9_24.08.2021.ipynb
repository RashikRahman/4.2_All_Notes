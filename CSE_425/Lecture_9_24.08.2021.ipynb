{
 "cells": [
  {
   "cell_type": "markdown",
   "id": "d61d9d84-03c3-4dfc-96b6-6f38cf4ef32f",
   "metadata": {},
   "source": [
    "<div class=\"alert alert-success\">\n",
    "    <b>Author</b>:\n",
    "\n",
    "      Rashik Rahman\n",
    "      17201012@uap-bd.edu\n",
    "\n",
    "</div>\n",
    "\n",
    "**[Click here to see class lecture](https://drive.google.com/file/d/1o50NlVW4FcEi9MuqHFynBVqxGghWlno2/view)**\n"
   ]
  },
  {
   "cell_type": "markdown",
   "id": "57640b97-6db9-4745-ad7d-bf544188b206",
   "metadata": {},
   "source": [
    "In uniform scaling you must scale with respect to one point either midpoint or one point of the object.\n",
    "\n",
    "![](figs/136.PNG)\n",
    "\n",
    "![](figs/137.PNG)\n",
    "\n",
    "**Simplified**\n",
    "\n",
    "![](figs/138.PNG)\n",
    "\n",
    "![](figs/139.PNG)\n",
    "\n",
    "![](figs/140.PNG)\n",
    "\n",
    "![](figs/141.PNG)\n",
    "\n",
    "![](figs/142.PNG)\n",
    "\n",
    "![](figs/143.PNG)\n",
    "\n",
    "![](figs/144.PNG)\n",
    "\n",
    "![](figs/145.PNG)"
   ]
  },
  {
   "cell_type": "markdown",
   "id": "c0dc6449-9c61-4556-adf5-ce3d0d5a9e5a",
   "metadata": {},
   "source": [
    "These are linear transformation cz these operations(rotation, scaling, reflection, shear) happens in vector space means operation between vectors. And when operation happens in vector space the operation follows the given rule in this fig.\n",
    "\n",
    "![](figs/146.PNG)\n",
    "\n",
    "Here we cant see translation operation cz in translation we get a new point by adding point with vector and in vector space you need to do operation between vectors. So translation happens in affine space.\n",
    "\n",
    "![](figs/147.PNG)\n",
    "\n",
    "![](figs/148.PNG)\n",
    "\n",
    "**Affine space/combination is different from affine transformation**. Affine transformation includes all linear transformation plua translation.\n",
    "\n",
    "![](figs/149.PNG)"
   ]
  },
  {
   "cell_type": "markdown",
   "id": "f57ffde8-a15d-4815-bda4-c892c088d9f2",
   "metadata": {},
   "source": [
    "\n",
    "\n",
    "![](figs/150.PNG)\n",
    "\n",
    "Matrix multiplication is not commutative, meaning AB is not equal BA. so **we need to maintain order.** So this multiiplication order will be in world coordinate its right to left and in object coordinate its left to right.\n",
    "\n",
    "**In xm you have to mention your order/direction if not given. e.g \"I assume that i am working on the object coordinate thus i am multiplying the matrix from left to right\". But if direction in mentioned in  xm you have to maintain that direcion. e.g do operation in world coordinate mentioned in qs, so you have to first scale then translate.**\n",
    "\n",
    "![](figs/151.PNG)\n",
    "\n",
    "Example of world coordinate and object coordinate.\n",
    "\n",
    "![](figs/152.PNG)\n",
    "\n",
    "![](figs/153.PNG)"
   ]
  },
  {
   "cell_type": "markdown",
   "id": "3dc46890-2453-4c97-bb1b-46db96a1459c",
   "metadata": {},
   "source": [
    "# End of lecture!"
   ]
  }
 ],
 "metadata": {
  "kernelspec": {
   "display_name": "Python 3",
   "language": "python",
   "name": "python3"
  },
  "language_info": {
   "codemirror_mode": {
    "name": "ipython",
    "version": 3
   },
   "file_extension": ".py",
   "mimetype": "text/x-python",
   "name": "python",
   "nbconvert_exporter": "python",
   "pygments_lexer": "ipython3",
   "version": "3.8.8"
  }
 },
 "nbformat": 4,
 "nbformat_minor": 5
}
